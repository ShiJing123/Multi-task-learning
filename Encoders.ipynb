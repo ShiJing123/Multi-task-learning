{
 "cells": [
  {
   "cell_type": "code",
   "execution_count": 2,
   "metadata": {
    "collapsed": false
   },
   "outputs": [
    {
     "name": "stdout",
     "output_type": "stream",
     "text": [
      "[name: \"/device:CPU:0\"\n",
      "device_type: \"CPU\"\n",
      "memory_limit: 268435456\n",
      "locality {\n",
      "}\n",
      "incarnation: 14074724032920408977\n",
      "]\n"
     ]
    }
   ],
   "source": [
    "import numpy as np\n",
    "import sklearn\n",
    "from scipy.stats.stats import pearsonr\n",
    "import pickle\n",
    "import pandas as pd\n",
    "from scipy.cluster.vq import whiten\n",
    "from sklearn import cluster\n",
    "from sklearn import manifold\n",
    "from sklearn.decomposition import PCA\n",
    "from sklearn import decomposition\n",
    "import matplotlib.pyplot as plt\n",
    "import urllib\n",
    "from numpy import isnan, nan, logical_not, logical_or\n",
    "import tensorflow as tf\n",
    "from sklearn.cross_decomposition import CCA\n",
    "from sklearn.decomposition import PCA, KernelPCA\n",
    "from sklearn.datasets import make_circles\n",
    "from numpy import genfromtxt\n",
    "from random import shuffle\n",
    "import os\n",
    "os.environ[\"CUDA_DEVICE_ORDER\"]=\"PCI_BUS_ID\"   \n",
    "os.environ[\"CUDA_VISIBLE_DEVICES\"]=\"0\"\n",
    "from tensorflow.python.client import device_lib\n",
    "print(device_lib.list_local_devices())"
   ]
  },
  {
   "cell_type": "markdown",
   "metadata": {},
   "source": [
    "# Get the data"
   ]
  },
  {
   "cell_type": "code",
   "execution_count": 2,
   "metadata": {
    "collapsed": true
   },
   "outputs": [],
   "source": [
    "Count_full = np.array([22310,  3960,  3500,  1770,  3172,  3710,  2390,  1470,  1230,\n",
    "        2150,  2380,  5722,  1924,  1920,  3532,  2600,  2264,  6910,\n",
    "        6520,  4344,  1310,  1150,  2714,  2380,  2712,  6224,  2318,\n",
    "        2636,  2646,  1410,  1410,  2950,  1410,  1100,  1240,  1310,\n",
    "        1580,  1790,  1724,  2042,  1860,  1010,  1528,  5462,  5720,\n",
    "        2778,  1408,  6330,  2040,  4960,  1660,  1570,  1450,  1090,\n",
    "        4632,  1438,  1418,  3300,  1220,  3624,  1400,  1524,  1160,\n",
    "        3486,  2030,  2200,  2694,  5750,  1522,  1950,  1280,  1910,  5834])"
   ]
  },
  {
   "cell_type": "code",
   "execution_count": 3,
   "metadata": {
    "collapsed": true
   },
   "outputs": [],
   "source": [
    "length_folders = np.array([10, 13, 20, 14, 16])"
   ]
  },
  {
   "cell_type": "code",
   "execution_count": 53,
   "metadata": {
    "collapsed": false
   },
   "outputs": [
    {
     "name": "stdout",
     "output_type": "stream",
     "text": [
      "(213072, 68, 2)\n",
      "(213072, 136)\n"
     ]
    }
   ],
   "source": [
    "full_data_x = pickle.load(open(\"Full_data_x.p\", \"rb\" ))\n",
    "print(full_data_x.shape)\n",
    "full_data_x = np.reshape(full_data_x, (full_data_x.shape[0],full_data_x.shape[1]*full_data_x.shape[2]))\n",
    "print(full_data_x.shape)"
   ]
  },
  {
   "cell_type": "code",
   "execution_count": 50,
   "metadata": {
    "collapsed": false
   },
   "outputs": [
    {
     "name": "stdout",
     "output_type": "stream",
     "text": [
      "(106536, 196)\n"
     ]
    }
   ],
   "source": [
    "data_x = pickle.load( open( \"data_x.p\", \"rb\" ))\n",
    "print(data_x.shape)"
   ]
  },
  {
   "cell_type": "code",
   "execution_count": 5,
   "metadata": {
    "collapsed": false
   },
   "outputs": [
    {
     "name": "stdout",
     "output_type": "stream",
     "text": [
      "(73,)\n"
     ]
    }
   ],
   "source": [
    "annotation_vector_Two = pickle.load( open( \"annotation_vector_Two.p\", \"rb\" ))\n",
    "print(annotation_vector_Two.shape)"
   ]
  },
  {
   "cell_type": "markdown",
   "metadata": {},
   "source": [
    "# Scale the data"
   ]
  },
  {
   "cell_type": "code",
   "execution_count": 6,
   "metadata": {
    "collapsed": false
   },
   "outputs": [
    {
     "name": "stderr",
     "output_type": "stream",
     "text": [
      "C:\\Users\\pinouche\\Anaconda3\\lib\\site-packages\\sklearn\\utils\\validation.py:429: DataConversionWarning: Data with input dtype <U7 was converted to float64 by the scale function.\n",
      "  warnings.warn(msg, _DataConversionWarning)\n"
     ]
    }
   ],
   "source": [
    "# get the participants separated\n",
    "\n",
    "from sklearn import preprocessing\n",
    "\n",
    "data_participant1 = data_x[:,:98]\n",
    "data_participant2 = data_x[:,98:]\n",
    "participant1_scaled = preprocessing.scale(data_participant1)\n",
    "participant2_scaled = preprocessing.scale(data_participant2)\n",
    "data_x = preprocessing.scale(data_x)"
   ]
  },
  {
   "cell_type": "markdown",
   "metadata": {},
   "source": [
    "# Smooth the response data"
   ]
  },
  {
   "cell_type": "code",
   "execution_count": 7,
   "metadata": {
    "collapsed": true
   },
   "outputs": [],
   "source": [
    "from astropy.convolution import convolve, Gaussian1DKernel, Box1DKernel\n",
    "\n",
    "def SmoothResponse(response_list = annotation_vector_Two):\n",
    "    length = len(annotation_vector_Two)\n",
    "    gauss_kernel_40 = Gaussian1DKernel(25)\n",
    "    gauss_kernel_50 = Gaussian1DKernel(50)\n",
    "    gauss_kernel_75 = Gaussian1DKernel(75)\n",
    "    gauss_kernel_100 = Gaussian1DKernel(100)\n",
    "    annotation_RBF40 = []\n",
    "    annotation_RBF50 = []\n",
    "    annotation_RBF75 = []\n",
    "    annotation_RBF100 = []\n",
    "    for index in range(length):\n",
    "        response_list[index] = np.reshape(response_list[index], (response_list[index].shape[0],))\n",
    "        \n",
    "        Ann40 = convolve(response_list[index], gauss_kernel_40)\n",
    "        Ann40[response_list[index].shape[0]-100:,] = response_list[index][response_list[index].shape[0]-100:]\n",
    "        Ann40 = np.reshape(Ann40, (response_list[index].shape[0],1))\n",
    "        \n",
    "        Ann50 = convolve(response_list[index], gauss_kernel_50)\n",
    "        Ann50[response_list[index].shape[0]-100:,] = response_list[index][response_list[index].shape[0]-100:]\n",
    "        Ann50 = np.reshape(Ann50, (response_list[index].shape[0],1))\n",
    "        \n",
    "        Ann75 = convolve(response_list[index], gauss_kernel_75)\n",
    "        Ann75[response_list[index].shape[0]-100:,] = response_list[index][response_list[index].shape[0]-100:]\n",
    "        Ann75 = np.reshape(Ann75, (response_list[index].shape[0],1))\n",
    "        \n",
    "        Ann100 = convolve(response_list[index], gauss_kernel_100)\n",
    "        Ann100[response_list[index].shape[0]-100:,] = response_list[index][response_list[index].shape[0]-100:]\n",
    "        Ann100 = np.reshape(Ann100, (response_list[index].shape[0],1))\n",
    "    \n",
    "        annotation_RBF40.append(Ann40)\n",
    "        annotation_RBF50.append(Ann50)\n",
    "        annotation_RBF75.append(Ann75)\n",
    "        annotation_RBF100.append(Ann100)\n",
    "           \n",
    "    return annotation_RBF40, annotation_RBF50, annotation_RBF75, annotation_RBF100 "
   ]
  },
  {
   "cell_type": "code",
   "execution_count": 8,
   "metadata": {
    "collapsed": false
   },
   "outputs": [
    {
     "name": "stdout",
     "output_type": "stream",
     "text": [
      "[73, 73, 73, 73]\n",
      "[(11155, 1), (11155, 1), (11155, 1), (11155, 1)]\n"
     ]
    }
   ],
   "source": [
    "annotation_RBF40, annotation_RBF50, annotation_RBF75, annotation_RBF100 = SmoothResponse()\n",
    "print([len(annotation_RBF40), len(annotation_RBF50), len(annotation_RBF75), len(annotation_RBF100)])\n",
    "print([annotation_RBF40[0].shape, annotation_RBF50[0].shape, annotation_RBF75[0].shape, annotation_RBF100[0].shape])"
   ]
  },
  {
   "cell_type": "code",
   "execution_count": 9,
   "metadata": {
    "collapsed": false
   },
   "outputs": [
    {
     "data": {
      "image/png": "[encoded data removed]",
      "text/plain": [
       "<matplotlib.figure.Figure at 0x225f8f45b38>"
      ]
     },
     "metadata": {},
     "output_type": "display_data"
    }
   ],
   "source": [
    "# Plot a few video sequences to see if smoothing is justified\n",
    "\n",
    "fig = plt.figure(figsize=(17, 6))\n",
    "plt.plot(annotation_vector_Two[0])\n",
    "plt.plot(annotation_RBF100[0])\n",
    "plt.plot(annotation_RBF40[0])\n",
    "plt.title('True labels')\n",
    "plt.ylabel('Conflict intensity')\n",
    "plt.xlabel('Frames')\n",
    "plt.legend(['True labels'], loc='upper left')\n",
    "plt.show()"
   ]
  },
  {
   "cell_type": "markdown",
   "metadata": {},
   "source": [
    "# Prepare data to be fed"
   ]
  },
  {
   "cell_type": "code",
   "execution_count": 10,
   "metadata": {
    "collapsed": true
   },
   "outputs": [],
   "source": [
    "def Makelist(data,Count):\n",
    "    Count = Count/2\n",
    "    list_data = []\n",
    "    ball = 0\n",
    "    for index in range(0,len(Count)):\n",
    "        list_data.append(data[ball:(ball+int(Count[index])),:])\n",
    "        ball += int(Count[index])\n",
    "    return(np.asarray(list_data))"
   ]
  },
  {
   "cell_type": "code",
   "execution_count": 11,
   "metadata": {
    "collapsed": true
   },
   "outputs": [],
   "source": [
    "list_data_x = Makelist(data_x, Count_full)"
   ]
  },
  {
   "cell_type": "code",
   "execution_count": 13,
   "metadata": {
    "collapsed": false
   },
   "outputs": [],
   "source": [
    "# put the things into FOLDS\n",
    "\n",
    "def DoFOLDS(list_data, annotation_list_smooth, annotation_list, num_folder1=length_folders[0], num_folder2=length_folders[1], num_folder3=length_folders[2], num_folder4=length_folders[3], num_folder5=length_folders[4]):\n",
    "    Fold1 = []\n",
    "    Fold2 = []\n",
    "    Fold3 = []\n",
    "    Fold4 = []\n",
    "    Fold5 = []\n",
    "    Fold1_y_smooth = []\n",
    "    Fold2_y_smooth = []\n",
    "    Fold3_y_smooth = []\n",
    "    Fold4_y_smooth = []\n",
    "    Fold5_y_smooth = []\n",
    "    Fold1_y = []\n",
    "    Fold2_y = []\n",
    "    Fold3_y = []\n",
    "    Fold4_y = []\n",
    "    Fold5_y = []\n",
    "    \n",
    "    for index in range(num_folder1):\n",
    "        Fold1.append(list_data[index])\n",
    "        Fold1_y_smooth.append(annotation_list_smooth[index])\n",
    "        Fold1_y.append(annotation_list[index])\n",
    "    for index in range(num_folder1, num_folder1+num_folder2):\n",
    "        Fold2.append(list_data[index])\n",
    "        Fold2_y_smooth.append(annotation_list_smooth[index])\n",
    "        Fold2_y.append(annotation_list[index])\n",
    "    for index in range(num_folder1+num_folder2,num_folder1+num_folder2+num_folder3):\n",
    "        Fold3.append(list_data[index])\n",
    "        Fold3_y_smooth.append(annotation_list_smooth[index])\n",
    "        Fold3_y.append(annotation_list[index])\n",
    "    for index in range(num_folder1+num_folder2+num_folder3,num_folder1+num_folder2+num_folder3+num_folder4):\n",
    "        Fold4.append(list_data[index])\n",
    "        Fold4_y.append(annotation_list[index])\n",
    "        Fold4_y_smooth.append(annotation_list_smooth[index])\n",
    "    for index in range(num_folder1+num_folder2+num_folder3+num_folder4,num_folder1+num_folder2+num_folder3+num_folder4+num_folder5):\n",
    "        Fold5.append(list_data[index])\n",
    "        Fold5_y_smooth.append(annotation_list_smooth[index])\n",
    "        Fold5_y.append(annotation_list[index])\n",
    "    \n",
    "    assert (len(Fold1)+len(Fold2)+len(Fold3)+len(Fold4)+len(Fold5)) == 73\n",
    "    \n",
    "    return Fold1, Fold2, Fold3, Fold4, Fold5, Fold1_y_smooth, Fold2_y_smooth, Fold3_y_smooth, Fold4_y_smooth, Fold5_y_smooth, Fold1_y, Fold2_y, Fold3_y, Fold4_y, Fold5_y\n",
    "\n",
    "Fold1, Fold2, Fold3, Fold4, Fold5, Fold1_y_smooth, Fold2_y_smooth, Fold3_y_smooth, Fold4_y_smooth, Fold5_y_smooth, Fold1_y, Fold2_y, Fold3_y, Fold4_y, Fold5_y = DoFOLDS(list_data_x, annotation_RBF40, annotation_vector_Two)"
   ]
  },
  {
   "cell_type": "code",
   "execution_count": 14,
   "metadata": {
    "collapsed": true
   },
   "outputs": [],
   "source": [
    "#Test number must be either 1,2,3,4,5\n",
    "\n",
    "def MakeTrainValTest(test_number, Fold1=Fold1, Fold2=Fold2, Fold3=Fold3, Fold4=Fold4, Fold5=Fold5, Fold1_y=Fold1_y, Fold2_y=Fold2_y, Fold3_y=Fold3_y, Fold4_y=Fold4_y, Fold5_y=Fold5_y, Fold1_y_smooth=Fold1_y_smooth, Fold2_y_smooth=Fold2_y_smooth, Fold3_y_smooth=Fold3_y_smooth, Fold4_y_smooth=Fold4_y_smooth, Fold5_y_smooth=Fold5_y_smooth):\n",
    "    list_Folds = list([Fold1, Fold2, Fold3, Fold4, Fold5])\n",
    "    list_Folds_y = list([Fold1_y, Fold2_y, Fold3_y, Fold4_y, Fold5_y])\n",
    "    list_Folds_y_smooth = list([Fold1_y_smooth, Fold2_y_smooth, Fold3_y_smooth, Fold4_y_smooth, Fold5_y_smooth])\n",
    "    number_val_test = []\n",
    "    Train_list = []\n",
    "    Val_list = []\n",
    "    Test_list = []\n",
    "    Train_list_y = []\n",
    "    Val_list_y = []\n",
    "    Test_list_y = []\n",
    "    length = 0\n",
    "    \n",
    "    Test_list = list_Folds[test_number-1]\n",
    "    Test_list_y = list_Folds_y[test_number-1]\n",
    "    number_val_test.append(test_number-1)\n",
    "    \n",
    "    if(test_number == 1):\n",
    "        Val_list = list_Folds[4]\n",
    "        Val_list_y = list_Folds_y[4]\n",
    "        number_val_test.append(4)\n",
    "    else:\n",
    "        Val_list = list_Folds[test_number-2]\n",
    "        Val_list_y = list_Folds_y[test_number-2]\n",
    "        number_val_test.append(test_number-2)\n",
    "    \n",
    "    for index in range(5):\n",
    "        length = len(list_Folds[index])\n",
    "        if(index != number_val_test[0] and index != number_val_test[1]):\n",
    "            for index2 in range(length):\n",
    "                Train_list.append(list_Folds[index][index2])\n",
    "                Train_list_y.append(list_Folds_y_smooth[index][index2])       \n",
    "    \n",
    "    return Train_list, Val_list, Test_list, Train_list_y, Val_list_y, Test_list_y "
   ]
  },
  {
   "cell_type": "code",
   "execution_count": 15,
   "metadata": {
    "collapsed": true
   },
   "outputs": [],
   "source": [
    "Train_list, Val_list, Test_list, Train_list_y, Val_list_y, Test_list_y = MakeTrainValTest(1)"
   ]
  },
  {
   "cell_type": "code",
   "execution_count": 374,
   "metadata": {
    "collapsed": true
   },
   "outputs": [],
   "source": [
    "# Make the Val_list_y of interest from above in 2 classes (low, medium, high) of conflict\n",
    "\n",
    "def MakeOneHot(val_list_y):\n",
    "    new_list = []\n",
    "    a = np.array([1,0])\n",
    "    b = np.array([0,1])\n",
    "    #c = np.array([0,0,1])\n",
    "    for index in range(len(val_list_y)):\n",
    "        for element in val_list_y[index]:\n",
    "            if(element <= 0.5):\n",
    "                new_list.append(a)\n",
    "            if(element > 0.5):\n",
    "                new_list.append(b)\n",
    "            #elif(element >= 2/3):\n",
    "            #    new_list.append(c)\n",
    "    return(new_list)"
   ]
  },
  {
   "cell_type": "code",
   "execution_count": 17,
   "metadata": {
    "collapsed": true
   },
   "outputs": [],
   "source": [
    "# function to compute the class accuracy\n",
    "\n",
    "def ComputeAccuracy(True_classes_list, predicted_classes_list):\n",
    "    accuracy = 0\n",
    "    assert len(True_classes_list) == len(predicted_classes_list)\n",
    "    for index in range(len(True_classes_list)):\n",
    "        if(all (True_classes_list[index] == predicted_classes_list[index])):\n",
    "            accuracy += 1\n",
    "    accuracy /= len(predicted_classes_list)\n",
    "    return(accuracy)"
   ]
  },
  {
   "cell_type": "code",
   "execution_count": 18,
   "metadata": {
    "collapsed": true
   },
   "outputs": [],
   "source": [
    "def MakeOneHotTrain(train_list_y):\n",
    "    new_list = []\n",
    "    final_list = []\n",
    "    a = np.array([1,0,0])\n",
    "    b = np.array([0,1,0])\n",
    "    c = np.array([0,0,1])\n",
    "    length = 0\n",
    "    count = 0\n",
    "    for index in range(len(train_list_y)):\n",
    "        length = len(train_list_y[index])\n",
    "        for element in train_list_y[index]:\n",
    "            if(element < 1/3):\n",
    "                new_list.append(a)\n",
    "            elif(element >= 1/3 and element < 2/3):\n",
    "                new_list.append(b)\n",
    "            elif(element >= 2/3):\n",
    "                new_list.append(c)\n",
    "        final_list.append(np.asarray(new_list[count:count+length]))\n",
    "        count += length\n",
    "    return(final_list)"
   ]
  },
  {
   "cell_type": "code",
   "execution_count": 19,
   "metadata": {
    "collapsed": true
   },
   "outputs": [],
   "source": [
    "def softmax(x):\n",
    "    e_x = np.exp(x - np.max(x))\n",
    "    return e_x / e_x.sum(axis=0)\n",
    "\n",
    "def SoftMaxFlatten(crocker):\n",
    "    finalList=[]\n",
    "    for element in crocker:\n",
    "        for sub_element in element:\n",
    "            smax=softmax(sub_element)\n",
    "            b = np.zeros_like(smax)\n",
    "            b[np.where(smax==np.max(smax))] = 1\n",
    "            finalList.append(b)\n",
    "            \n",
    "    return finalList"
   ]
  },
  {
   "cell_type": "code",
   "execution_count": 425,
   "metadata": {
    "collapsed": true
   },
   "outputs": [],
   "source": [
    "def PearsonCor(pred_val_list, val_list_y):\n",
    "    pearson_cor = 0\n",
    "    assert len(pred_val_list) == len(val_list_y)\n",
    "    for index in range(len(pred_val_list)):\n",
    "        pearson_cor += pearsonr(np.reshape(pred_val_list[index], (pred_val_list[index].shape[0],)), np.reshape(val_list_y[index], (val_list_y[index].shape[0],)))[0]\n",
    "    return(pearson_cor/len(pred_val_list)) "
   ]
  },
  {
   "cell_type": "code",
   "execution_count": 22,
   "metadata": {
    "collapsed": true
   },
   "outputs": [],
   "source": [
    "def exclude_nan(x,y):\n",
    "\n",
    "    idx = logical_not(logical_or(isnan(x), isnan(y)))\n",
    "    x = x[idx]\n",
    "    y = y[idx]\n",
    "    n = len(x)\n",
    "    return [x, y, n]\n",
    "\n",
    "def compute_icc(x, y):\n",
    "\n",
    "    if all(x == y):\n",
    "        return 1\n",
    "\n",
    "    [x, y, n] = exclude_nan(x,y)\n",
    "\n",
    "    ## Need at least 3 data points to compute this\n",
    "    if n < 3:\n",
    "        return nan\n",
    "\n",
    "    Sx = sum(x); Sy = sum(y);\n",
    "    Sxx = sum(x*x); Sxy = sum( (x+y)**2 )/2; Syy = sum(y*y)\n",
    "\n",
    "    fact = ((Sx + Sy)**2)/(n*2)\n",
    "    SS_tot = Sxx + Syy - fact\n",
    "    SS_among = Sxy - fact\n",
    "    SS_error = SS_tot - SS_among\n",
    "\n",
    "    MS_error = SS_error/n\n",
    "    MS_among = SS_among/(n-1)\n",
    "\n",
    "    ICC = (MS_among - MS_error) / (MS_among + MS_error)\n",
    "\n",
    "    return ICC"
   ]
  },
  {
   "cell_type": "markdown",
   "metadata": {},
   "source": [
    "# Bidirectional LSTM encoder"
   ]
  },
  {
   "cell_type": "code",
   "execution_count": 883,
   "metadata": {
    "collapsed": true
   },
   "outputs": [],
   "source": [
    "timesteps_1 = 2\n",
    "window_size = 50\n",
    "batch_size = window_size\n",
    "n_epochs = 10\n",
    "\n",
    "# Hidden layer for the LSTMs\n",
    "hidden_size_bilstm = 64\n",
    "hidden_size_mainlstm = 64\n",
    "\n",
    "# Hidden size for the fully connected layer\n",
    "FC1 = 32\n",
    "\n",
    "num_input = 98\n",
    "epsilon = 0.001\n",
    "beta = 0.02\n",
    "learning_rate = 0.000001"
   ]
  },
  {
   "cell_type": "code",
   "execution_count": 887,
   "metadata": {
    "collapsed": false
   },
   "outputs": [],
   "source": [
    "def BidirectionalLSTM(train_x, train_y, val_x, val_y,hidden_size_bilstm=hidden_size_bilstm, hidden_size_mainlstm=hidden_size_mainlstm, batch_size = batch_size,  n_epochs=n_epochs, epsilon = epsilon, learning_rate=learning_rate):\n",
    "    \n",
    "    \n",
    "    with tf.variable_scope('data'):\n",
    "        alpha = tf.placeholder_with_default(1.0, shape=())\n",
    "        prob = tf.placeholder_with_default(1.0, shape=())\n",
    "        X_or = tf.placeholder(shape = [window_size, timesteps_1, num_input], dtype = tf.float32, name = \"input\")\n",
    "        X = tf.unstack(X_or, timesteps_1, 1)\n",
    "        y = tf.placeholder(shape = [window_size,1], dtype = tf.float32, name = \"label_annotation\")\n",
    "\n",
    "    #Bidirectional lstm with different weights\n",
    "    #with tf.variable_scope('lstm_cell_forward'):\n",
    "    #    lstm_cell_f = tf.nn.rnn_cell.BasicLSTMCell(hidden_size_bilstm, forget_bias= 1.0)\n",
    "    #with tf.variable_scope('lstm_cell_backward'):\n",
    "    #    lstm_cell_b = tf.nn.rnn_cell.BasicLSTMCell(hidden_size_bilstm, forget_bias = 1.0)\n",
    "     \n",
    "    # Bidirectional lstm with shared weights (makes more sense for them to be shared)\n",
    "    with tf.variable_scope('lstm_cell_bidirectional'):\n",
    "        lstm_cell_f = tf.nn.rnn_cell.BasicLSTMCell(hidden_size_bilstm, forget_bias= 1.0)\n",
    "    with tf.variable_scope('lstm_cell_bidirectional', reuse=True):\n",
    "        lstm_cell_b = tf.nn.rnn_cell.BasicLSTMCell(hidden_size_bilstm, forget_bias = 1.0)\n",
    "     \n",
    "    with tf.variable_scope(\"lstm_bidirectional\"):\n",
    "        bi_outputs, _, _ = tf.nn.static_bidirectional_rnn(lstm_cell_f, lstm_cell_b, inputs = X, dtype= tf.float32)\n",
    "        last_output = bi_outputs[-1]\n",
    "        \n",
    "        \n",
    "        batch_mean2, batch_var2 = tf.nn.moments(last_output,[0])\n",
    "        scale2 = tf.Variable(tf.ones([hidden_size_bilstm*2]))\n",
    "        beta2 = tf.Variable(tf.zeros([hidden_size_bilstm*2]))\n",
    "        BN2 = tf.nn.batch_normalization(last_output,batch_mean2, batch_var2, beta2, scale2, epsilon) \n",
    "        BN2 = tf.nn.dropout(BN2, prob)\n",
    "        \n",
    "        BN2 = tf.reshape(BN2, (1, window_size, hidden_size_bilstm*2))\n",
    "        BN2 = tf.transpose(BN2, [1, 0, 2])\n",
    "        BN2 = tf.unstack(BN2)\n",
    "    \n",
    "    with tf.variable_scope('lstm_cell_2'):\n",
    "        rnn_layers = [tf.nn.rnn_cell.LSTMCell(size) for size in [hidden_size_mainlstm, hidden_size_mainlstm]]\n",
    "        multi_rnn_cell = tf.nn.rnn_cell.MultiRNNCell(rnn_layers)\n",
    "        lstm_outputs2, lstm_state2 =  tf.contrib.rnn.static_rnn(cell=multi_rnn_cell,inputs=BN2,dtype=tf.float32)\n",
    "        lstm_outputs2 = tf.stack(tf.squeeze(lstm_outputs2))\n",
    "        \n",
    "        batch_mean3, batch_var3 = tf.nn.moments(lstm_outputs2,[0])\n",
    "        scale3 = tf.Variable(tf.ones([hidden_size_mainlstm]))\n",
    "        beta3 = tf.Variable(tf.zeros([hidden_size_mainlstm]))\n",
    "        BN3 = tf.nn.batch_normalization(lstm_outputs2,batch_mean3, batch_var3, beta3, scale3, epsilon) \n",
    "        BN3 = tf.nn.dropout(BN3, prob)\n",
    "        \n",
    "        \n",
    "    with tf.variable_scope('Fully_connected_Layer1'):\n",
    "        W_hidden = tf.Variable(tf.random_normal(shape = [hidden_size_mainlstm, FC1], stddev = 0.1), name = \"weights_hidden\", trainable = True)\n",
    "        hidden_relu = tf.matmul(BN3, W_hidden)\n",
    "        \n",
    "        batch_mean4, batch_var4 = tf.nn.moments(hidden_relu,[0])\n",
    "        scale4 = tf.Variable(tf.ones([FC1]))\n",
    "        beta4 = tf.Variable(tf.zeros([FC1]))\n",
    "        BN4 = tf.nn.batch_normalization(hidden_relu,batch_mean4, batch_var4, beta4, scale4, epsilon)\n",
    "        BN4 = tf.nn.relu(BN4, name = \"ReLu_hidden_layer\")\n",
    "        \n",
    "    \n",
    "    with tf.variable_scope('loss'):\n",
    "        W_hidden2 = tf.Variable(tf.random_normal(shape = [FC1, 1], stddev = 0.1), name = \"linear_layer\", trainable = True)\n",
    "        b_hidden_2 = tf.Variable(tf.zeros([window_size, 1]), name=\"bias_hidden2\", trainable = True)\n",
    "        logits_all = tf.nn.relu(tf.matmul(BN4, W_hidden2)+b_hidden_2)\n",
    "        logits_all = tf.matmul(BN4, W_hidden2)\n",
    "        logits_others = logits_all[:window_size-1,:]\n",
    "        logits_all =  tf.reshape(logits_all, (1,window_size))\n",
    "\n",
    "        W_all = tf.Variable(tf.random_normal(shape = [window_size, 1], stddev = 0.1), name = \"linear_others\", trainable = True)\n",
    "        logit_main = tf.matmul(logits_all,W_all)\n",
    "          \n",
    "        loss_other =  tf.losses.mean_squared_error(predictions = logits_others, labels = y[:window_size-1])\n",
    "        loss_main = tf.losses.mean_squared_error(predictions = logit_main, labels = y[window_size-1:])\n",
    "        loss = loss_other + alpha * loss_main\n",
    "        l2 = beta * sum(tf.nn.l2_loss(tf_var) for tf_var in tf.trainable_variables() if not (\"bias_hidden2\" in tf_var.name))\n",
    "        loss += l2\n",
    "\n",
    "    \n",
    "    global_step = tf.Variable(0, trainable=False)\n",
    "    optimizer = tf.train.AdamOptimizer(learning_rate = learning_rate)\n",
    "    train_op = optimizer.minimize(loss)\n",
    "    \n",
    "    init = tf.global_variables_initializer()\n",
    "    sess = tf.Session()\n",
    "    sess.run(init)\n",
    "    \n",
    "    #saver = tf.train.Saver()\n",
    "    writer = tf.summary.FileWriter('./graphs/LSTM', sess.graph)\n",
    "    \n",
    "    #ckpt = tf.train.get_checkpoint_state(os.path.dirname('checkpoints/lstm/checkpoint'))\n",
    "\n",
    "    #if ckpt and ckpt.model_checkpoint_path:\n",
    "    #    saver.restore(sess, ckpt.model_checkpoint_path)\n",
    "    \n",
    "    val_loss = []\n",
    "    train_loss_list = []\n",
    "    for i in range(1, n_epochs+1):\n",
    "        pred_val = []\n",
    "        train_loss_list = []\n",
    "\n",
    "        indices = list(range(len(train_x)))\n",
    "        shuffle(indices)\n",
    "        for index1 in indices:\n",
    "            train_loss = 0\n",
    "            list_x, list_y = ManyToMany(train_x[index1], train_y[index1], window_size = window_size, val_boolean = 0)\n",
    "            \n",
    "            for index in range(len(list_x)):\n",
    "                \n",
    "                X_batch = np.reshape(list_x[index], (window_size, 2, num_input))\n",
    "                Y_batch = np.reshape(list_y[index], (window_size,1))\n",
    "                \n",
    "                _, Loss = sess.run([train_op, loss_main], feed_dict = {X_or: X_batch, y: Y_batch, alpha: 2, prob: 0.75})\n",
    "                train_loss += Loss\n",
    "            train_loss /= len(list_x)\n",
    "            train_loss_list.append(train_loss)\n",
    "        \n",
    "        train_loss_sum = sum(train_loss_list)/len(train_x)\n",
    "        train_loss_list.append(train_loss_sum)\n",
    "            \n",
    "        print('Epoch ' + str(i) + ' done.')\n",
    "        if(i % 1 == 0):\n",
    "           \n",
    "            list_list_val_y = []\n",
    "            pred_val = []        \n",
    "            loss_main_list = []\n",
    "            for index in range(len(val_x)):\n",
    "              \n",
    "                total_loss_main = 0\n",
    "                list_x_val, list_y_val = ManyToMany(val_x[index], val_y[index], window_size = window_size, val_boolean = 1)\n",
    "                \n",
    "                for index1 in range(len(list_x_val)):\n",
    "                    \n",
    "                    X_batch = np.reshape(list_x_val[index1], (window_size, 2, num_input))\n",
    "                    Y_batch = np.reshape(list_y_val[index1], (window_size,1))\n",
    "                    loss_batch, logits_batch = sess.run([loss_main, logit_main], feed_dict = {X_or: X_batch, y: Y_batch, alpha: 2, prob: 1})\n",
    "                    pred_val.append(logits_batch[0])\n",
    "                    list_list_val_y.append(Y_batch[window_size-1])\n",
    "                \n",
    "                    total_loss_main += loss_batch\n",
    "                \n",
    "                total_loss_main /= len(list_x_val)\n",
    "                loss_main_list.append(total_loss_main)\n",
    "   \n",
    "            main_sum_loss =  sum(loss_main_list)/len(val_x)\n",
    "\n",
    "            pred_val_classes = MakeOneHot(pred_val)\n",
    "            Val_list_y_classes = MakeOneHot(list_list_val_y)\n",
    "            accuracy = ComputeAccuracy(Val_list_y_classes, pred_val_classes) \n",
    "            ICC = compute_icc(np.asarray(pred_val), np.asarray(list_list_val_y))\n",
    "            \n",
    "            print(\"Step: \" + str(i) + \" MSE val loss is \" + str(main_sum_loss)+ \" MSE training loss \" + str(train_loss_sum))\n",
    "            print(\"The total of good classification is: \" + str(accuracy))\n",
    "            print(\"The ICC(1,3) is: \" + str(ICC))\n",
    "            val_loss.append(main_sum_loss)\n",
    "            #saver.save(sess, 'checkpoints/lstm/method1', i)\n",
    "\n",
    "          \n",
    "    lowest_loss = min(val_loss)\n",
    "    min_index = (val_loss.index(min(val_loss))+1)*2\n",
    "  \n",
    "    print(\"The lowest validation loss is at epoch \" + str(min_index) + \" is: \" + str(lowest_loss))\n",
    "     \n",
    "    writer.close()    \n",
    "    sess.close()\n",
    "    tf.reset_default_graph()\n",
    "    return lowest_loss, min_index, val_loss, train_loss_list, pred_val, list_list_val_y"
   ]
  },
  {
   "cell_type": "code",
   "execution_count": 889,
   "metadata": {
    "collapsed": false
   },
   "outputs": [],
   "source": [
    "# RUN THE ABOVE\n",
    "\n",
    "#lowest_loss_list = []\n",
    "\n",
    "#for index in range(5):\n",
    "#    Train_list, Val_list, Test_list, Train_list_y, Val_list_y, Test_list_y = MakeTrainValTest(index+1)\n",
    "#    lowest_loss, min_index, loss, predictions_val, predictions_train = NeuralNetMethod1(Train_list, Train_list_y, Val_list, Val_list_y, 0.0001, 196,64, 16)\n",
    "#    lowest_loss_list.append(lowest_loss)\n",
    "\n",
    "lowest_loss, min_index, val_loss, train_loss_list, pred_val, list_list_val_y = BidirectionalLSTM(Train_list, Train_list_y, Val_list, Val_list_y)"
   ]
  },
  {
   "cell_type": "code",
   "execution_count": 890,
   "metadata": {
    "collapsed": true
   },
   "outputs": [],
   "source": [
    "tf.reset_default_graph()"
   ]
  },
  {
   "cell_type": "code",
   "execution_count": null,
   "metadata": {
    "collapsed": false
   },
   "outputs": [],
   "source": [
    "# Compute the correlation \n",
    "\n",
    "pearsonr(np.reshape(np.asarray(pred_val), (len(pred_val),)), np.reshape(np.asarray(list_list_val_y),(len(pred_val),)))"
   ]
  },
  {
   "cell_type": "code",
   "execution_count": 462,
   "metadata": {
    "collapsed": false
   },
   "outputs": [
    {
     "data": {
      "image/png": "[encoded data removed]",
      "text/plain": [
       "<matplotlib.figure.Figure at 0x2273f7f20f0>"
      ]
     },
     "metadata": {},
     "output_type": "display_data"
    }
   ],
   "source": [
    "# function to plot true vs predicted\n",
    "\n",
    "def plotTrueVPred(true_values, predicted_values):\n",
    "    fig = plt.figure(figsize=(17, 6))\n",
    "    plt.plot(predicted_values)\n",
    "    plt.plot(true_values)\n",
    "    plt.title('Model prediction vs real labels')\n",
    "    plt.ylabel('Conflict intensity')\n",
    "    plt.xlabel('Frames')\n",
    "    plt.legend(['Predicted labels', 'True labels'], loc='upper left')\n",
    "    plt.show()\n",
    "    #fig.savefig('newfiguseless.png', bbox_inches='tight')\n",
    "    \n",
    "plotTrueVPred(pred_val, pred_val)"
   ]
  },
  {
   "cell_type": "markdown",
   "metadata": {},
   "source": [
    "# LSTM encoder"
   ]
  },
  {
   "cell_type": "code",
   "execution_count": 346,
   "metadata": {
    "collapsed": true
   },
   "outputs": [],
   "source": [
    "def ManyToOne(x_seq, y_seq, window_size, val_boolean):\n",
    "    list_x = []\n",
    "    list_y = []\n",
    "    list_x_shuffled = []\n",
    "    list_y_shuffled = []\n",
    "    assert len(x_seq) == len(y_seq)\n",
    "    lenght_new_seq = len(x_seq)-window_size+1\n",
    "    \n",
    "    for index in range(lenght_new_seq):\n",
    "        list_x.append(x_seq[index:window_size+index,:])\n",
    "        list_y.append(y_seq[window_size-1+index])\n",
    "    \n",
    "    if(val_boolean == 0):\n",
    "        indices = list(range(lenght_new_seq))\n",
    "        shuffle(indices)\n",
    "    \n",
    "        for element in indices:\n",
    "            list_x_shuffled.append(list_x[element])\n",
    "            list_y_shuffled.append(list_y[element])\n",
    "            \n",
    "    elif(val_boolean == 1):\n",
    "        list_x_shuffled = list_x\n",
    "        list_y_shuffled = list_y\n",
    "        \n",
    "    return list_x_shuffled, list_y_shuffled  "
   ]
  },
  {
   "cell_type": "code",
   "execution_count": 347,
   "metadata": {
    "collapsed": true
   },
   "outputs": [],
   "source": [
    "def ManyToMany(x_seq, y_seq, window_size, val_boolean):\n",
    "    list_x = []\n",
    "    list_y = []\n",
    "    list_x_shuffled = []\n",
    "    list_y_shuffled = []\n",
    "    assert len(x_seq) == len(y_seq)\n",
    "    lenght_new_seq = len(x_seq)-window_size+1\n",
    "    \n",
    "    for index in range(lenght_new_seq):\n",
    "        list_x.append(x_seq[index:window_size+index,:])\n",
    "        list_y.append(y_seq[index:window_size+index])\n",
    "    \n",
    "    if(val_boolean == 0):\n",
    "        indices = list(range(lenght_new_seq))\n",
    "        shuffle(indices)\n",
    "    \n",
    "        for element in indices:\n",
    "            list_x_shuffled.append(list_x[element])\n",
    "            list_y_shuffled.append(list_y[element])\n",
    "            \n",
    "    elif(val_boolean == 1):\n",
    "        list_x_shuffled = list_x\n",
    "        list_y_shuffled = list_y\n",
    "        \n",
    "    return list_x_shuffled, list_y_shuffled "
   ]
  },
  {
   "cell_type": "code",
   "execution_count": 348,
   "metadata": {
    "collapsed": true
   },
   "outputs": [],
   "source": [
    "epsilon = 0.001\n",
    "LSTM1 = 128\n",
    "LSTM2 = 128\n",
    "FCL = 64\n",
    "\n",
    "hidden_size = LSTM1\n",
    "hidden_size1 = LSTM2\n",
    "LSTM2 = hidden_size_mainlstm\n",
    "hidden_size2 = FCL\n",
    "\n",
    "learning_rate = 0.000001\n",
    "beta = 0.02\n",
    "\n",
    "n_epochs = 10\n",
    "\n",
    "# Network Parameters particular to the LSTM. We feed the person 1 and then the person 2\n",
    "\n",
    "num_input1 = 98 # num_of_features\n",
    "timesteps_1 = 2 # timesteps for the first LSTM = number of participants\n",
    "window_size = 50 # timesteps for the second LSTM = number of frames\n",
    "timesteps_2 = window_size\n",
    "batch_size = timesteps_2"
   ]
  },
  {
   "cell_type": "code",
   "execution_count": 349,
   "metadata": {
    "collapsed": false
   },
   "outputs": [],
   "source": [
    "def LSTM(train_x, train_y, val_x, val_y, learning_rate=learning_rate, batch_size=batch_size,  n_epochs=n_epochs, num_input1=num_input1, timesteps_1=timesteps_1, timesteps_2=timesteps_2):\n",
    "\n",
    "    with tf.variable_scope('data'):\n",
    "        alpha = tf.placeholder_with_default(1.0, shape=())\n",
    "        prob = tf.placeholder_with_default(1.0, shape=())\n",
    "        X_or = tf.placeholder(shape = [batch_size, timesteps_1, num_input1], dtype = tf.float32, name = \"input\")\n",
    "        X = tf.unstack(X_or, timesteps_1, 1)\n",
    "        y = tf.placeholder(shape = [window_size,1], dtype = tf.float32, name = \"label_annotation\")\n",
    "\n",
    "    with tf.variable_scope('lstm_cell_1'):\n",
    "        lstm_cell = tf.nn.rnn_cell.BasicLSTMCell(hidden_size, forget_bias = 1.0)\n",
    "        lstm_outputs, lstm_states = tf.contrib.rnn.static_rnn(lstm_cell, X, dtype = tf.float32)\n",
    "        \n",
    "        batch_mean1, batch_var1 = tf.nn.moments(lstm_outputs[-1],[0])\n",
    "        scale1 = tf.Variable(tf.ones([hidden_size]))\n",
    "        beta1 = tf.Variable(tf.zeros([hidden_size]))\n",
    "        BN1 = tf.nn.batch_normalization(lstm_outputs[-1],batch_mean1, batch_var1, beta1, scale1, epsilon)\n",
    "        BN1 = tf.nn.dropout(BN1, prob)\n",
    "        \n",
    "        BN1 = tf.reshape(BN1, [1, timesteps_2, hidden_size])\n",
    "        BN1 = tf.unstack(BN1, timesteps_2, 1)\n",
    "        \n",
    "    ################## THIS IS THE ADDED PART\n",
    "    \n",
    "    with tf.variable_scope('lstm_cell_2'):\n",
    "        rnn_layers = [tf.nn.rnn_cell.LSTMCell(size) for size in [hidden_size_mainlstm, hidden_size_mainlstm]]\n",
    "        multi_rnn_cell = tf.nn.rnn_cell.MultiRNNCell(rnn_layers)\n",
    "        lstm_outputs2, lstm_state2 =  tf.contrib.rnn.static_rnn(cell=multi_rnn_cell,inputs=BN1,dtype=tf.float32)\n",
    "        lstm_outputs2 = tf.stack(tf.squeeze(lstm_outputs2))\n",
    "        \n",
    "        batch_mean3, batch_var3 = tf.nn.moments(lstm_outputs2,[0])\n",
    "        scale3 = tf.Variable(tf.ones([hidden_size_mainlstm]))\n",
    "        beta3 = tf.Variable(tf.zeros([hidden_size_mainlstm]))\n",
    "        BN3 = tf.nn.batch_normalization(lstm_outputs2,batch_mean3, batch_var3, beta3, scale3, epsilon) \n",
    "        BN3 = tf.nn.dropout(BN3, prob)\n",
    "        \n",
    "        \n",
    "    with tf.variable_scope('Fully_connected_Layer1'):\n",
    "        W_hidden = tf.Variable(tf.random_normal(shape = [hidden_size_mainlstm, FC1], stddev = 0.1), name = \"weights_hidden\", trainable = True)\n",
    "        hidden_relu = tf.matmul(BN3, W_hidden)\n",
    "        \n",
    "        batch_mean4, batch_var4 = tf.nn.moments(hidden_relu,[0])\n",
    "        scale4 = tf.Variable(tf.ones([FC1]))\n",
    "        beta4 = tf.Variable(tf.zeros([FC1]))\n",
    "        BN4 = tf.nn.batch_normalization(hidden_relu,batch_mean4, batch_var4, beta4, scale4, epsilon)\n",
    "        BN4 = tf.nn.relu(BN4, name = \"ReLu_hidden_layer\")\n",
    "        \n",
    "    \n",
    "    with tf.variable_scope('loss'):\n",
    "        W_hidden2 = tf.Variable(tf.random_normal(shape = [FC1, 1], stddev = 0.1), name = \"linear_layer\", trainable = True)\n",
    "        b_hidden_2 = tf.Variable(tf.zeros([window_size, 1]), name=\"bias_hidden2\", trainable = True)\n",
    "        logits_all = tf.nn.relu(tf.matmul(BN4, W_hidden2)+b_hidden_2)\n",
    "        logits_others = logits_all[:window_size-1,:]\n",
    "        logits_all =  tf.reshape(logits_all, (1,window_size))\n",
    "\n",
    "        W_all = tf.Variable(tf.random_normal(shape = [window_size, 1], stddev = 0.1), name = \"linear_others\", trainable = True)\n",
    "        logit_main = tf.matmul(logits_all,W_all)\n",
    "          \n",
    "        loss_other =  tf.losses.mean_squared_error(predictions = logits_others, labels = y[:window_size-1])\n",
    "        loss_main = tf.losses.mean_squared_error(predictions = logit_main, labels = y[window_size-1:])\n",
    "        loss = loss_other + alpha * loss_main\n",
    "        reg1 = tf.norm(W_hidden, ord = 2)\n",
    "        reg2 = tf.norm(W_hidden2, ord = 2)\n",
    "        reg3 = tf.norm(W_all, ord = 2)\n",
    "        loss += beta*(reg1+reg2+reg3)\n",
    "    \n",
    "    for element in tf.trainable_variables():\n",
    "        print(element.name)\n",
    "  \n",
    "    \n",
    "    global_step = tf.Variable(0, trainable=False)\n",
    "    optimizer = tf.train.AdamOptimizer(learning_rate = learning_rate)\n",
    "    train_op = optimizer.minimize(loss)\n",
    "    \n",
    "    init = tf.global_variables_initializer()\n",
    "    sess = tf.Session()\n",
    "    sess.run(init)\n",
    "    \n",
    "    #saver = tf.train.Saver()\n",
    "    writer = tf.summary.FileWriter('./graphs/LSTM', sess.graph)\n",
    "    \n",
    "    #ckpt = tf.train.get_checkpoint_state(os.path.dirname('checkpoints/lstm/checkpoint'))\n",
    "\n",
    "    #if ckpt and ckpt.model_checkpoint_path:\n",
    "    #    saver.restore(sess, ckpt.model_checkpoint_path)\n",
    "    \n",
    "    val_loss = []\n",
    "    train_loss_list = []\n",
    "    for i in range(1, n_epochs+1):\n",
    "        pred_val = []\n",
    "        train_loss_list = []\n",
    "\n",
    "        indices = list(range(len(train_x)))\n",
    "        shuffle(indices)\n",
    "        for index1 in indices:\n",
    "            train_loss = 0\n",
    "            list_x, list_y = ManyToMany(train_x[index1], train_y[index1], window_size = window_size, val_boolean = 0)\n",
    "            \n",
    "            for index in range(len(list_x)):\n",
    "                \n",
    "                X_batch = np.reshape(list_x[index], (window_size, 2, num_input1))\n",
    "                Y_batch = np.reshape(list_y[index], (window_size,1))\n",
    "                \n",
    "                _, Loss = sess.run([train_op, loss_main], feed_dict = {X_or: X_batch, y: Y_batch, alpha: 2, prob: 0.7})\n",
    "                train_loss += Loss\n",
    "            train_loss /= len(list_x)\n",
    "            train_loss_list.append(train_loss)\n",
    "        \n",
    "        train_loss_sum = sum(train_loss_list)/len(train_x)\n",
    "        train_loss_list.append(train_loss_sum)\n",
    "            \n",
    "        print('Epoch ' + str(i) + ' done.')\n",
    "        if(i % 1 == 0):\n",
    "           \n",
    "            list_list_val_y = []\n",
    "            pred_val = []        \n",
    "            loss_main_list = []\n",
    "            for index in range(len(val_x)):\n",
    "              \n",
    "                total_loss_main = 0\n",
    "                list_x_val, list_y_val = ManyToMany(val_x[index], val_y[index], window_size = window_size, val_boolean = 1)\n",
    "                \n",
    "                for index1 in range(len(list_x_val)):\n",
    "                    \n",
    "                    X_batch = np.reshape(list_x_val[index1], (window_size, 2, num_input1))\n",
    "                    Y_batch = np.reshape(list_y_val[index1], (window_size,1))\n",
    "                    loss_batch, logits_batch = sess.run([loss_main, logit_main], feed_dict = {X_or: X_batch, y: Y_batch, alpha: 2, prob: 1})\n",
    "                    pred_val.append(logits_batch[0])\n",
    "                    list_list_val_y.append(Y_batch[window_size-1])\n",
    "                \n",
    "                    total_loss_main += loss_batch\n",
    "                \n",
    "                total_loss_main /= len(list_x_val)\n",
    "                loss_main_list.append(total_loss_main)\n",
    "   \n",
    "            main_sum_loss =  sum(loss_main_list)/len(val_x)\n",
    "\n",
    "            pred_val_classes = MakeOneHot(pred_val)\n",
    "            Val_list_y_classes = MakeOneHot(list_list_val_y)\n",
    "            accuracy = ComputeAccuracy(Val_list_y_classes, pred_val_classes) \n",
    "            \n",
    "            print(\"Step: \" + str(i) + \" MSE val loss is \" + str(main_sum_loss)+ \" MSE training loss \" + str(train_loss_sum))\n",
    "            print(\"The total of good classification is: \" + str(accuracy))\n",
    "            val_loss.append(main_sum_loss)\n",
    "            #saver.save(sess, 'checkpoints/lstm/method1', i)\n",
    "\n",
    "          \n",
    "    lowest_loss = min(val_loss)\n",
    "    min_index = (val_loss.index(min(val_loss))+1)*2\n",
    "  \n",
    "    print(\"The lowest validation loss is at epoch \" + str(min_index) + \" is: \" + str(lowest_loss))\n",
    "     \n",
    "    writer.close()    \n",
    "    sess.close()\n",
    "    tf.reset_default_graph()\n",
    "    return lowest_loss, min_index, val_loss, train_loss_list, pred_val"
   ]
  },
  {
   "cell_type": "code",
   "execution_count": 350,
   "metadata": {
    "collapsed": false
   },
   "outputs": [
    {
     "name": "stdout",
     "output_type": "stream",
     "text": [
      "lstm_cell_1/rnn/basic_lstm_cell/kernel:0\n",
      "lstm_cell_1/rnn/basic_lstm_cell/bias:0\n",
      "lstm_cell_1/Variable:0\n",
      "lstm_cell_1/Variable_1:0\n",
      "lstm_cell_2/rnn/multi_rnn_cell/cell_0/lstm_cell/kernel:0\n",
      "lstm_cell_2/rnn/multi_rnn_cell/cell_0/lstm_cell/bias:0\n",
      "lstm_cell_2/rnn/multi_rnn_cell/cell_1/lstm_cell/kernel:0\n",
      "lstm_cell_2/rnn/multi_rnn_cell/cell_1/lstm_cell/bias:0\n",
      "lstm_cell_2/Variable:0\n",
      "lstm_cell_2/Variable_1:0\n",
      "Fully_connected_Layer1/weights_hidden:0\n",
      "Fully_connected_Layer1/Variable:0\n",
      "Fully_connected_Layer1/Variable_1:0\n",
      "loss/linear_layer:0\n",
      "loss/bias_hidden2:0\n",
      "loss/linear_others:0\n",
      "Epoch 1 done.\n",
      "Step: 1 MSE val loss is 0.135797197541 MSE training loss 0.324742148347\n",
      "The total of good classification is: 0.2974870281819107\n",
      "Epoch 2 done.\n",
      "Step: 2 MSE val loss is 0.105539825283 MSE training loss 0.10413794805\n",
      "The total of good classification is: 0.34362600468002846\n",
      "Epoch 3 done.\n",
      "Step: 3 MSE val loss is 0.0875023927053 MSE training loss 0.0893340711575\n",
      "The total of good classification is: 0.32276935598738427\n",
      "Epoch 4 done.\n",
      "Step: 4 MSE val loss is 0.0923929989831 MSE training loss 0.0854493846873\n",
      "The total of good classification is: 0.3412859904364635\n",
      "Epoch 5 done.\n",
      "Step: 5 MSE val loss is 0.0872674398788 MSE training loss 0.0848396484411\n",
      "The total of good classification is: 0.32984026859293925\n",
      "Epoch 6 done.\n",
      "Step: 6 MSE val loss is 0.0870716367752 MSE training loss 0.0819321286197\n",
      "The total of good classification is: 0.3372164004476549\n",
      "Epoch 7 done.\n",
      "Step: 7 MSE val loss is 0.0858559566326 MSE training loss 0.0792787708472\n",
      "The total of good classification is: 0.34077729168786247\n",
      "Epoch 8 done.\n",
      "Step: 8 MSE val loss is 0.0835665741956 MSE training loss 0.0778869445111\n",
      "The total of good classification is: 0.3244480618577678\n",
      "Epoch 9 done.\n",
      "Step: 9 MSE val loss is 0.0930388727858 MSE training loss 0.0734914728782\n",
      "The total of good classification is: 0.36433004374809236\n",
      "Epoch 10 done.\n",
      "Step: 10 MSE val loss is 0.0841525663706 MSE training loss 0.072014234417\n",
      "The total of good classification is: 0.324041102858887\n",
      "The lowest validation loss is at epoch 16 is: 0.0835665741956\n"
     ]
    }
   ],
   "source": [
    "lowest_loss, min_index, val_loss, train_loss_list, pred_val = LSTM(Train_list, Train_list_y, Val_list, Val_list_y)"
   ]
  },
  {
   "cell_type": "markdown",
   "metadata": {},
   "source": [
    "# FCL layer encoder"
   ]
  },
  {
   "cell_type": "code",
   "execution_count": 30,
   "metadata": {
    "collapsed": true
   },
   "outputs": [],
   "source": [
    "timesteps_1 = 25\n",
    "window_size = timesteps_1\n",
    "batch_size = window_size\n",
    "n_epochs = 10\n",
    "\n",
    "size_encoder = 128\n",
    "# Hidden layer for the LSTMs\n",
    "LSTM1 = 64\n",
    "LSTM2 = 64\n",
    "# Hidden size for the fully connected layer\n",
    "FC1 = 32\n",
    "\n",
    "\n",
    "num_input = 196\n",
    "epsilon = 0.001\n",
    "beta = 0.02\n",
    "learning_rate = 0.000001"
   ]
  },
  {
   "cell_type": "code",
   "execution_count": 31,
   "metadata": {
    "collapsed": true
   },
   "outputs": [],
   "source": [
    "def LSTM(train_x, train_y, val_x, val_y, learning_rate=learning_rate, batch_size=batch_size,  n_epochs=n_epochs, num_input=num_input, timesteps_1=timesteps_1, size_encoder = size_encoder, hidden_size = LSTM1, hidden_size1 = LSTM2, hidden_size2 = FC1):\n",
    "\n",
    "\n",
    "    with tf.variable_scope('data'):\n",
    "        alpha = tf.placeholder_with_default(1.0, shape=())\n",
    "        prob = tf.placeholder_with_default(1.0, shape=())\n",
    "        X = tf.placeholder(shape = [window_size, num_input], dtype = tf.float32, name = \"input\")\n",
    "        #X_or = tf.placeholder(shape = [batch_size, timesteps_1, num_input], dtype = tf.float32, name = \"input\")\n",
    "        #X = tf.unstack(X_or, timesteps_1, 1)\n",
    "        y = tf.placeholder(shape = [window_size,1], dtype = tf.float32, name = \"label_annotation\")\n",
    "        \n",
    "    \n",
    "    with tf.variable_scope('Fully_connected_encoder'):\n",
    "        W_input_encoder = tf.Variable(tf.random_normal(shape = [num_input, size_encoder], stddev = 0.1), name = \"weights_input\", trainable = True)\n",
    "        hidden_units_encoder = tf.matmul(X, W_input_encoder)\n",
    "        batch_mean_encoder, batch_var_encoder = tf.nn.moments(hidden_units_encoder,[0])\n",
    "        scale_encoder = tf.Variable(tf.ones([size_encoder]), trainable = True)\n",
    "        beta_encoder = tf.Variable(tf.zeros([size_encoder]), trainable = True)\n",
    "        BN_encoder = tf.nn.batch_normalization(hidden_units_encoder,batch_mean_encoder, batch_var_encoder, beta_encoder, scale_encoder, epsilon)\n",
    "        relu_hidden_encoder = tf.nn.relu(BN_encoder, name = \"ReLu_hidden_encoder\")\n",
    "        relu_hidden_encoder = tf.reshape(relu_hidden_encoder, (1, window_size, size_encoder))\n",
    "        relu_hidden_encoder = tf.unstack(relu_hidden_encoder, window_size, 1)\n",
    "        \n",
    "        \n",
    "    with tf.variable_scope('lstm_cell_2'):\n",
    "        rnn_layers = [tf.nn.rnn_cell.LSTMCell(size) for size in [hidden_size_mainlstm, hidden_size_mainlstm]]\n",
    "        multi_rnn_cell = tf.nn.rnn_cell.MultiRNNCell(rnn_layers)\n",
    "        lstm_outputs2, lstm_state2 =  tf.contrib.rnn.static_rnn(cell=multi_rnn_cell,inputs=relu_hidden_encoder,dtype=tf.float32)\n",
    "        lstm_outputs2 = tf.stack(tf.squeeze(lstm_outputs2))\n",
    "        \n",
    "        batch_mean3, batch_var3 = tf.nn.moments(lstm_outputs2,[0])\n",
    "        scale3 = tf.Variable(tf.ones([hidden_size_mainlstm]))\n",
    "        beta3 = tf.Variable(tf.zeros([hidden_size_mainlstm]))\n",
    "        BN3 = tf.nn.batch_normalization(lstm_outputs2,batch_mean3, batch_var3, beta3, scale3, epsilon) \n",
    "        BN3 = tf.nn.dropout(BN3, prob)\n",
    "        \n",
    "        \n",
    "    with tf.variable_scope('Fully_connected_Layer1'):\n",
    "        W_hidden = tf.Variable(tf.random_normal(shape = [hidden_size_mainlstm, FC1], stddev = 0.1), name = \"weights_hidden\", trainable = True)\n",
    "        hidden_relu = tf.matmul(BN3, W_hidden)\n",
    "        \n",
    "        batch_mean4, batch_var4 = tf.nn.moments(hidden_relu,[0])\n",
    "        scale4 = tf.Variable(tf.ones([FC1]))\n",
    "        beta4 = tf.Variable(tf.zeros([FC1]))\n",
    "        BN4 = tf.nn.batch_normalization(hidden_relu,batch_mean4, batch_var4, beta4, scale4, epsilon)\n",
    "        BN4 = tf.nn.relu(BN4, name = \"ReLu_hidden_layer\")\n",
    "        \n",
    "    \n",
    "    with tf.variable_scope('loss'):\n",
    "        W_hidden2 = tf.Variable(tf.random_normal(shape = [FC1, 1], stddev = 0.1), name = \"linear_layer\", trainable = True)\n",
    "        b_hidden_2 = tf.Variable(tf.zeros([window_size, 1]), name=\"bias_hidden2\", trainable = True)\n",
    "        logits_all = tf.nn.relu(tf.matmul(BN4, W_hidden2)+b_hidden_2)\n",
    "        logits_others = logits_all[:window_size-1,:]\n",
    "        logits_all =  tf.reshape(logits_all, (1,window_size))\n",
    "\n",
    "        W_all = tf.Variable(tf.random_normal(shape = [window_size, 1], stddev = 0.1), name = \"linear_others\", trainable = True)\n",
    "        logit_main = tf.matmul(logits_all,W_all)\n",
    "          \n",
    "        loss_other =  tf.losses.mean_squared_error(predictions = logits_others, labels = y[:window_size-1])\n",
    "        loss_main = tf.losses.mean_squared_error(predictions = logit_main, labels = y[window_size-1:])\n",
    "        loss = loss_other + alpha * loss_main\n",
    "        l2 = beta * sum(tf.nn.l2_loss(tf_var) for tf_var in tf.trainable_variables() if not (\"noreg\" in tf_var.name or \"bias\" in tf_var.name))\n",
    "        loss += l2\n",
    "\n",
    "    \n",
    "    global_step = tf.Variable(0, trainable=False)\n",
    "    optimizer = tf.train.AdamOptimizer(learning_rate = learning_rate)\n",
    "    train_op = optimizer.minimize(loss)\n",
    "    \n",
    "    init = tf.global_variables_initializer()\n",
    "    sess = tf.Session()\n",
    "    sess.run(init)\n",
    "    \n",
    "    #saver = tf.train.Saver()\n",
    "    writer = tf.summary.FileWriter('./graphs/LSTM', sess.graph)\n",
    "    \n",
    "    #ckpt = tf.train.get_checkpoint_state(os.path.dirname('checkpoints/lstm/checkpoint'))\n",
    "\n",
    "    #if ckpt and ckpt.model_checkpoint_path:\n",
    "    #    saver.restore(sess, ckpt.model_checkpoint_path)\n",
    "    \n",
    "    val_loss = []\n",
    "    train_loss_list = []\n",
    "    for i in range(1, n_epochs+1):\n",
    "        pred_val = []\n",
    "        train_loss_list = []\n",
    "\n",
    "        indices = list(range(len(train_x)))\n",
    "        shuffle(indices)\n",
    "        for index1 in indices:\n",
    "            train_loss = 0\n",
    "            list_x, list_y = ManyToMany(train_x[index1], train_y[index1], window_size = window_size, val_boolean = 0)\n",
    "            \n",
    "            for index in range(len(list_x)):\n",
    "                \n",
    "                X_batch = list_x[index]\n",
    "                Y_batch = np.reshape(list_y[index], (window_size,1))\n",
    "                \n",
    "                _, Loss = sess.run([train_op, loss_main], feed_dict = {X: X_batch, y: Y_batch, alpha: 2, prob: 0.75})\n",
    "                train_loss += Loss\n",
    "            train_loss /= len(list_x)\n",
    "            train_loss_list.append(train_loss)\n",
    "        \n",
    "        train_loss_sum = sum(train_loss_list)/len(train_x)\n",
    "        train_loss_list.append(train_loss_sum)\n",
    "            \n",
    "        print('Epoch ' + str(i) + ' done.')\n",
    "        if(i % 1 == 0):\n",
    "           \n",
    "            list_list_val_y = []\n",
    "            pred_val = []        \n",
    "            loss_main_list = []\n",
    "            for index in range(len(val_x)):\n",
    "              \n",
    "                total_loss_main = 0\n",
    "                list_x_val, list_y_val = ManyToMany(val_x[index], val_y[index], window_size = window_size, val_boolean = 1)\n",
    "                \n",
    "                for index1 in range(len(list_x_val)):\n",
    "                    \n",
    "                    X_batch = list_x_val[index1]\n",
    "                    Y_batch = np.reshape(list_y_val[index1], (window_size,1))\n",
    "                    loss_batch, logits_batch = sess.run([loss_main, logit_main], feed_dict = {X: X_batch, y: Y_batch, alpha: 2, prob: 1})\n",
    "                    pred_val.append(logits_batch[0])\n",
    "                    list_list_val_y.append(Y_batch[window_size-1])\n",
    "                \n",
    "                    total_loss_main += loss_batch\n",
    "                \n",
    "                total_loss_main /= len(list_x_val)\n",
    "                loss_main_list.append(total_loss_main)\n",
    "   \n",
    "            main_sum_loss =  sum(loss_main_list)/len(val_x)\n",
    "\n",
    "            pred_val_classes = MakeOneHot(pred_val)\n",
    "            Val_list_y_classes = MakeOneHot(list_list_val_y)\n",
    "            accuracy = ComputeAccuracy(Val_list_y_classes, pred_val_classes) \n",
    "            \n",
    "            print(\"Step: \" + str(i) + \" MSE val loss is \" + str(main_sum_loss)+ \" MSE training loss \" + str(train_loss_sum))\n",
    "            print(\"The total of good classification is: \" + str(accuracy))\n",
    "            val_loss.append(main_sum_loss)\n",
    "            #saver.save(sess, 'checkpoints/lstm/method1', i)\n",
    "\n",
    "          \n",
    "    lowest_loss = min(val_loss)\n",
    "    min_index = (val_loss.index(min(val_loss))+1)*2\n",
    "  \n",
    "    print(\"The lowest validation loss is at epoch \" + str(min_index) + \" is: \" + str(lowest_loss))\n",
    "     \n",
    "    writer.close()    \n",
    "    sess.close()\n",
    "    tf.reset_default_graph()\n",
    "    return lowest_loss, min_index, val_loss, train_loss_list, pred_val"
   ]
  },
  {
   "cell_type": "code",
   "execution_count": null,
   "metadata": {
    "collapsed": true
   },
   "outputs": [],
   "source": [
    "lowest_loss, min_index, total_loss, pred_val = LSTM(Train_list, Train_list_y, Val_list, Val_list_y)"
   ]
  },
  {
   "cell_type": "code",
   "execution_count": 370,
   "metadata": {
    "collapsed": true
   },
   "outputs": [],
   "source": [
    "tf.reset_default_graph()"
   ]
  },
  {
   "cell_type": "markdown",
   "metadata": {},
   "source": [
    "# CNN encoder"
   ]
  },
  {
   "cell_type": "code",
   "execution_count": 371,
   "metadata": {
    "collapsed": true
   },
   "outputs": [],
   "source": [
    "#FLAGS = tf.app.flags.FLAGS\n",
    "#tf.app.flags.DEFINE_integer('window_size', 2, \"Number of timesteps\")\n",
    "#tf.app.flags.DEFINE_integer('batch_size', 2, \"Number of batches\")\n",
    "#tf.app.flags.DEFINE_integer('n_epochs', 10, \"Number of epochs\")\n",
    "#tf.app.flags.DEFINE_integer('LSTM1_size', 64, \"Size of lstm1\")\n",
    "#tf.app.flags.DEFINE_integer('LSTM2_size', 64, \"Size of lstm2\")\n",
    "#tf.app.flags.DEFINE_integer('FCL_size', 32, \"Size of FCL\")\n",
    "\n",
    "window_size = 50\n",
    "batch_size = window_size\n",
    "n_epochs = 10\n",
    "\n",
    "# Hidden layer for the LSTMs\n",
    "LSTM1 = 96\n",
    "LSTM2 = 96\n",
    "# Hidden size for the fully connected layer\n",
    "FC1 = 32\n",
    "\n",
    "# conv_net parameters\n",
    "\n",
    "num_filter1 = 32\n",
    "num_filter2 = 2\n",
    "\n",
    "num_participants = 2\n",
    "num_input = 98\n",
    "epsilon = 0.001\n",
    "beta = 0.02\n",
    "learning_rate = 0.000001"
   ]
  },
  {
   "cell_type": "code",
   "execution_count": 372,
   "metadata": {
    "collapsed": false
   },
   "outputs": [],
   "source": [
    "def CNNencoder(train_x, train_y, val_x, val_y,hidden_size_bilstm=hidden_size_bilstm, hidden_size_mainlstm=hidden_size_mainlstm, batch_size = batch_size,  n_epochs=n_epochs, epsilon = epsilon, learning_rate=learning_rate):\n",
    "    \n",
    "    \n",
    "    with tf.variable_scope('data'):\n",
    "        alpha = tf.placeholder_with_default(1.0, shape=())\n",
    "        prob = tf.placeholder_with_default(1.0, shape=())\n",
    "        X = tf.placeholder(shape=[window_size, num_input, num_participants, 1], dtype = tf.float32, name = \"input\")\n",
    "        y = tf.placeholder(shape = [window_size,1], dtype = tf.float32, name = \"label_annotation\")\n",
    "    \n",
    "    with tf.variable_scope(\"Convolution_layer1\"):\n",
    "        conv1 = tf.layers.conv2d(inputs=X,filters=num_filter1, kernel_size=[2, 2], strides=(2, 2),padding=\"valid\",activation=tf.nn.relu)\n",
    "        conv1 = tf.transpose(conv1, [0,1,3,2])\n",
    "        \n",
    "    with tf.variable_scope(\"Convolution_layer2\"):\n",
    "        conv2 = tf.layers.conv2d(inputs=conv1,filters=num_filter2, kernel_size=[3, num_filter1], strides=(1, num_filter1),padding=\"same\",activation=tf.nn.relu)\n",
    "        conv2 = tf.reshape(conv2, (window_size, 49*num_filter2))\n",
    "         \n",
    "        batch_mean1, batch_var1 = tf.nn.moments(conv2,[0])\n",
    "        scale1 = tf.Variable(tf.ones([49*num_filter2]))\n",
    "        beta1 = tf.Variable(tf.zeros([49*num_filter2]))\n",
    "        BN1 = tf.nn.batch_normalization(conv2,batch_mean1, batch_var1, beta1, scale1, epsilon)\n",
    "        BN1 = tf.nn.dropout(BN1, prob)\n",
    "\n",
    "        BN1 = tf.reshape(BN1, [window_size, 1, 49*num_filter2])\n",
    "        BN1 = tf.unstack(BN1)\n",
    "        \n",
    "        \n",
    "    #with tf.variable_scope('Fully_connected_encoder2'):\n",
    "    #    W_input_encoder2 = tf.Variable(tf.random_normal(shape = [size_encoder1, size_encoder2], stddev = 0.1), name = \"weights_input2\", trainable = True)\n",
    "    #    hidden_units_encoder2 = tf.matmul(relu_hidden_encoder, W_input_encoder2)\n",
    "    #    batch_mean_encoder2, batch_var_encoder2 = tf.nn.moments(hidden_units_encoder2,[0])\n",
    "    #    scale_encoder2 = tf.Variable(tf.ones([size_encoder2]), trainable = True)\n",
    "    #    beta_encoder2 = tf.Variable(tf.zeros([size_encoder2]), trainable = True)\n",
    "    #    BN_encoder2 = tf.nn.batch_normalization(hidden_units_encoder2,batch_mean_encoder2, batch_var_encoder2, beta_encoder2, scale_encoder2, epsilon)\n",
    "    #    relu_hidden_encoder2 = tf.nn.relu(BN_encoder2, name = \"ReLu_hidden_encoder2\")\n",
    "    #    relu_hidden_encoder2 = tf.reshape(relu_hidden_encoder2, (1, window_size, size_encoder2))\n",
    "    #    relu_hidden_encoder2 = tf.unstack(relu_hidden_encoder2, window_size, 1)\n",
    "    \n",
    "    with tf.variable_scope('lstm_cell_2'):\n",
    "        rnn_layers = [tf.nn.rnn_cell.LSTMCell(size) for size in [hidden_size_mainlstm, hidden_size_mainlstm]]\n",
    "        multi_rnn_cell = tf.nn.rnn_cell.MultiRNNCell(rnn_layers)\n",
    "        lstm_outputs2, lstm_state2 =  tf.contrib.rnn.static_rnn(cell=multi_rnn_cell,inputs=BN1,dtype=tf.float32)\n",
    "        lstm_outputs2 = tf.stack(tf.squeeze(lstm_outputs2))\n",
    "        \n",
    "        batch_mean3, batch_var3 = tf.nn.moments(lstm_outputs2,[0])\n",
    "        scale3 = tf.Variable(tf.ones([hidden_size_mainlstm]))\n",
    "        beta3 = tf.Variable(tf.zeros([hidden_size_mainlstm]))\n",
    "        BN3 = tf.nn.batch_normalization(lstm_outputs2,batch_mean3, batch_var3, beta3, scale3, epsilon) \n",
    "        BN3 = tf.nn.dropout(BN3, prob)\n",
    "        \n",
    "        \n",
    "    with tf.variable_scope('Fully_connected_Layer1'):\n",
    "        W_hidden = tf.Variable(tf.random_normal(shape = [hidden_size_mainlstm, FC1], stddev = 0.1), name = \"weights_hidden\", trainable = True)\n",
    "        hidden_relu = tf.matmul(BN3, W_hidden)\n",
    "        \n",
    "        batch_mean4, batch_var4 = tf.nn.moments(hidden_relu,[0])\n",
    "        scale4 = tf.Variable(tf.ones([FC1]))\n",
    "        beta4 = tf.Variable(tf.zeros([FC1]))\n",
    "        BN4 = tf.nn.batch_normalization(hidden_relu,batch_mean4, batch_var4, beta4, scale4, epsilon)\n",
    "        BN4 = tf.nn.relu(BN4, name = \"ReLu_hidden_layer\")\n",
    "        \n",
    "    \n",
    "    with tf.variable_scope('loss'):\n",
    "        W_hidden2 = tf.Variable(tf.random_normal(shape = [FC1, 1], stddev = 0.1), name = \"linear_layer\", trainable = True)\n",
    "        b_hidden_2 = tf.Variable(tf.zeros([window_size, 1]), name=\"bias_hidden2\", trainable = True)\n",
    "        logits_all = tf.nn.relu(tf.matmul(BN4, W_hidden2)+b_hidden_2)\n",
    "        logits_others = logits_all[:window_size-1,:]\n",
    "        logits_all =  tf.reshape(logits_all, (1,window_size))\n",
    "\n",
    "        W_all = tf.Variable(tf.random_normal(shape = [window_size, 1], stddev = 0.1), name = \"linear_others\", trainable = True)\n",
    "        logit_main = tf.matmul(logits_all,W_all)\n",
    "          \n",
    "        loss_other =  tf.losses.mean_squared_error(predictions = logits_others, labels = y[:window_size-1])\n",
    "        loss_main = tf.losses.mean_squared_error(predictions = logit_main, labels = y[window_size-1:])\n",
    "        loss = loss_other + alpha * loss_main\n",
    "        l2 = beta * sum(tf.nn.l2_loss(tf_var) for tf_var in tf.trainable_variables() if not (\"noreg\" in tf_var.name or \"bias\" in tf_var.name))\n",
    "        loss += l2\n",
    "\n",
    "    \n",
    "    global_step = tf.Variable(0, trainable=False)\n",
    "    optimizer = tf.train.AdamOptimizer(learning_rate = learning_rate)\n",
    "    train_op = optimizer.minimize(loss)\n",
    "    \n",
    "    init = tf.global_variables_initializer()\n",
    "    sess = tf.Session()\n",
    "    sess.run(init)\n",
    "    \n",
    "    #saver = tf.train.Saver()\n",
    "    writer = tf.summary.FileWriter('./graphs/LSTM', sess.graph)\n",
    "    \n",
    "    #ckpt = tf.train.get_checkpoint_state(os.path.dirname('checkpoints/lstm/checkpoint'))\n",
    "\n",
    "    #if ckpt and ckpt.model_checkpoint_path:\n",
    "    #    saver.restore(sess, ckpt.model_checkpoint_path)\n",
    "    \n",
    "    val_loss = []\n",
    "    train_loss_list = []\n",
    "    for i in range(1, n_epochs+1):\n",
    "        pred_val = []\n",
    "        train_loss_list = []\n",
    "\n",
    "        indices = list(range(len(train_x)))\n",
    "        shuffle(indices)\n",
    "        for index1 in indices:\n",
    "            train_loss = 0\n",
    "            list_x, list_y = ManyToMany(train_x[index1], train_y[index1], window_size = window_size, val_boolean = 0)\n",
    "            \n",
    "            for index in range(len(list_x)):\n",
    "\n",
    "                X_batch = np.reshape(list_x[index], (window_size, 2, num_input, 1))\n",
    "                X_batch = np.transpose(X_batch, (0,2,1,3))\n",
    "                Y_batch = np.reshape(list_y[index], (window_size,1))\n",
    "                \n",
    "                _, Loss = sess.run([train_op, loss_main], feed_dict = {X: X_batch, y: Y_batch, alpha: 2, prob: 0.75})\n",
    "                train_loss += Loss\n",
    "            train_loss /= len(list_x)\n",
    "            train_loss_list.append(train_loss)\n",
    "        \n",
    "        train_loss_sum = sum(train_loss_list)/len(train_x)\n",
    "        train_loss_list.append(train_loss_sum)\n",
    "            \n",
    "        print('Epoch ' + str(i) + ' done.')\n",
    "        if(i % 1 == 0):\n",
    "           \n",
    "            list_list_val_y = []\n",
    "            pred_val = []        \n",
    "            loss_main_list = []\n",
    "            for index in range(len(val_x)):\n",
    "              \n",
    "                total_loss_main = 0\n",
    "                list_x_val, list_y_val = ManyToMany(val_x[index], val_y[index], window_size = window_size, val_boolean = 1)\n",
    "                \n",
    "                for index1 in range(len(list_x_val)):\n",
    "                    \n",
    "                    X_batch = np.reshape(list_x_val[index1], (window_size, 2, num_input, 1))\n",
    "                    X_batch = np.transpose(X_batch, (0,2,1,3))\n",
    "                    Y_batch = np.reshape(list_y_val[index1], (window_size,1))\n",
    "                    loss_batch, logits_batch = sess.run([loss_main, logit_main], feed_dict = {X: X_batch, y: Y_batch, alpha: 2, prob: 1})\n",
    "                    pred_val.append(logits_batch[0])\n",
    "                    list_list_val_y.append(Y_batch[window_size-1])\n",
    "                \n",
    "                    total_loss_main += loss_batch\n",
    "                \n",
    "                total_loss_main /= len(list_x_val)\n",
    "                loss_main_list.append(total_loss_main)\n",
    "   \n",
    "            main_sum_loss =  sum(loss_main_list)/len(val_x)\n",
    "\n",
    "            pred_val_classes = MakeOneHot(pred_val)\n",
    "            Val_list_y_classes = MakeOneHot(list_list_val_y)\n",
    "            accuracy = ComputeAccuracy(Val_list_y_classes, pred_val_classes) \n",
    "            \n",
    "            print(\"Step: \" + str(i) + \" MSE val loss is \" + str(main_sum_loss)+ \" MSE training loss \" + str(train_loss_sum))\n",
    "            print(\"The total of good classification is: \" + str(accuracy))\n",
    "            val_loss.append(main_sum_loss)\n",
    "            #saver.save(sess, 'checkpoints/lstm/method1', i)\n",
    "\n",
    "          \n",
    "    lowest_loss = min(val_loss)\n",
    "    min_index = (val_loss.index(min(val_loss))+1)\n",
    "  \n",
    "    print(\"The lowest validation loss is at epoch \" + str(min_index) + \" is: \" + str(lowest_loss))\n",
    "     \n",
    "    writer.close()    \n",
    "    sess.close()\n",
    "    tf.reset_default_graph()\n",
    "    return lowest_loss, min_index, val_loss, train_loss_list, pred_val"
   ]
  },
  {
   "cell_type": "code",
   "execution_count": 690,
   "metadata": {
    "collapsed": false
   },
   "outputs": [],
   "source": [
    "lowest_loss, min_index, val_loss, train_loss_list, pred_val = CNNencoder(Train_list, Train_list_y, Val_list, Val_list_y)"
   ]
  },
  {
   "cell_type": "code",
   "execution_count": null,
   "metadata": {
    "collapsed": true
   },
   "outputs": [],
   "source": []
  },
  {
   "cell_type": "code",
   "execution_count": null,
   "metadata": {
    "collapsed": true
   },
   "outputs": [],
   "source": []
  }
 ],
 "metadata": {
  "kernelspec": {
   "display_name": "Python [conda root]",
   "language": "python",
   "name": "conda-root-py"
  },
  "language_info": {
   "codemirror_mode": {
    "name": "ipython",
    "version": 3
   },
   "file_extension": ".py",
   "mimetype": "text/x-python",
   "name": "python",
   "nbconvert_exporter": "python",
   "pygments_lexer": "ipython3",
   "version": "3.5.2"
  }
 },
 "nbformat": 4,
 "nbformat_minor": 2
}
