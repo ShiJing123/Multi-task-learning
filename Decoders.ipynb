{
 "cells": [
  {
   "cell_type": "code",
   "execution_count": 1,
   "metadata": {
    "collapsed": false
   },
   "outputs": [
    {
     "name": "stdout",
     "output_type": "stream",
     "text": [
      "[name: \"/device:CPU:0\"\n",
      "device_type: \"CPU\"\n",
      "memory_limit: 268435456\n",
      "locality {\n",
      "}\n",
      "incarnation: 16050052177339007573\n",
      "]\n"
     ]
    }
   ],
   "source": [
    "import numpy as np\n",
    "import sklearn\n",
    "from scipy.stats.stats import pearsonr\n",
    "import pickle\n",
    "import pandas as pd\n",
    "from scipy.cluster.vq import whiten\n",
    "from sklearn import cluster\n",
    "from sklearn import manifold\n",
    "from sklearn.decomposition import PCA\n",
    "from sklearn import decomposition\n",
    "import matplotlib.pyplot as plt\n",
    "import urllib\n",
    "import tensorflow as tf\n",
    "from sklearn.cross_decomposition import CCA\n",
    "from sklearn.decomposition import PCA, KernelPCA\n",
    "from sklearn.datasets import make_circles\n",
    "from numpy import genfromtxt\n",
    "from random import shuffle\n",
    "import os\n",
    "os.environ[\"CUDA_DEVICE_ORDER\"]=\"PCI_BUS_ID\"   \n",
    "os.environ[\"CUDA_VISIBLE_DEVICES\"]=\"0\"\n",
    "from tensorflow.python.client import device_lib\n",
    "print(device_lib.list_local_devices())"
   ]
  },
  {
   "cell_type": "code",
   "execution_count": 2,
   "metadata": {
    "collapsed": false
   },
   "outputs": [
    {
     "name": "stdout",
     "output_type": "stream",
     "text": [
      "1.4.0\n"
     ]
    }
   ],
   "source": [
    "print(tf.__version__)"
   ]
  },
  {
   "cell_type": "markdown",
   "metadata": {},
   "source": [
    "# Get the folder names and length"
   ]
  },
  {
   "cell_type": "code",
   "execution_count": 3,
   "metadata": {
    "collapsed": true
   },
   "outputs": [],
   "source": [
    "def GetName(path):\n",
    "    Folder = []\n",
    "    r = []\n",
    "    Subfolder = []\n",
    "    full_path = []\n",
    "    count_list = []\n",
    "    for folder in os.listdir(path):\n",
    "        count = 0\n",
    "        Folder.append(folder)\n",
    "        for subfolder in os.listdir(path+'/'+folder):\n",
    "            Subfolder.append(subfolder)\n",
    "            for files in os.listdir(path+'/'+folder+'/'+subfolder):\n",
    "                if os.path.splitext(files)[1] == \".pts\":\n",
    "                    r.append(files) \n",
    "                    full_path.append(folder+'/'+subfolder+'/'+files)\n",
    "                    count += 1\n",
    "        count_list.append(count)\n",
    "    return Folder, Subfolder, r, full_path, count_list"
   ]
  },
  {
   "cell_type": "code",
   "execution_count": 4,
   "metadata": {
    "collapsed": true
   },
   "outputs": [],
   "source": [
    "# Get what we need for each FOLD (1,2,3,4,5) for two people involved\n",
    "\n",
    "# for FOLD_1\n",
    "path = r\"C:/Users/pinouche/Downloads/FOLD_1/\"\n",
    "Folders_Fold1, Subfolders_Fold1, Files_Fold1, Full_path_Fold1, count_list_FOLD1 = GetName(path)"
   ]
  },
  {
   "cell_type": "code",
   "execution_count": 5,
   "metadata": {
    "collapsed": false
   },
   "outputs": [],
   "source": [
    "# FOLD 2\n",
    "path = r\"C:/Users/pinouche/Downloads/FOLD_2/\"\n",
    "Folders_Fold2, Subfolders_Fold2, Files_Fold2, Full_path_Fold2, count_list_FOLD2 = GetName(path)"
   ]
  },
  {
   "cell_type": "code",
   "execution_count": 6,
   "metadata": {
    "collapsed": true
   },
   "outputs": [],
   "source": [
    "# FOLD 3\n",
    "path = r\"C:/Users/pinouche/Downloads/FOLD_3/\"\n",
    "Folders_Fold3, Subfolders_Fold3, Files_Fold3, Full_path_Fold3, count_list_FOLD3 = GetName(path)"
   ]
  },
  {
   "cell_type": "code",
   "execution_count": 7,
   "metadata": {
    "collapsed": true
   },
   "outputs": [],
   "source": [
    "# FOLD 4\n",
    "path = r\"C:/Users/pinouche/Downloads/FOLD_4/\"\n",
    "Folders_Fold4, Subfolders_Fold4, Files_Fold4, Full_path_Fold4, count_list_FOLD4 = GetName(path)"
   ]
  },
  {
   "cell_type": "code",
   "execution_count": 8,
   "metadata": {
    "collapsed": true
   },
   "outputs": [],
   "source": [
    "#FOLD 5\n",
    "path = r\"C:/Users/pinouche/Downloads/FOLD_5/\"\n",
    "Folders_Fold5, Subfolders_Fold5, Files_Fold5, Full_path_Fold5, count_list_FOLD5 = GetName(path)"
   ]
  },
  {
   "cell_type": "code",
   "execution_count": 9,
   "metadata": {
    "collapsed": false
   },
   "outputs": [
    {
     "name": "stdout",
     "output_type": "stream",
     "text": [
      "[(73,), (73,), (213072,)]\n"
     ]
    }
   ],
   "source": [
    "# concat the folders above and print some information about the shapes\n",
    "\n",
    "Folders_full = np.concatenate([Folders_Fold1, Folders_Fold2, Folders_Fold3, Folders_Fold4, Folders_Fold5])\n",
    "Count_full = np.concatenate([count_list_FOLD1, count_list_FOLD2, count_list_FOLD3, count_list_FOLD4, count_list_FOLD5])\n",
    "Full_path_full = np.concatenate([Full_path_Fold1, Full_path_Fold2, Full_path_Fold3, Full_path_Fold4, Full_path_Fold5])\n",
    "print([Folders_full.shape, Count_full.shape, Full_path_full.shape])"
   ]
  },
  {
   "cell_type": "markdown",
   "metadata": {},
   "source": [
    "# Load the data"
   ]
  },
  {
   "cell_type": "code",
   "execution_count": 10,
   "metadata": {
    "collapsed": false
   },
   "outputs": [
    {
     "name": "stdout",
     "output_type": "stream",
     "text": [
      "(106536, 196)\n"
     ]
    }
   ],
   "source": [
    "# Retrieve the data for FOLD1\n",
    "\n",
    "data_x = pickle.load( open( \"data_x.p\", \"rb\" ))\n",
    "print(data_x.shape)"
   ]
  },
  {
   "cell_type": "code",
   "execution_count": 11,
   "metadata": {
    "collapsed": false
   },
   "outputs": [
    {
     "name": "stdout",
     "output_type": "stream",
     "text": [
      "(106536, 272)\n"
     ]
    }
   ],
   "source": [
    "data_x_68 = pickle.load( open( \"data_x_68.p\", \"rb\" ))\n",
    "print(data_x_68.shape)"
   ]
  },
  {
   "cell_type": "code",
   "execution_count": 12,
   "metadata": {
    "collapsed": false
   },
   "outputs": [
    {
     "name": "stdout",
     "output_type": "stream",
     "text": [
      "(73,)\n"
     ]
    }
   ],
   "source": [
    "# Retrieve the annotations\n",
    "\n",
    "annotation_vector_Two = pickle.load( open( \"annotation_vector_Two.p\", \"rb\" ))\n",
    "print(annotation_vector_Two.shape)"
   ]
  },
  {
   "cell_type": "markdown",
   "metadata": {},
   "source": [
    "# Put the 68 point data into the right form "
   ]
  },
  {
   "cell_type": "code",
   "execution_count": 13,
   "metadata": {
    "collapsed": true
   },
   "outputs": [],
   "source": [
    "def ConcatFulldata(data):\n",
    "    #new_data = np.zeros((1,68*4))\n",
    "    count = 0\n",
    "    counter = 0\n",
    "    listt = []\n",
    "    for element in Count_full:\n",
    "        element2 = int(element/2)\n",
    "        for index in range(element2):\n",
    "            concat = np.reshape(np.concatenate([Full_data_x[count+index,:],Full_data_x[count+element2+index,:]], axis = 0), (1,68*4))\n",
    "            listt.append(concat)\n",
    "            counter += 1\n",
    "            if counter % 5000 == 0:\n",
    "                print(str(counter)+\"/106536 done\")\n",
    "        count += element\n",
    "    listt = np.asarray(listt)\n",
    "    return(listt)"
   ]
  },
  {
   "cell_type": "markdown",
   "metadata": {},
   "source": [
    "# scale the data"
   ]
  },
  {
   "cell_type": "code",
   "execution_count": 14,
   "metadata": {
    "collapsed": false
   },
   "outputs": [
    {
     "name": "stderr",
     "output_type": "stream",
     "text": [
      "C:\\Users\\pinouche\\Anaconda3\\lib\\site-packages\\sklearn\\utils\\validation.py:429: DataConversionWarning: Data with input dtype <U7 was converted to float64 by the scale function.\n",
      "  warnings.warn(msg, _DataConversionWarning)\n"
     ]
    }
   ],
   "source": [
    "# get the participants separated\n",
    "\n",
    "from sklearn import preprocessing\n",
    "\n",
    "data_participant1 = data_x_68[:,:98]\n",
    "data_participant2 = data_x_68[:,98:]\n",
    "participant1_scaled = preprocessing.scale(data_participant1)\n",
    "participant2_scaled = preprocessing.scale(data_participant2)\n",
    "data_x = preprocessing.scale(data_x)"
   ]
  },
  {
   "cell_type": "markdown",
   "metadata": {},
   "source": [
    "# Smooth the response data"
   ]
  },
  {
   "cell_type": "code",
   "execution_count": 15,
   "metadata": {
    "collapsed": true
   },
   "outputs": [],
   "source": [
    "from astropy.convolution import convolve, Gaussian1DKernel, Box1DKernel\n",
    "\n",
    "def SmoothResponse(response_list = annotation_vector_Two):\n",
    "    length = len(annotation_vector_Two)\n",
    "    gauss_kernel_40 = Gaussian1DKernel(25)\n",
    "    gauss_kernel_50 = Gaussian1DKernel(50)\n",
    "    gauss_kernel_75 = Gaussian1DKernel(75)\n",
    "    gauss_kernel_100 = Gaussian1DKernel(100)\n",
    "    annotation_RBF40 = []\n",
    "    annotation_RBF50 = []\n",
    "    annotation_RBF75 = []\n",
    "    annotation_RBF100 = []\n",
    "    for index in range(length):\n",
    "        response_list[index] = np.reshape(response_list[index], (response_list[index].shape[0],))\n",
    "        \n",
    "        Ann40 = convolve(response_list[index], gauss_kernel_40)\n",
    "        Ann40[response_list[index].shape[0]-100:,] = response_list[index][response_list[index].shape[0]-100:]\n",
    "        Ann40 = np.reshape(Ann40, (response_list[index].shape[0],1))\n",
    "        \n",
    "        Ann50 = convolve(response_list[index], gauss_kernel_50)\n",
    "        Ann50[response_list[index].shape[0]-100:,] = response_list[index][response_list[index].shape[0]-100:]\n",
    "        Ann50 = np.reshape(Ann50, (response_list[index].shape[0],1))\n",
    "        \n",
    "        Ann75 = convolve(response_list[index], gauss_kernel_75)\n",
    "        Ann75[response_list[index].shape[0]-100:,] = response_list[index][response_list[index].shape[0]-100:]\n",
    "        Ann75 = np.reshape(Ann75, (response_list[index].shape[0],1))\n",
    "        \n",
    "        Ann100 = convolve(response_list[index], gauss_kernel_100)\n",
    "        Ann100[response_list[index].shape[0]-100:,] = response_list[index][response_list[index].shape[0]-100:]\n",
    "        Ann100 = np.reshape(Ann100, (response_list[index].shape[0],1))\n",
    "    \n",
    "        annotation_RBF40.append(Ann40)\n",
    "        annotation_RBF50.append(Ann50)\n",
    "        annotation_RBF75.append(Ann75)\n",
    "        annotation_RBF100.append(Ann100)\n",
    "           \n",
    "    return annotation_RBF40, annotation_RBF50, annotation_RBF75, annotation_RBF100 "
   ]
  },
  {
   "cell_type": "code",
   "execution_count": 16,
   "metadata": {
    "collapsed": false
   },
   "outputs": [
    {
     "name": "stdout",
     "output_type": "stream",
     "text": [
      "[73, 73, 73, 73]\n",
      "[(11155, 1), (11155, 1), (11155, 1), (11155, 1)]\n"
     ]
    }
   ],
   "source": [
    "annotation_RBF40, annotation_RBF50, annotation_RBF75, annotation_RBF100 = SmoothResponse()\n",
    "print([len(annotation_RBF40), len(annotation_RBF50), len(annotation_RBF75), len(annotation_RBF100)])\n",
    "print([annotation_RBF40[0].shape, annotation_RBF50[0].shape, annotation_RBF75[0].shape, annotation_RBF100[0].shape])"
   ]
  },
  {
   "cell_type": "code",
   "execution_count": 17,
   "metadata": {
    "collapsed": false
   },
   "outputs": [
    {
     "data": {
      "image/png": "[encoded data removed]",
      "text/plain": [
       "<matplotlib.figure.Figure at 0x1fc6bb389e8>"
      ]
     },
     "metadata": {},
     "output_type": "display_data"
    }
   ],
   "source": [
    "# Plot a few video sequences to see if smoothing is justified\n",
    "\n",
    "fig = plt.figure(figsize=(17, 6))\n",
    "plt.plot(annotation_vector_Two[1])\n",
    "plt.plot(annotation_RBF100[1])\n",
    "plt.plot(annotation_RBF40[1])\n",
    "plt.title('True labels')\n",
    "plt.ylabel('Conflict intensity')\n",
    "plt.xlabel('Frames')\n",
    "plt.legend(['True labels'], loc='upper left')\n",
    "plt.show()"
   ]
  },
  {
   "cell_type": "markdown",
   "metadata": {},
   "source": [
    "# Prepare data to feed into NN"
   ]
  },
  {
   "cell_type": "code",
   "execution_count": 18,
   "metadata": {
    "collapsed": true
   },
   "outputs": [],
   "source": [
    "def Makelist(data,Count):\n",
    "    Count = Count/2\n",
    "    list_data = []\n",
    "    ball = 0\n",
    "    for index in range(0,len(Count)):\n",
    "        list_data.append(data[ball:(ball+int(Count[index])),:])\n",
    "        ball += int(Count[index])\n",
    "    return(np.asarray(list_data))"
   ]
  },
  {
   "cell_type": "code",
   "execution_count": 19,
   "metadata": {
    "collapsed": true
   },
   "outputs": [],
   "source": [
    "list_data_x = Makelist(data_x_68, Count_full)"
   ]
  },
  {
   "cell_type": "code",
   "execution_count": 21,
   "metadata": {
    "collapsed": true
   },
   "outputs": [],
   "source": [
    "# put the things into FOLDS\n",
    "\n",
    "def DoFOLDS(list_data, annotation_list_smooth, annotation_list, num_folder1=len(Folders_Fold1), num_folder2=len(Folders_Fold2), num_folder3=len(Folders_Fold3), num_folder4=len(Folders_Fold4), num_folder5=len(Folders_Fold5)):\n",
    "    Fold1 = []\n",
    "    Fold2 = []\n",
    "    Fold3 = []\n",
    "    Fold4 = []\n",
    "    Fold5 = []\n",
    "    Fold1_y_smooth = []\n",
    "    Fold2_y_smooth = []\n",
    "    Fold3_y_smooth = []\n",
    "    Fold4_y_smooth = []\n",
    "    Fold5_y_smooth = []\n",
    "    Fold1_y = []\n",
    "    Fold2_y = []\n",
    "    Fold3_y = []\n",
    "    Fold4_y = []\n",
    "    Fold5_y = []\n",
    "    \n",
    "    for index in range(num_folder1):\n",
    "        Fold1.append(list_data[index])\n",
    "        Fold1_y_smooth.append(annotation_list_smooth[index])\n",
    "        Fold1_y.append(annotation_list[index])\n",
    "    for index in range(num_folder1, num_folder1+num_folder2):\n",
    "        Fold2.append(list_data[index])\n",
    "        Fold2_y_smooth.append(annotation_list_smooth[index])\n",
    "        Fold2_y.append(annotation_list[index])\n",
    "    for index in range(num_folder1+num_folder2,num_folder1+num_folder2+num_folder3):\n",
    "        Fold3.append(list_data[index])\n",
    "        Fold3_y_smooth.append(annotation_list_smooth[index])\n",
    "        Fold3_y.append(annotation_list[index])\n",
    "    for index in range(num_folder1+num_folder2+num_folder3,num_folder1+num_folder2+num_folder3+num_folder4):\n",
    "        Fold4.append(list_data[index])\n",
    "        Fold4_y.append(annotation_list[index])\n",
    "        Fold4_y_smooth.append(annotation_list_smooth[index])\n",
    "    for index in range(num_folder1+num_folder2+num_folder3+num_folder4,num_folder1+num_folder2+num_folder3+num_folder4+num_folder5):\n",
    "        Fold5.append(list_data[index])\n",
    "        Fold5_y_smooth.append(annotation_list_smooth[index])\n",
    "        Fold5_y.append(annotation_list[index])\n",
    "    \n",
    "    assert (len(Fold1)+len(Fold2)+len(Fold3)+len(Fold4)+len(Fold5)) == 73\n",
    "    \n",
    "    return Fold1, Fold2, Fold3, Fold4, Fold5, Fold1_y_smooth, Fold2_y_smooth, Fold3_y_smooth, Fold4_y_smooth, Fold5_y_smooth, Fold1_y, Fold2_y, Fold3_y, Fold4_y, Fold5_y\n",
    "\n",
    "Fold1, Fold2, Fold3, Fold4, Fold5, Fold1_y_smooth, Fold2_y_smooth, Fold3_y_smooth, Fold4_y_smooth, Fold5_y_smooth, Fold1_y, Fold2_y, Fold3_y, Fold4_y, Fold5_y = DoFOLDS(list_data_x,annotation_vector_Two, annotation_vector_Two)"
   ]
  },
  {
   "cell_type": "code",
   "execution_count": 22,
   "metadata": {
    "collapsed": false
   },
   "outputs": [],
   "source": [
    "#Test number must be either 1,2,3,4,5\n",
    "\n",
    "def MakeTrainValTest(test_number, Fold1=Fold1, Fold2=Fold2, Fold3=Fold3, Fold4=Fold4, Fold5=Fold5, Fold1_y=Fold1_y, Fold2_y=Fold2_y, Fold3_y=Fold3_y, Fold4_y=Fold4_y, Fold5_y=Fold5_y, Fold1_y_smooth=Fold1_y_smooth, Fold2_y_smooth=Fold2_y_smooth, Fold3_y_smooth=Fold3_y_smooth, Fold4_y_smooth=Fold4_y_smooth, Fold5_y_smooth=Fold5_y_smooth):\n",
    "    list_Folds = list([Fold1, Fold2, Fold3, Fold4, Fold5])\n",
    "    list_Folds_y = list([Fold1_y, Fold2_y, Fold3_y, Fold4_y, Fold5_y])\n",
    "    list_Folds_y_smooth = list([Fold1_y_smooth, Fold2_y_smooth, Fold3_y_smooth, Fold4_y_smooth, Fold5_y_smooth])\n",
    "    number_val_test = []\n",
    "    Train_list = []\n",
    "    Val_list = []\n",
    "    Test_list = []\n",
    "    Train_list_y = []\n",
    "    Val_list_y = []\n",
    "    Test_list_y = []\n",
    "    length = 0\n",
    "    \n",
    "    Test_list = list_Folds[test_number-1]\n",
    "    Test_list_y = list_Folds_y[test_number-1]\n",
    "    number_val_test.append(test_number-1)\n",
    "    \n",
    "    if(test_number == 1):\n",
    "        Val_list = list_Folds[4]\n",
    "        Val_list_y = list_Folds_y[4]\n",
    "        number_val_test.append(4)\n",
    "    else:\n",
    "        Val_list = list_Folds[test_number-2]\n",
    "        Val_list_y = list_Folds_y[test_number-2]\n",
    "        number_val_test.append(test_number-2)\n",
    "    \n",
    "    for index in range(5):\n",
    "        length = len(list_Folds[index])\n",
    "        if(index != number_val_test[0] and index != number_val_test[1]):\n",
    "            for index2 in range(length):\n",
    "                Train_list.append(list_Folds[index][index2])\n",
    "                Train_list_y.append(list_Folds_y_smooth[index][index2])       \n",
    "    \n",
    "    return Train_list, Val_list, Test_list, Train_list_y, Val_list_y, Test_list_y "
   ]
  },
  {
   "cell_type": "code",
   "execution_count": 23,
   "metadata": {
    "collapsed": true
   },
   "outputs": [],
   "source": [
    "Train_list, Val_list, Test_list, Train_list_y, Val_list_y, Test_list_y = MakeTrainValTest(1)"
   ]
  },
  {
   "cell_type": "code",
   "execution_count": 24,
   "metadata": {
    "collapsed": true
   },
   "outputs": [],
   "source": [
    "# Make the Val_list_y of interest from above in 3 classes (low, medium, high) of conflict\n",
    "\n",
    "def MakeOneHot(val_list_y):\n",
    "    new_list = []\n",
    "    a = np.array([1,0])\n",
    "    b = np.array([0,1])\n",
    "    #c = np.array([0,0,1])\n",
    "    for index in range(len(val_list_y)):\n",
    "        for element in val_list_y[index]:\n",
    "            if(element < 1/2):\n",
    "                new_list.append(a)\n",
    "            elif(element >= 1/2):\n",
    "                new_list.append(b)\n",
    "            #elif(element >= 2/3):\n",
    "            #    new_list.append(c)\n",
    "    return(new_list)"
   ]
  },
  {
   "cell_type": "code",
   "execution_count": 25,
   "metadata": {
    "collapsed": true
   },
   "outputs": [],
   "source": [
    "# function to compute the class accuracy\n",
    "\n",
    "def ComputeAccuracy(True_classes_list, predicted_classes_list):\n",
    "    accuracy = 0\n",
    "    assert len(True_classes_list) == len(predicted_classes_list)\n",
    "    for index in range(len(True_classes_list)):\n",
    "        if(all (True_classes_list[index] == predicted_classes_list[index])):\n",
    "            accuracy += 1\n",
    "    accuracy /= len(predicted_classes_list)\n",
    "    return(accuracy)"
   ]
  },
  {
   "cell_type": "code",
   "execution_count": 26,
   "metadata": {
    "collapsed": true
   },
   "outputs": [],
   "source": [
    "def MakeOneHotTrain(train_list_y):\n",
    "    new_list = []\n",
    "    final_list = []\n",
    "    a = np.array([1,0,0])\n",
    "    b = np.array([0,1,0])\n",
    "    c = np.array([0,0,1])\n",
    "    length = 0\n",
    "    count = 0\n",
    "    for index in range(len(train_list_y)):\n",
    "        length = len(train_list_y[index])\n",
    "        for element in train_list_y[index]:\n",
    "            if(element < 1/3):\n",
    "                new_list.append(a)\n",
    "            elif(element >= 1/3 and element < 2/3):\n",
    "                new_list.append(b)\n",
    "            elif(element >= 2/3):\n",
    "                new_list.append(c)\n",
    "        final_list.append(np.asarray(new_list[count:count+length]))\n",
    "        count += length\n",
    "    return(final_list)"
   ]
  },
  {
   "cell_type": "code",
   "execution_count": 27,
   "metadata": {
    "collapsed": true
   },
   "outputs": [],
   "source": [
    "def exclude_nan(x,y):\n",
    "\n",
    "    idx = logical_not(logical_or(isnan(x), isnan(y)))\n",
    "    x = x[idx]\n",
    "    y = y[idx]\n",
    "    n = len(x)\n",
    "    return [x, y, n]\n",
    "\n",
    "def compute_icc(x, y):\n",
    "\n",
    "    if all(x == y):\n",
    "        return 1\n",
    "\n",
    "    [x, y, n] = exclude_nan(x,y)\n",
    "\n",
    "    ## Need at least 3 data points to compute this\n",
    "    if n < 1:\n",
    "        return nan\n",
    "\n",
    "    Sx = sum(x); Sy = sum(y);\n",
    "    Sxx = sum(x*x); Sxy = sum( (x+y)**2 )/2; Syy = sum(y*y)\n",
    "\n",
    "    fact = ((Sx + Sy)**2)/(n*2)\n",
    "    SS_tot = Sxx + Syy - fact\n",
    "    SS_among = Sxy - fact\n",
    "    SS_error = SS_tot - SS_among\n",
    "\n",
    "    MS_error = SS_error/n\n",
    "    MS_among = SS_among/n\n",
    "\n",
    "    ICC = (MS_among - MS_error) / (MS_among + MS_error)\n",
    "\n",
    "    return ICC"
   ]
  },
  {
   "cell_type": "code",
   "execution_count": 28,
   "metadata": {
    "collapsed": true
   },
   "outputs": [],
   "source": [
    "def softmax(x):\n",
    "    e_x = np.exp(x - np.max(x))\n",
    "    return e_x / e_x.sum(axis=0)\n",
    "\n",
    "def SoftMaxFlatten(crocker):\n",
    "    finalList=[]\n",
    "    for element in crocker:\n",
    "        for sub_element in element:\n",
    "            smax=softmax(sub_element)\n",
    "            b = np.zeros_like(smax)\n",
    "            b[np.where(smax==np.max(smax))] = 1\n",
    "            finalList.append(b)\n",
    "            \n",
    "    return finalList"
   ]
  },
  {
   "cell_type": "code",
   "execution_count": 29,
   "metadata": {
    "collapsed": true
   },
   "outputs": [],
   "source": [
    "def PearsonCor(pred_val_list, val_list_y):\n",
    "    pearson_cor = 0\n",
    "    assert len(pred_val_list) == len(val_list_y)\n",
    "    for index in range(len(pred_val_list)):\n",
    "        pearson_cor += pearsonr(np.reshape(pred_val_list[index], (pred_val_list[index].shape[0],)), np.reshape(val_list_y[index], (val_list_y[index].shape[0],)))[0]\n",
    "        print(pearson_cor)\n",
    "    return(pearson_cor/len(pred_val_list))  "
   ]
  },
  {
   "cell_type": "code",
   "execution_count": 30,
   "metadata": {
    "collapsed": true
   },
   "outputs": [],
   "source": [
    "def ManyToOne(x_seq, y_seq, window_size, val_boolean):\n",
    "    list_x = []\n",
    "    list_y = []\n",
    "    list_x_shuffled = []\n",
    "    list_y_shuffled = []\n",
    "    assert len(x_seq) == len(y_seq)\n",
    "    lenght_new_seq = len(x_seq)-window_size+1\n",
    "    \n",
    "    for index in range(lenght_new_seq):\n",
    "        list_x.append(x_seq[index:window_size+index,:])\n",
    "        list_y.append(y_seq[window_size-1+index])\n",
    "    \n",
    "    if(val_boolean == 0):\n",
    "        indices = list(range(lenght_new_seq))\n",
    "        shuffle(indices)\n",
    "    \n",
    "        for element in indices:\n",
    "            list_x_shuffled.append(list_x[element])\n",
    "            list_y_shuffled.append(list_y[element])\n",
    "            \n",
    "    elif(val_boolean == 1):\n",
    "        list_x_shuffled = list_x\n",
    "        list_y_shuffled = list_y\n",
    "        \n",
    "    return list_x_shuffled, list_y_shuffled  "
   ]
  },
  {
   "cell_type": "code",
   "execution_count": 31,
   "metadata": {
    "collapsed": true
   },
   "outputs": [],
   "source": [
    "def ManyToMany(x_seq, y_seq, window_size, val_boolean):\n",
    "    list_x = []\n",
    "    list_y = []\n",
    "    list_x_shuffled = []\n",
    "    list_y_shuffled = []\n",
    "    assert len(x_seq) == len(y_seq)\n",
    "    lenght_new_seq = len(x_seq)-window_size+1\n",
    "    \n",
    "    for index in range(lenght_new_seq):\n",
    "        list_x.append(x_seq[index:window_size+index,:])\n",
    "        list_y.append(y_seq[index:window_size+index])\n",
    "    \n",
    "    if(val_boolean == 0):\n",
    "        indices = list(range(lenght_new_seq))\n",
    "        shuffle(indices)\n",
    "    \n",
    "        for element in indices:\n",
    "            list_x_shuffled.append(list_x[element])\n",
    "            list_y_shuffled.append(list_y[element])\n",
    "            \n",
    "    elif(val_boolean == 1):\n",
    "        list_x_shuffled = list_x\n",
    "        list_y_shuffled = list_y\n",
    "        \n",
    "    return list_x_shuffled, list_y_shuffled "
   ]
  },
  {
   "cell_type": "markdown",
   "metadata": {},
   "source": [
    "# Stacked many to many LSTM "
   ]
  },
  {
   "cell_type": "code",
   "execution_count": 32,
   "metadata": {
    "collapsed": true
   },
   "outputs": [],
   "source": [
    "tf.reset_default_graph()"
   ]
  },
  {
   "cell_type": "code",
   "execution_count": 547,
   "metadata": {
    "collapsed": true
   },
   "outputs": [],
   "source": [
    "timesteps_1 = 25\n",
    "window_size = timesteps_1\n",
    "batch_size = 1\n",
    "n_epochs = 10\n",
    "\n",
    "# Hidden layer for the LSTMs\n",
    "LSTM1 = 64\n",
    "LSTM2 = 64\n",
    "# Hidden size for the fully connected layer\n",
    "FC1 = 32\n",
    "\n",
    "num_input = 196\n",
    "epsilon = 0.001\n",
    "beta = 0.02\n",
    "learning_rate = 0.000001"
   ]
  },
  {
   "cell_type": "code",
   "execution_count": 548,
   "metadata": {
    "collapsed": false
   },
   "outputs": [],
   "source": [
    "def LSTM(train_x, train_y, val_x, val_y, learning_rate=learning_rate, batch_size=batch_size,  n_epochs=n_epochs, num_input=num_input, timesteps_1=timesteps_1, hidden_size = LSTM1, hidden_size1 = LSTM2, hidden_size2 = FC1, window_size = window_size):\n",
    "\n",
    "\n",
    "    with tf.variable_scope('data'):\n",
    "        alpha = tf.placeholder_with_default(1.0, shape=())\n",
    "        prob = tf.placeholder_with_default(1.0, shape=())\n",
    "        #prob2 = tf.placeholder_with_default(1.0, shape=())\n",
    "        X_or = tf.placeholder(shape = [batch_size, timesteps_1, num_input], dtype = tf.float32, name = \"input\")\n",
    "        \n",
    "        X = tf.unstack(X_or, timesteps_1, 1)\n",
    "        y = tf.placeholder(shape = [window_size,1], dtype = tf.float32, name = \"label_annotation\")\n",
    "        \n",
    "    with tf.variable_scope('lstm_cell_1'):\n",
    "        rnn_layers = [tf.nn.rnn_cell.LSTMCell(size) for size in [hidden_size, hidden_size1]]\n",
    "        multi_rnn_cell = tf.nn.rnn_cell.MultiRNNCell(rnn_layers)\n",
    "        lstm_outputs, lstm_state =  tf.contrib.rnn.static_rnn(cell=multi_rnn_cell,inputs=X,dtype=tf.float32)\n",
    "        lstm_outputs = tf.stack(tf.squeeze(lstm_outputs))\n",
    "        \n",
    "        batch_mean1, batch_var1 = tf.nn.moments(lstm_outputs,[0])\n",
    "        scale1 = tf.Variable(tf.ones([hidden_size1]))\n",
    "        beta1 = tf.Variable(tf.zeros([hidden_size1]))\n",
    "        BN1 = tf.nn.batch_normalization(lstm_outputs,batch_mean1, batch_var1, beta1, scale1, epsilon) \n",
    "        #BN1 = tf.nn.dropout(BN1, prob, noise_shape = [1,hidden_size1])\n",
    "        \n",
    "\n",
    "    ##################\n",
    "        \n",
    "    with tf.variable_scope('Fully_connected_Layer1'):\n",
    "        W_hidden = tf.Variable(tf.random_normal(shape = [hidden_size1, hidden_size2], stddev = 0.1), name = \"weights_hidden\", trainable = True)\n",
    "        hidden_relu = tf.matmul(tf.squeeze(BN1), W_hidden)\n",
    "        \n",
    "        batch_mean2, batch_var2 = tf.nn.moments(hidden_relu,[0])\n",
    "        scale2 = tf.Variable(tf.ones([hidden_size2]))\n",
    "        beta2 = tf.Variable(tf.zeros([hidden_size2]))\n",
    "        BN2 = tf.nn.batch_normalization(hidden_relu,batch_mean2, batch_var2, beta2, scale2, epsilon) \n",
    "        BN2 = tf.nn.relu(BN2)\n",
    "        BN2 = tf.nn.dropout(BN2, prob, noise_shape = [1,hidden_size2])\n",
    "            \n",
    "  \n",
    "    with tf.variable_scope('loss'):\n",
    "        W_hidden2 = tf.Variable(tf.random_normal(shape = [hidden_size2, 1], stddev = 0.1), name = \"linear_layer\", trainable = True)\n",
    "        b_hidden_2 = tf.Variable(tf.zeros([window_size, 1]), name=\"bias\", trainable = True)\n",
    "        logits_all = tf.nn.relu(tf.matmul(BN2, W_hidden2)+b_hidden_2)\n",
    "        logits_others = logits_all[:window_size-1,:]\n",
    "        logits_all =  tf.reshape(logits_all, (1,window_size))\n",
    "\n",
    "        W_all = tf.Variable(tf.random_normal(shape = [window_size, 1], stddev = 0.1), name = \"linear_others\", trainable = True)\n",
    "        logit_main = tf.matmul(logits_all,W_all)\n",
    "          \n",
    "        loss_other =  tf.losses.mean_squared_error(predictions = logits_others, labels = y[:window_size-1])\n",
    "        loss_main = tf.losses.mean_squared_error(predictions = logit_main, labels = y[window_size-1:])\n",
    "        loss = loss_other + alpha * loss_main\n",
    "        regularized_variables = list([tf.trainable_variables()[6],tf.trainable_variables()[7],tf.trainable_variables()[8],tf.trainable_variables()[9],tf.trainable_variables()[11]])\n",
    "        l2 = beta * sum(tf.nn.l2_loss(tf_var) for tf_var in regularized_variables)\n",
    "        loss += l2\n",
    "        \n",
    "    global_step = tf.Variable(0, trainable=False)\n",
    "    optimizer = tf.train.AdamOptimizer(learning_rate = learning_rate)\n",
    "    train_op = optimizer.minimize(loss)\n",
    "    \n",
    "\n",
    "    init = tf.global_variables_initializer()\n",
    "    sess = tf.Session()\n",
    "    sess.run(init)\n",
    "    \n",
    "    writer = tf.summary.FileWriter('./graphs', sess.graph)\n",
    "    \n",
    "    #saver = tf.train.Saver()\n",
    "    \n",
    "    #ckpt = tf.train.get_checkpoint_state(os.path.dirname('checkpoints/lstm/checkpoint'))\n",
    "\n",
    "    #if ckpt and ckpt.model_checkpoint_path:\n",
    "    #    saver.restore(sess, ckpt.model_checkpoint_path)\n",
    "    \n",
    "    val_loss = []\n",
    "    train_loss_list = []\n",
    "    for i in range(1, n_epochs+1):\n",
    "        pred_val = []\n",
    "        train_loss_list = []\n",
    "\n",
    "        indices = list(range(len(train_x)))\n",
    "        shuffle(indices)\n",
    "        for index1 in indices:\n",
    "            train_loss = 0\n",
    "            list_x, list_y = ManyToMany(train_x[index1], train_y[index1], window_size = window_size, val_boolean = 0)\n",
    "            \n",
    "            for index in range(len(list_x)):\n",
    "                \n",
    "                X_batch = np.reshape(list_x[index], (1, window_size, num_input))\n",
    "                Y_batch = np.reshape(list_y[index], (window_size,1))\n",
    "                \n",
    "                _, Loss = sess.run([train_op, loss_main], feed_dict = {X_or: X_batch, y: Y_batch, alpha: 2, prob: 0.8})\n",
    "                train_loss += Loss\n",
    "            train_loss /= len(list_x)\n",
    "            train_loss_list.append(train_loss)\n",
    "        \n",
    "        train_loss_sum = sum(train_loss_list)/len(train_x)\n",
    "        train_loss_list.append(train_loss_sum)\n",
    "            \n",
    "        print('Epoch ' + str(i) + ' done.')\n",
    "        if(i % 1 == 0):\n",
    "\n",
    "            list_list_val_y = []\n",
    "            pred_val = []        \n",
    "            loss_main_list = []\n",
    "            for index in range(len(val_x)):\n",
    "                #total_loss = 0\n",
    "                total_loss_main = 0\n",
    "                list_x_val, list_y_val = ManyToMany(val_x[index], val_y[index], window_size = window_size, val_boolean = 1)\n",
    "                \n",
    "                for index1 in range(len(list_x_val)):\n",
    "                    \n",
    "                    X_batch = np.reshape(list_x_val[index1], (1, window_size, num_input))\n",
    "                    Y_batch = np.reshape(list_y_val[index1], (window_size,1))\n",
    "                    loss_batch, logits_batch = sess.run([loss_main, logit_main], feed_dict = {X_or: X_batch, y: Y_batch, alpha: 2, prob: 1})\n",
    "                    pred_val.append(logits_batch[0])\n",
    "                    list_list_val_y.append(Y_batch[window_size-1])\n",
    "                \n",
    "               \n",
    "                    total_loss_main += loss_batch\n",
    "                \n",
    "                total_loss_main /= len(list_x_val)\n",
    "                loss_main_list.append(total_loss_main)\n",
    "\n",
    "            main_sum_loss =  sum(loss_main_list)/len(val_x)\n",
    "\n",
    "            #pred_val_classes = MakeOneHot(pred_val)\n",
    "            #Val_list_y_classes = MakeOneHot(list_list_val_y)\n",
    "            #accuracy = ComputeAccuracy(Val_list_y_classes, pred_val_classes) \n",
    "            \n",
    "            print(\"Step: \" + str(i) + \" MSE val loss is \" + str(main_sum_loss)+ \" MSE training loss \" + str(train_loss_sum))\n",
    "            pearson = pearsonr(np.reshape(np.asarray(pred_val), (len(pred_val),)), np.reshape(np.asarray(list_list_val_y),(len(pred_val),)))\n",
    "            print(\"The correlation is: \" + str(pearson))\n",
    "            val_loss.append(main_sum_loss)\n",
    "            #saver.save(sess, 'checkpoints/lstm/method1', i)\n",
    "\n",
    "          \n",
    "    lowest_loss = min(val_loss)\n",
    "    min_index = (val_loss.index(min(val_loss))+1)\n",
    "  \n",
    "    print(\"The lowest validation loss is at epoch \" + str(min_index) + \" is: \" + str(lowest_loss))\n",
    "\n",
    "    sess.close()\n",
    "    tf.reset_default_graph()\n",
    "    writer.close()\n",
    "\n",
    "    return lowest_loss, min_index, val_loss, train_loss_list, pred_val"
   ]
  },
  {
   "cell_type": "code",
   "execution_count": 550,
   "metadata": {
    "collapsed": false
   },
   "outputs": [],
   "source": [
    "# This model works\n",
    "\n",
    "lowest_loss, min_index, val_loss, train_loss_list, pred_val = LSTM(Train_list, Train_list_y, Val_list, Val_list_y)"
   ]
  },
  {
   "cell_type": "markdown",
   "metadata": {},
   "source": [
    "# Attention mechanism"
   ]
  },
  {
   "cell_type": "code",
   "execution_count": 595,
   "metadata": {
    "collapsed": true
   },
   "outputs": [],
   "source": [
    "tf.reset_default_graph()"
   ]
  },
  {
   "cell_type": "code",
   "execution_count": 596,
   "metadata": {
    "collapsed": true
   },
   "outputs": [],
   "source": [
    "timesteps_1 = 25\n",
    "window_size = timesteps_1\n",
    "batch_size = 1\n",
    "n_epochs = 10\n",
    "\n",
    "# Hidden layer for the LSTMs\n",
    "LSTM1 = 128\n",
    "LSTM2 = 128\n",
    "# Hidden size for the fully connected layer\n",
    "FC1 = 64\n",
    "\n",
    "num_input = 196\n",
    "epsilon = 0.001\n",
    "beta = 0.02\n",
    "learning_rate = 0.000001"
   ]
  },
  {
   "cell_type": "code",
   "execution_count": 597,
   "metadata": {
    "collapsed": false
   },
   "outputs": [],
   "source": [
    "def Attention(train_x, train_y, val_x, val_y, learning_rate=learning_rate, batch_size=batch_size,  n_epochs=n_epochs, num_input=num_input, timesteps_1=timesteps_1, hidden_size = LSTM1, hidden_size2 = FC1, window_size = window_size):\n",
    "\n",
    "\n",
    "    with tf.variable_scope('data'):\n",
    "        prob = tf.placeholder_with_default(1.0, shape=())\n",
    "        #prob2 = tf.placeholder_with_default(1.0, shape=())\n",
    "        X_or = tf.placeholder(shape = [batch_size, timesteps_1, num_input], dtype = tf.float32, name = \"input\")\n",
    "        #XX = tf.nn.dropout(X_or, prob2, noise_shape=[batch_size, 1, num_input])\n",
    "        X = tf.unstack(X_or, timesteps_1, 1)\n",
    "        y = tf.placeholder(shape = [window_size,1], dtype = tf.float32, name = \"label_annotation\")\n",
    "        logits = tf.zeros((1,1), tf.float32)\n",
    "        \n",
    "    with tf.variable_scope('lstm_cell_encoder'):\n",
    "        rnn_layers = [tf.nn.rnn_cell.LSTMCell(size) for size in [hidden_size, hidden_size]]\n",
    "        multi_rnn_cell = tf.nn.rnn_cell.MultiRNNCell(rnn_layers)\n",
    "        lstm_outputs, lstm_state =  tf.contrib.rnn.static_rnn(cell=multi_rnn_cell,inputs=X,dtype=tf.float32)\n",
    "        concat_lstm_outputs = tf.stack(tf.squeeze(lstm_outputs))\n",
    "        \n",
    "        batch_mean1, batch_var1 = tf.nn.moments(concat_lstm_outputs,[0])\n",
    "        scale1 = tf.Variable(tf.ones([hidden_size]))\n",
    "        beta1 = tf.Variable(tf.zeros([hidden_size]))\n",
    "        BN1 = tf.nn.batch_normalization(concat_lstm_outputs, batch_mean1, batch_var1, beta1, scale1, epsilon) \n",
    "        BN1 = tf.nn.dropout(BN1, prob)\n",
    "        last_encoder_state = lstm_state[-1]\n",
    "        initial_input = tf.unstack(tf.zeros(shape=(1,1,hidden_size2)))\n",
    "\n",
    "     \n",
    "    rnn_decoder_cell = tf.nn.rnn_cell.LSTMCell(hidden_size, reuse = tf.AUTO_REUSE)\n",
    "    \n",
    "    for index in range(window_size):   \n",
    "        with tf.variable_scope('lstm_cell_decoder', reuse = tf.AUTO_REUSE):\n",
    "            output_decoder, state_decoder = tf.nn.static_rnn(rnn_decoder_cell, initial_input, initial_state=last_encoder_state, dtype=tf.float32) \n",
    "    \n",
    "            batch_mean2, batch_var2 = tf.nn.moments(output_decoder[-1],[0])\n",
    "            scale2 = tf.Variable(tf.ones([hidden_size]))\n",
    "            beta2 = tf.Variable(tf.zeros([hidden_size]))\n",
    "            BN2 = tf.nn.batch_normalization(output_decoder[-1],batch_mean2, batch_var2, beta2, scale2, epsilon) \n",
    "            BN2 = tf.nn.relu(BN2)\n",
    "            BN2 = tf.nn.dropout(BN2, prob)\n",
    "                \n",
    "                \n",
    "            # Compute the score for source output vector\n",
    "            scores = tf.matmul(concat_lstm_outputs, tf.reshape(BN2,(hidden_size,1)))\n",
    "            attention_coef = tf.nn.softmax(scores)\n",
    "            context_vector = tf.reduce_sum(tf.multiply(BN1, tf.reshape(attention_coef, (window_size, 1))),0)\n",
    "            context_vector = tf.reshape(context_vector, (1,hidden_size))\n",
    "\n",
    "            # compute the tilda hidden state \\tilde{h}_t=tanh(W[c_t, h_t]+b_t)\n",
    "            concat_context = tf.concat([context_vector, output_decoder[-1]], axis = 1)\n",
    "            \n",
    "            W_tilde = tf.get_variable(\"weights_tilde\", initializer=tf.random_normal(shape = [hidden_size*2, hidden_size2], stddev = 0.1), trainable = True)\n",
    "            b_tilde = tf.get_variable(\"bias_tilde\",initializer = tf.zeros([1, hidden_size2]), trainable = True)\n",
    "          \n",
    "            hidden_tilde = tf.nn.tanh(tf.matmul(concat_context, W_tilde)+b_tilde) # hidden_tilde is [1*64]\n",
    "\n",
    "            # update for next time step\n",
    "            initial_input = tf.unstack(tf.reshape(hidden_tilde, (1,1,hidden_size2)))\n",
    "            last_encoder_state = state_decoder\n",
    "           \n",
    "            # predict the target\n",
    "            W_target = tf.get_variable(\"weights_target\", initializer=tf.random_normal(shape = [hidden_size2, 1], stddev = 0.1), trainable = True)\n",
    "         \n",
    "            \n",
    "            logit = tf.matmul(hidden_tilde, W_target)\n",
    "            logits = tf.concat([logits, logit], axis = 0)\n",
    "            \n",
    "    logits = logits[1:]\n",
    "    \n",
    "    var_regularize = list([tf.trainable_variables()[10], tf.trainable_variables()[12]])\n",
    "    \n",
    "    ##################\n",
    "  \n",
    "    with tf.variable_scope('loss'):\n",
    "    \n",
    "        \n",
    "        loss_other =  tf.losses.mean_squared_error(predictions = logits[:window_size-1], labels = y[:window_size-1])\n",
    "        loss_main = tf.losses.mean_squared_error(predictions = logits[window_size-1:], labels = y[window_size-1:])\n",
    "        loss = loss_other+loss_main\n",
    "        l2 = beta * sum(tf.nn.l2_loss(tf_var) for tf_var in var_regularize)\n",
    "        loss += l2\n",
    "\n",
    "\n",
    "    global_step = tf.Variable(0, trainable=False)\n",
    "    optimizer = tf.train.AdamOptimizer(learning_rate = learning_rate)\n",
    "    train_op = optimizer.minimize(loss)\n",
    "    \n",
    "\n",
    "    init = tf.global_variables_initializer()\n",
    "    sess = tf.Session()\n",
    "    sess.run(init)\n",
    "    \n",
    "    writer = tf.summary.FileWriter('./graphs', sess.graph)\n",
    "    \n",
    "    #saver = tf.train.Saver()\n",
    "    \n",
    "    #ckpt = tf.train.get_checkpoint_state(os.path.dirname('checkpoints/lstm/checkpoint'))\n",
    "\n",
    "    #if ckpt and ckpt.model_checkpoint_path:\n",
    "    #    saver.restore(sess, ckpt.model_checkpoint_path)\n",
    "    \n",
    "    attention_list = []\n",
    "    val_loss = []\n",
    "    train_loss_list = []\n",
    "    for i in range(1, n_epochs+1):\n",
    "        pred_val = []\n",
    "        train_loss_list = []\n",
    "\n",
    "        indices = list(range(len(train_x)))\n",
    "        shuffle(indices)\n",
    "        for index1 in indices:\n",
    "            train_loss = 0\n",
    "            list_x, list_y = ManyToMany(train_x[index1], train_y[index1], window_size = window_size, val_boolean = 0)\n",
    "            \n",
    "            for index in range(len(list_x)):\n",
    "                \n",
    "                X_batch = np.reshape(list_x[index], (1, window_size, num_input))\n",
    "                Y_batch = np.reshape(list_y[index], (window_size,1))\n",
    "                \n",
    "                _, Loss = sess.run([train_op, loss_main], feed_dict = {X_or: X_batch, y: Y_batch, prob: 0.7})\n",
    "                train_loss += Loss\n",
    "            train_loss /= len(list_x)\n",
    "            train_loss_list.append(train_loss)\n",
    "        \n",
    "        train_loss_sum = sum(train_loss_list)/len(train_x)\n",
    "        train_loss_list.append(train_loss_sum)\n",
    "            \n",
    "        print('Epoch ' + str(i) + ' done.')\n",
    "        if(i % 1 == 0):\n",
    "\n",
    "            list_list_val_y = []\n",
    "            pred_val = []        \n",
    "            loss_main_list = []\n",
    "            for index in range(len(val_x)):\n",
    "                #total_loss = 0\n",
    "                total_loss_main = 0\n",
    "                list_x_val, list_y_val = ManyToMany(val_x[index], val_y[index], window_size = window_size, val_boolean = 1)\n",
    "                \n",
    "                for index1 in range(len(list_x_val)):\n",
    "                    \n",
    "                    X_batch = np.reshape(list_x_val[index1], (1, window_size, num_input))\n",
    "                    Y_batch = np.reshape(list_y_val[index1], (window_size,1))\n",
    "                    loss_batch, logits_batch, coefficients = sess.run([loss_main, logits, attention_coef], feed_dict = {X_or: X_batch, y: Y_batch, prob: 1})\n",
    "                    pred_val.append(logits_batch[window_size-1])\n",
    "                    list_list_val_y.append(Y_batch[window_size-1])\n",
    "                    if(i == n_epochs):\n",
    "                        attention_list.append(coefficients)       \n",
    "               \n",
    "                    total_loss_main += loss_batch\n",
    "                \n",
    "                total_loss_main /= len(list_x_val)\n",
    "                loss_main_list.append(total_loss_main)\n",
    "\n",
    "            main_sum_loss =  sum(loss_main_list)/len(val_x)\n",
    "\n",
    "            pearson = pearsonr(np.reshape(np.asarray(pred_val), (len(pred_val),)), np.reshape(np.asarray(list_list_val_y),(len(pred_val),)))\n",
    "            #pred_val_classes = MakeOneHot(pred_val)\n",
    "            #Val_list_y_classes = MakeOneHot(list_list_val_y)\n",
    "            #accuracy = ComputeAccuracy(Val_list_y_classes, pred_val_classes) \n",
    "            \n",
    "            print(\"Step: \" + str(i) + \" MSE val loss is \" + str(main_sum_loss)+ \" MSE training loss \" + str(train_loss_sum))\n",
    "            print(\"The pearson correlation is: \" + str(pearson))\n",
    "            val_loss.append(main_sum_loss)\n",
    "            #saver.save(sess, 'checkpoints/lstm/method1', i)\n",
    "\n",
    "          \n",
    "    lowest_loss = min(val_loss)\n",
    "    min_index = (val_loss.index(min(val_loss))+1)\n",
    "  \n",
    "    print(\"The lowest validation loss is at epoch \" + str(min_index) + \" is: \" + str(lowest_loss))\n",
    "\n",
    "    sess.close()\n",
    "    tf.reset_default_graph()\n",
    "    writer.close()\n",
    "\n",
    "    return lowest_loss, min_index, val_loss, train_loss_list, pred_val, list_list_val_y, attention_list"
   ]
  },
  {
   "cell_type": "code",
   "execution_count": 598,
   "metadata": {
    "collapsed": false
   },
   "outputs": [
    {
     "name": "stdout",
     "output_type": "stream",
     "text": [
      "Epoch 1 done.\n",
      "Step: 1 MSE val loss is 0.127563303933 MSE training loss 0.282497300804\n",
      "The pearson correlation is: (-0.018841490915286054, 0.0076186103396113742)\n",
      "Epoch 2 done.\n",
      "Step: 2 MSE val loss is 0.134447126176 MSE training loss 0.133778488668\n",
      "The pearson correlation is: (-0.034818530680702092, 8.122256816499141e-07)\n",
      "Epoch 3 done.\n",
      "Step: 3 MSE val loss is 0.11360528689 MSE training loss 0.107370611086\n",
      "The pearson correlation is: (-0.0466743578361766, 3.7531931608325833e-11)\n",
      "Epoch 4 done.\n",
      "Step: 4 MSE val loss is 0.0926421458784 MSE training loss 0.0963848261841\n",
      "The pearson correlation is: (-0.049425548284337519, 2.4911134062466966e-12)\n",
      "Epoch 5 done.\n",
      "Step: 5 MSE val loss is 0.0916616103557 MSE training loss 0.0922427184455\n",
      "The pearson correlation is: (-0.050212002950448614, 1.116019457659314e-12)\n",
      "Epoch 6 done.\n",
      "Step: 6 MSE val loss is 0.0856714693472 MSE training loss 0.0876791827056\n",
      "The pearson correlation is: (-0.033747314679198476, 1.747989000003919e-06)\n",
      "Epoch 7 done.\n",
      "Step: 7 MSE val loss is 0.0864803045547 MSE training loss 0.087127212573\n",
      "The pearson correlation is: (-0.025422516525557597, 0.00031717402900543335)\n",
      "Epoch 8 done.\n",
      "Step: 8 MSE val loss is 0.085368340042 MSE training loss 0.0859025365185\n",
      "The pearson correlation is: (-0.005384313741234264, 0.44575074439948303)\n",
      "Epoch 9 done.\n",
      "Step: 9 MSE val loss is 0.0876803780558 MSE training loss 0.0854603633093\n",
      "The pearson correlation is: (-0.006839967087697448, 0.33270987755340176)\n",
      "Epoch 10 done.\n",
      "Step: 10 MSE val loss is 0.0864726417185 MSE training loss 0.0844682469481\n",
      "The pearson correlation is: (7.8810485037463088e-05, 0.99109504370449353)\n",
      "The lowest validation loss is at epoch 8 is: 0.085368340042\n"
     ]
    }
   ],
   "source": [
    "lowest_loss, min_index, val_loss, train_loss_list, pred_val, list_list_val_y, attention_list = Attention(Train_list, Train_list_y, Val_list, Val_list_y)"
   ]
  },
  {
   "cell_type": "markdown",
   "metadata": {},
   "source": [
    "# Encoder plus attention decoder"
   ]
  },
  {
   "cell_type": "code",
   "execution_count": 143,
   "metadata": {
    "collapsed": true
   },
   "outputs": [],
   "source": [
    "tf.reset_default_graph()"
   ]
  },
  {
   "cell_type": "code",
   "execution_count": 144,
   "metadata": {
    "collapsed": true
   },
   "outputs": [],
   "source": [
    "timesteps_1 = 2\n",
    "window_size = 25\n",
    "batch_size = window_size\n",
    "n_epochs = 10\n",
    "\n",
    "# Hidden layer for the LSTMs\n",
    "hidden_size_bilstm = 128\n",
    "hidden_size_mainlstm = 128\n",
    "\n",
    "LSTM1 =128\n",
    "\n",
    "# Hidden size for the fully connected layer\n",
    "FC1 = 64\n",
    "\n",
    "num_input = 136\n",
    "epsilon = 0.001\n",
    "beta = 0.05\n",
    "beta_reccurent = 0.05\n",
    "learning_rate = 0.0000001"
   ]
  },
  {
   "cell_type": "code",
   "execution_count": null,
   "metadata": {
    "collapsed": false
   },
   "outputs": [],
   "source": [
    "def BidirectionalLSTM(train_x, train_y, val_x, val_y,hidden_size_bilstm=hidden_size_bilstm, hidden_size_mainlstm=hidden_size_mainlstm, batch_size = batch_size,  hidden_size = LSTM1, hidden_size2 = FC1, n_epochs=n_epochs, epsilon = epsilon, learning_rate=learning_rate):\n",
    "    \n",
    "    with tf.variable_scope('data'):\n",
    "        is_training = tf.placeholder_with_default(1.0, shape=())\n",
    "        prob = tf.placeholder_with_default(1.0, shape=())\n",
    "        X_or = tf.placeholder(shape = [window_size, timesteps_1, num_input], dtype = tf.float32, name = \"input\")\n",
    "        X = tf.unstack(X_or, timesteps_1, 1)\n",
    "        y = tf.placeholder(shape = [window_size,1], dtype = tf.float32, name = \"label_annotation\")\n",
    "        logits = tf.zeros((1,1), tf.float32)\n",
    "\n",
    "    #Bidirectional lstm with different weights\n",
    "    #with tf.variable_scope('lstm_cell_forward'):\n",
    "    #    lstm_cell_f = tf.nn.rnn_cell.BasicLSTMCell(hidden_size_bilstm, forget_bias= 1.0)\n",
    "    #with tf.variable_scope('lstm_cell_backward'):\n",
    "    #    lstm_cell_b = tf.nn.rnn_cell.BasicLSTMCell(hidden_size_bilstm, forget_bias = 1.0)\n",
    "     \n",
    "    # Bidirectional lstm with shared weights (makes more sense for them to be shared)\n",
    "    with tf.variable_scope('lstm_cell_bidirectional'):\n",
    "        lstm_cell_f = tf.nn.rnn_cell.BasicLSTMCell(hidden_size_bilstm, forget_bias= 1.0)\n",
    "    with tf.variable_scope('lstm_cell_bidirectional', reuse=True):\n",
    "        lstm_cell_b = tf.nn.rnn_cell.BasicLSTMCell(hidden_size_bilstm, forget_bias = 1.0)\n",
    "     \n",
    "    with tf.variable_scope(\"lstm_bidirectional\"):\n",
    "        bi_outputs, _, _ = tf.nn.static_bidirectional_rnn(lstm_cell_f, lstm_cell_b, inputs = X, dtype= tf.float32)\n",
    "        last_output = bi_outputs[-1]\n",
    "        \n",
    "        batch_mean2, batch_var2 = tf.nn.moments(last_output,[0])\n",
    "        scale2 = tf.Variable(tf.ones([hidden_size_bilstm*2]), trainable=True)\n",
    "        beta2 = tf.Variable(tf.zeros([hidden_size_bilstm*2]), trainable=True)\n",
    "        BN2 = tf.nn.batch_normalization(last_output,batch_mean2, batch_var2, beta2, scale2, epsilon) \n",
    "        BN2 = tf.nn.dropout(BN2, prob, noise_shape=[1,hidden_size_bilstm*2])\n",
    "        \n",
    "        BN2 = tf.reshape(BN2, (1, window_size, hidden_size_bilstm*2))\n",
    "        BN2 = tf.transpose(BN2, [1, 0, 2])\n",
    "        BN2 = tf.unstack(BN2)\n",
    "        \n",
    "    with tf.variable_scope('lstm_cell_encoder'):\n",
    "        rnn_layers = [tf.nn.rnn_cell.LSTMCell(size) for size in [hidden_size, hidden_size]]\n",
    "        multi_rnn_cell = tf.nn.rnn_cell.MultiRNNCell(rnn_layers)\n",
    "        lstm_outputs, lstm_state =  tf.contrib.rnn.static_rnn(cell=multi_rnn_cell,inputs=BN2,dtype=tf.float32)\n",
    "        concat_lstm_outputs = tf.stack(tf.squeeze(lstm_outputs))\n",
    "        \n",
    "        batch_mean1, batch_var1 = tf.nn.moments(concat_lstm_outputs,[0])\n",
    "        scale1 = tf.Variable(tf.ones([hidden_size]), trainable=True)\n",
    "        beta1 = tf.Variable(tf.zeros([hidden_size]), trainable=True)\n",
    "        BN1 = tf.nn.batch_normalization(concat_lstm_outputs, batch_mean1, batch_var1, beta1, scale1, epsilon) \n",
    "        BN1 = tf.nn.dropout(BN1, prob, noise_shape=[1,hidden_size])\n",
    "        last_encoder_state = lstm_state[-1]\n",
    "        #initial_input = tf.unstack(tf.zeros(shape=(1,1,hidden_size2+1)))\n",
    "        initial_input = tf.unstack(tf.zeros(shape=(1,1,hidden_size2)))\n",
    "\n",
    "     \n",
    "    rnn_decoder_cell = tf.nn.rnn_cell.LSTMCell(hidden_size, reuse = tf.AUTO_REUSE)\n",
    "    \n",
    "    \n",
    "    for index in range(window_size):   \n",
    "        with tf.variable_scope('lstm_cell_decoder', reuse = tf.AUTO_REUSE):\n",
    "            output_decoder, state_decoder = tf.nn.static_rnn(rnn_decoder_cell, initial_input, initial_state=last_encoder_state, dtype=tf.float32) \n",
    "    \n",
    "            batch_mean3, batch_var3 = tf.nn.moments(output_decoder[-1],[0])\n",
    "            scale3 = tf.get_variable(name=\"scale\", initializer = tf.ones([hidden_size]))\n",
    "            beta3 = tf.get_variable(name=\"beta3\", initializer = tf.zeros([hidden_size]))\n",
    "            BN3 = tf.nn.batch_normalization(output_decoder[-1],batch_mean3, batch_var3, beta3, scale3, epsilon) \n",
    "            BN3 = tf.nn.relu(BN3)\n",
    "            \n",
    "            BN3 = tf.nn.dropout(BN3, prob, noise_shape=[1,hidden_size])\n",
    "                \n",
    "            # Compute the score for source output vector\n",
    "            scores = tf.matmul(concat_lstm_outputs, tf.reshape(BN3,(hidden_size,1)))\n",
    "            attention_coef = tf.nn.softmax(scores)\n",
    "            context_vector = tf.reduce_sum(tf.multiply(BN1, tf.reshape(attention_coef, (window_size, 1))),0)\n",
    "            context_vector = tf.reshape(context_vector, (1,hidden_size))\n",
    "\n",
    "            # compute the tilda hidden state \\tilde{h}_t=tanh(W[c_t, h_t]+b_t)\n",
    "            concat_context = tf.concat([context_vector, output_decoder[-1]], axis = 1)\n",
    "            \n",
    "            W_tilde = tf.get_variable(\"weights_tilde\", initializer=tf.random_normal(shape = [hidden_size*2, hidden_size2], stddev = 0.1), trainable = True)\n",
    "            b_tilde = tf.get_variable(\"bias_tilde\",initializer = tf.zeros([1, hidden_size2]), trainable = True)\n",
    "          \n",
    "            hidden_tilde = tf.nn.tanh(tf.matmul(concat_context, W_tilde)+b_tilde) # hidden_tilde is [1*64]\n",
    "           \n",
    "            # predict the target\n",
    "            W_target = tf.get_variable(\"weights_target\", initializer=tf.random_normal(shape = [hidden_size2, 1], stddev = 0.1), trainable = True)\n",
    "         \n",
    "            logit = tf.matmul(hidden_tilde, W_target)\n",
    "\n",
    "            #hidden_tilde_with_target = tf.cond(tf.equal(is_training, 1.0), lambda: tf.concat([hidden_tilde, tf.reshape(y[index], (1,1))], axis = 1), lambda: tf.concat([hidden_tilde, logit], axis = 1))\n",
    "            #hidden_tilde_with_target = tf.concat([hidden_tilde, logit], axis = 1)\n",
    "            \n",
    "            # update for next time step\n",
    "            \n",
    "            #initial_input = tf.unstack(tf.reshape(hidden_tilde_with_target, (1,1,hidden_size2+1)))\n",
    "            initial_input = tf.unstack(tf.reshape(hidden_tilde, (1,1,hidden_size2)))\n",
    "            last_encoder_state = state_decoder\n",
    "            \n",
    "            logits = tf.concat([logits, logit], axis = 0)\n",
    "            \n",
    "    logits = logits[1:]\n",
    "    \n",
    "    var_regularize = list([tf.trainable_variables()[10], tf.trainable_variables()[12]])\n",
    "    var_regularize_lstm = list([tf.trainable_variables()[0], tf.trainable_variables()[6],tf.trainable_variables()[8], tf.trainable_variables()[11]])\n",
    "\n",
    "    ##################\n",
    "  \n",
    "    with tf.variable_scope('loss'):\n",
    "    \n",
    "        \n",
    "        loss_other =  tf.losses.mean_squared_error(predictions = logits[:window_size-1], labels = y[:window_size-1])\n",
    "        loss_main = tf.losses.mean_squared_error(predictions = logits[window_size-1:], labels = y[window_size-1:])\n",
    "        loss = loss_other+loss_main\n",
    "        l2 = beta * sum(tf.nn.l2_loss(tf_var) for tf_var in var_regularize)\n",
    "        l2_lstm = beta_reccurent * sum(tf.nn.l2_loss(tf_var) for tf_var in var_regularize_lstm)\n",
    "        loss += (l2 + l2_lstm)\n",
    "\n",
    "\n",
    "    global_step = tf.Variable(0, trainable=False)\n",
    "    optimizer = tf.train.AdamOptimizer(learning_rate = learning_rate)\n",
    "    train_op = optimizer.minimize(loss)\n",
    "    \n",
    "\n",
    "    init = tf.global_variables_initializer()\n",
    "    sess = tf.Session()\n",
    "    sess.run(init)\n",
    "    \n",
    "    writer = tf.summary.FileWriter('./graphs', sess.graph)\n",
    "    \n",
    "    #saver = tf.train.Saver()\n",
    "    \n",
    "    #ckpt = tf.train.get_checkpoint_state(os.path.dirname('checkpoints/lstm/checkpoint'))\n",
    "\n",
    "    #if ckpt and ckpt.model_checkpoint_path:\n",
    "    #    saver.restore(sess, ckpt.model_checkpoint_path)\n",
    "    \n",
    "    attention_list = []\n",
    "    val_loss = []\n",
    "    train_loss_list = []\n",
    "    for i in range(1, n_epochs+1):\n",
    "        pred_val = []\n",
    "        train_loss_list = []\n",
    "\n",
    "        indices = list(range(len(train_x)))\n",
    "        shuffle(indices)\n",
    "        for index1 in indices:\n",
    "            train_loss = 0\n",
    "            list_x, list_y = ManyToMany(train_x[index1], train_y[index1], window_size = window_size, val_boolean = 0)\n",
    "            \n",
    "            for index in range(len(list_x)):\n",
    "                \n",
    "                X_batch = np.reshape(list_x[index], (window_size, 2, num_input))\n",
    "                Y_batch = np.reshape(list_y[index], (window_size,1))\n",
    "                \n",
    "                _, Loss = sess.run([train_op, loss_main], feed_dict = {X_or: X_batch, y: Y_batch, is_training: 1.0, prob: 0.6})\n",
    "                train_loss += Loss\n",
    "            train_loss /= len(list_x)\n",
    "            train_loss_list.append(train_loss)\n",
    "        \n",
    "        train_loss_sum = sum(train_loss_list)/len(train_x)\n",
    "        train_loss_list.append(train_loss_sum)\n",
    "            \n",
    "        print('Epoch ' + str(i) + ' done.')\n",
    "        if(i % 1 == 0):\n",
    "\n",
    "            list_list_val_y = []\n",
    "            pred_val = []        \n",
    "            loss_main_list = []\n",
    "            for index in range(len(val_x)):\n",
    "                #total_loss = 0\n",
    "                total_loss_main = 0\n",
    "                list_x_val, list_y_val = ManyToMany(val_x[index], val_y[index], window_size = window_size, val_boolean = 1)\n",
    "                \n",
    "                for index1 in range(len(list_x_val)):\n",
    "                    \n",
    "                    X_batch = np.reshape(list_x_val[index1], (window_size, 2, num_input))\n",
    "                    Y_batch = np.reshape(list_y_val[index1], (window_size,1))\n",
    "                    loss_batch, logits_batch, coefficients = sess.run([loss_main, logits, attention_coef], feed_dict = {X_or: X_batch, y: Y_batch, is_training: 0.0, prob: 1})\n",
    "                    pred_val.append(logits_batch[window_size-1])\n",
    "                    list_list_val_y.append(Y_batch[window_size-1])\n",
    "                    if(i == n_epochs):\n",
    "                        attention_list.append(coefficients)       \n",
    "               \n",
    "                    total_loss_main += loss_batch\n",
    "                \n",
    "                total_loss_main /= len(list_x_val)\n",
    "                loss_main_list.append(total_loss_main)\n",
    "\n",
    "            main_sum_loss =  sum(loss_main_list)/len(val_x)\n",
    "\n",
    "            pearson = pearsonr(np.reshape(np.asarray(pred_val), (len(pred_val),)), np.reshape(np.asarray(list_list_val_y),(len(pred_val),)))\n",
    "            #pred_val_classes = MakeOneHot(pred_val)\n",
    "            #Val_list_y_classes = MakeOneHot(list_list_val_y)\n",
    "            #accuracy = ComputeAccuracy(Val_list_y_classes, pred_val_classes) \n",
    "            \n",
    "            print(\"Step: \" + str(i) + \" MSE val loss is \" + str(main_sum_loss)+ \" MSE training loss \" + str(train_loss_sum))\n",
    "            print(\"The pearson correlation is: \" + str(pearson))\n",
    "            val_loss.append(main_sum_loss)\n",
    "            #saver.save(sess, 'checkpoints/lstm/method1', i)\n",
    "\n",
    "          \n",
    "    lowest_loss = min(val_loss)\n",
    "    min_index = (val_loss.index(min(val_loss))+1)\n",
    "  \n",
    "    print(\"The lowest validation loss is at epoch \" + str(min_index) + \" is: \" + str(lowest_loss))\n",
    "\n",
    "    sess.close()\n",
    "    tf.reset_default_graph()\n",
    "    writer.close()\n",
    "\n",
    "    return lowest_loss, min_index, val_loss, train_loss_list, pred_val, list_list_val_y, attention_list\n",
    "        \n",
    "    "
   ]
  },
  {
   "cell_type": "code",
   "execution_count": null,
   "metadata": {
    "collapsed": false
   },
   "outputs": [],
   "source": [
    "lowest_loss, min_index, val_loss, train_loss_list, pred_val, list_list_val_y, attention_list = BidirectionalLSTM(Train_list, Train_list_y, Val_list, Val_list_y)"
   ]
  },
  {
   "cell_type": "code",
   "execution_count": 770,
   "metadata": {
    "collapsed": false
   },
   "outputs": [
    {
     "data": {
      "image/png": "[encoded data removed]",
      "text/plain": [
       "<matplotlib.figure.Figure at 0x1a39c500358>"
      ]
     },
     "metadata": {},
     "output_type": "display_data"
    }
   ],
   "source": [
    "# function to plot true vs predicted\n",
    "\n",
    "def plotTrueVPred(true_values, predicted_values):\n",
    "    fig = plt.figure(figsize=(17, 6))\n",
    "    plt.plot(predicted_values)\n",
    "    plt.plot(true_values)\n",
    "    plt.title('Model prediction vs real labels')\n",
    "    plt.ylabel('Conflict intensity')\n",
    "    plt.xlabel('Frames')\n",
    "    plt.legend(['Predicted labels', 'True labels'], loc='upper left')\n",
    "    plt.show()\n",
    "    #fig.savefig('newfiguseless.png', bbox_inches='tight')\n",
    "    \n",
    "plotTrueVPred(pred_val[2000:3000],list_list_val_y[2000:3000])"
   ]
  },
  {
   "cell_type": "markdown",
   "metadata": {},
   "source": [
    "# What is random guess?"
   ]
  },
  {
   "cell_type": "code",
   "execution_count": 183,
   "metadata": {
    "collapsed": false
   },
   "outputs": [],
   "source": [
    "hot_list = MakeOneHot(Train_list_y)"
   ]
  },
  {
   "cell_type": "code",
   "execution_count": 193,
   "metadata": {
    "collapsed": false
   },
   "outputs": [
    {
     "name": "stdout",
     "output_type": "stream",
     "text": [
      "<class 'list'> 63263\n",
      "25974 37289\n"
     ]
    }
   ],
   "source": [
    "print(type(hot_list), len(hot_list))\n",
    "\n",
    "zeros = 0\n",
    "ones = 0\n",
    "for element in hot_list:\n",
    "    if(all(element == [1,0])):\n",
    "        zeros += 1\n",
    "    elif(all(element == [0,1])):\n",
    "        ones += 1\n",
    "\n",
    "print(zeros, ones)    "
   ]
  },
  {
   "cell_type": "code",
   "execution_count": 190,
   "metadata": {
    "collapsed": false
   },
   "outputs": [
    {
     "data": {
      "text/plain": [
       "58.942825980430904"
      ]
     },
     "execution_count": 190,
     "metadata": {},
     "output_type": "execute_result"
    }
   ],
   "source": [
    "(37289/63263)*100"
   ]
  },
  {
   "cell_type": "code",
   "execution_count": 191,
   "metadata": {
    "collapsed": true
   },
   "outputs": [],
   "source": [
    "hot_list_val = MakeOneHot(Val_list_y)"
   ]
  },
  {
   "cell_type": "code",
   "execution_count": 192,
   "metadata": {
    "collapsed": false
   },
   "outputs": [
    {
     "name": "stdout",
     "output_type": "stream",
     "text": [
      "8565 11877\n"
     ]
    }
   ],
   "source": [
    "zeros = 0\n",
    "ones = 0\n",
    "for element in hot_list_val:\n",
    "    if(all(element == [1,0])):\n",
    "        zeros += 1\n",
    "    elif(all(element == [0,1])):\n",
    "        ones += 1\n",
    "\n",
    "print(zeros, ones)    "
   ]
  },
  {
   "cell_type": "code",
   "execution_count": 194,
   "metadata": {
    "collapsed": false
   },
   "outputs": [
    {
     "data": {
      "text/plain": [
       "58.100968594071034"
      ]
     },
     "execution_count": 194,
     "metadata": {},
     "output_type": "execute_result"
    }
   ],
   "source": [
    "# If we do random guessing, we would have 58.1 % right\n",
    "\n",
    "(11877/(8565+11877))*100"
   ]
  },
  {
   "cell_type": "code",
   "execution_count": 224,
   "metadata": {
    "collapsed": false
   },
   "outputs": [],
   "source": [
    "count = 0\n",
    "total = 0\n",
    "summ = 0\n",
    "for element in Train_list_y:\n",
    "    for element2 in element:\n",
    "        total += 1\n",
    "        summ += element2\n",
    "        if(element2 < 0.1):\n",
    "            count += 1"
   ]
  },
  {
   "cell_type": "code",
   "execution_count": 225,
   "metadata": {
    "collapsed": false
   },
   "outputs": [
    {
     "name": "stdout",
     "output_type": "stream",
     "text": [
      "[ 0.54053263]\n"
     ]
    }
   ],
   "source": [
    "# the mean conflict of training is 0.54\n",
    "# the mean training for validation is 0.5\n",
    "print(summ/total)"
   ]
  },
  {
   "cell_type": "code",
   "execution_count": 138,
   "metadata": {
    "collapsed": true
   },
   "outputs": [],
   "source": [
    "def epsilon_loss(labels, predictions, epsilon = 0.05, delta = 0.5, slope = 0.5):\n",
    "    residual = tf.abs(labels-predictions)\n",
    "    outcome_1 = tf.zeros(shape=(1,))\n",
    "    outcome_2 = residual - epsilon\n",
    "    outcome_3 = delta - epsilon + slope * residual\n",
    "    result_2 = tf.cond(tf.reduce_mean(residual - epsilon) < delta, lambda: outcome_2, lambda: outcome_3)\n",
    "    result = tf.cond(tf.reduce_mean(residual - epsilon) < 0, lambda: outcome_1, lambda: result_2)\n",
    "    result = tf.reduce_mean(result)\n",
    "    return(result)"
   ]
  },
  {
   "cell_type": "code",
   "execution_count": 139,
   "metadata": {
    "collapsed": false
   },
   "outputs": [
    {
     "name": "stdout",
     "output_type": "stream",
     "text": [
      "Tensor(\"Const_67:0\", shape=(2,), dtype=float32) Tensor(\"zeros_25:0\", shape=(1,), dtype=float32)\n"
     ]
    }
   ],
   "source": [
    "c1 = tf.constant([1, 1], dtype = tf.float32)\n",
    "c2 = tf.constant([2.5, 1.01], dtype = tf.float32)\n",
    "print(c1, c3)"
   ]
  },
  {
   "cell_type": "code",
   "execution_count": 140,
   "metadata": {
    "collapsed": false
   },
   "outputs": [
    {
     "name": "stdout",
     "output_type": "stream",
     "text": [
      "Tensor(\"Mean_26:0\", shape=(), dtype=float32)\n"
     ]
    }
   ],
   "source": [
    "result  = epsilon_loss(c1, c2)\n",
    "print(result)"
   ]
  },
  {
   "cell_type": "code",
   "execution_count": 141,
   "metadata": {
    "collapsed": true
   },
   "outputs": [],
   "source": [
    "sess = tf.Session()"
   ]
  },
  {
   "cell_type": "code",
   "execution_count": 142,
   "metadata": {
    "collapsed": false
   },
   "outputs": [
    {
     "name": "stdout",
     "output_type": "stream",
     "text": [
      "0.8275\n"
     ]
    }
   ],
   "source": [
    "print(sess.run(result))"
   ]
  },
  {
   "cell_type": "code",
   "execution_count": null,
   "metadata": {
    "collapsed": true
   },
   "outputs": [],
   "source": []
  }
 ],
 "metadata": {
  "kernelspec": {
   "display_name": "Python [conda root]",
   "language": "python",
   "name": "conda-root-py"
  },
  "language_info": {
   "codemirror_mode": {
    "name": "ipython",
    "version": 3
   },
   "file_extension": ".py",
   "mimetype": "text/x-python",
   "name": "python",
   "nbconvert_exporter": "python",
   "pygments_lexer": "ipython3",
   "version": "3.5.2"
  }
 },
 "nbformat": 4,
 "nbformat_minor": 2
}
