{
 "cells": [
  {
   "cell_type": "code",
   "execution_count": 1,
   "metadata": {
    "collapsed": true
   },
   "outputs": [],
   "source": [
    "import scipy.io as sio\n",
    "import numpy as np\n",
    "import os\n",
    "import fileinput\n",
    "import plotly.graph_objs as go\n",
    "import sklearn\n",
    "import struct\n",
    "import re\n",
    "import io\n",
    "import csv\n",
    "import pickle\n",
    "import pandas as pd\n",
    "from scipy.cluster.vq import whiten\n",
    "from sklearn import cluster\n",
    "from sklearn import manifold\n",
    "from sklearn.decomposition import PCA\n",
    "from sklearn import decomposition\n",
    "import matplotlib.pyplot as plt\n",
    "import urllib\n",
    "import tensorflow as tf\n",
    "from matplotlib.backends.backend_pdf import PdfPages\n",
    "import urllib3\n",
    "from sklearn.cross_decomposition import CCA\n",
    "import plotly.plotly as py\n",
    "import http\n",
    "from sklearn.decomposition import PCA, KernelPCA\n",
    "from sklearn.datasets import make_circles\n",
    "import plotly.graph_objs as go\n",
    "from numpy import genfromtxt\n",
    "from random import shuffle\n",
    "%matplotlib inline"
   ]
  },
  {
   "cell_type": "markdown",
   "metadata": {},
   "source": [
    "# Get the name of the files and folders"
   ]
  },
  {
   "cell_type": "code",
   "execution_count": 2,
   "metadata": {
    "collapsed": true
   },
   "outputs": [],
   "source": [
    "def GetName(path):\n",
    "    Folder = []\n",
    "    r = []\n",
    "    Subfolder = []\n",
    "    full_path = []\n",
    "    count_list = []\n",
    "    for folder in os.listdir(path):\n",
    "        count = 0\n",
    "        Folder.append(folder)\n",
    "        for subfolder in os.listdir(path+'/'+folder):\n",
    "            Subfolder.append(subfolder)\n",
    "            for files in os.listdir(path+'/'+folder+'/'+subfolder):\n",
    "                if os.path.splitext(files)[1] == \".pts\":\n",
    "                    r.append(files) \n",
    "                    full_path.append(folder+'/'+subfolder+'/'+files)\n",
    "                    count += 1\n",
    "        count_list.append(count)\n",
    "    return Folder, Subfolder, r, full_path, count_list"
   ]
  },
  {
   "cell_type": "code",
   "execution_count": 3,
   "metadata": {
    "collapsed": true
   },
   "outputs": [],
   "source": [
    "# Get what we need for each FOLD (1,2,3,4,5) for two people involved\n",
    "\n",
    "# for FOLD_1\n",
    "path = r\"C:/Users/pinouche/Downloads/FOLD_1/\"\n",
    "Folders_Fold1, Subfolders_Fold1, Files_Fold1, Full_path_Fold1, count_list_FOLD1 = GetName(path)"
   ]
  },
  {
   "cell_type": "code",
   "execution_count": 4,
   "metadata": {
    "collapsed": true
   },
   "outputs": [],
   "source": [
    "# FOLD 2\n",
    "path = r\"C:/Users/pinouche/Downloads/FOLD_2/\"\n",
    "Folders_Fold2, Subfolders_Fold2, Files_Fold2, Full_path_Fold2, count_list_FOLD2 = GetName(path)"
   ]
  },
  {
   "cell_type": "code",
   "execution_count": 5,
   "metadata": {
    "collapsed": true
   },
   "outputs": [],
   "source": [
    "# FOLD 3\n",
    "path = r\"C:/Users/pinouche/Downloads/FOLD_3/\"\n",
    "Folders_Fold3, Subfolders_Fold3, Files_Fold3, Full_path_Fold3, count_list_FOLD3 = GetName(path)"
   ]
  },
  {
   "cell_type": "code",
   "execution_count": 6,
   "metadata": {
    "collapsed": true
   },
   "outputs": [],
   "source": [
    "# FOLD 4\n",
    "path = r\"C:/Users/pinouche/Downloads/FOLD_4/\"\n",
    "Folders_Fold4, Subfolders_Fold4, Files_Fold4, Full_path_Fold4, count_list_FOLD4 = GetName(path)"
   ]
  },
  {
   "cell_type": "code",
   "execution_count": 7,
   "metadata": {
    "collapsed": true
   },
   "outputs": [],
   "source": [
    "#FOLD 5\n",
    "path = r\"C:/Users/pinouche/Downloads/FOLD_5/\"\n",
    "Folders_Fold5, Subfolders_Fold5, Files_Fold5, Full_path_Fold5, count_list_FOLD5 = GetName(path)"
   ]
  },
  {
   "cell_type": "code",
   "execution_count": 8,
   "metadata": {
    "collapsed": false
   },
   "outputs": [
    {
     "name": "stdout",
     "output_type": "stream",
     "text": [
      "[(73,), (73,), (213072,)]\n"
     ]
    }
   ],
   "source": [
    "# concat the folders above and print some information about the shapes\n",
    "\n",
    "Folders_full = np.concatenate([Folders_Fold1, Folders_Fold2, Folders_Fold3, Folders_Fold4, Folders_Fold5])\n",
    "Count_full = np.concatenate([count_list_FOLD1, count_list_FOLD2, count_list_FOLD3, count_list_FOLD4, count_list_FOLD5])\n",
    "Full_path_full = np.concatenate([Full_path_Fold1, Full_path_Fold2, Full_path_Fold3, Full_path_Fold4, Full_path_Fold5])\n",
    "print([Folders_full.shape, Count_full.shape, Full_path_full.shape])"
   ]
  },
  {
   "cell_type": "markdown",
   "metadata": {},
   "source": [
    "# Load the data"
   ]
  },
  {
   "cell_type": "code",
   "execution_count": 9,
   "metadata": {
    "collapsed": false
   },
   "outputs": [
    {
     "name": "stdout",
     "output_type": "stream",
     "text": [
      "(213072, 68, 2)\n"
     ]
    }
   ],
   "source": [
    "# Retrieve the data for FOLD1\n",
    "\n",
    "Full_data_x = pickle.load( open( \"Full_data_x.p\", \"rb\" ))\n",
    "print(Full_data_x.shape)"
   ]
  },
  {
   "cell_type": "code",
   "execution_count": 10,
   "metadata": {
    "collapsed": false
   },
   "outputs": [
    {
     "name": "stdout",
     "output_type": "stream",
     "text": [
      "(106536, 196)\n"
     ]
    }
   ],
   "source": [
    "# Retrieve the data for FOLD1\n",
    "\n",
    "data_x = pickle.load( open( \"data_x.p\", \"rb\" ))\n",
    "print(data_x.shape)"
   ]
  },
  {
   "cell_type": "code",
   "execution_count": 11,
   "metadata": {
    "collapsed": false
   },
   "outputs": [
    {
     "name": "stdout",
     "output_type": "stream",
     "text": [
      "(73,)\n"
     ]
    }
   ],
   "source": [
    "# Retrieve the annotations\n",
    "\n",
    "annotation_vector_Two = pickle.load( open( \"annotation_vector_Two.p\", \"rb\" ))\n",
    "print(annotation_vector_Two.shape)"
   ]
  },
  {
   "cell_type": "markdown",
   "metadata": {},
   "source": [
    "# Perform PCA separately on the participants"
   ]
  },
  {
   "cell_type": "code",
   "execution_count": 12,
   "metadata": {
    "collapsed": false
   },
   "outputs": [
    {
     "name": "stderr",
     "output_type": "stream",
     "text": [
      "C:\\Users\\pinouche\\Anaconda3\\lib\\site-packages\\sklearn\\utils\\validation.py:444: DataConversionWarning:\n",
      "\n",
      "Data with input dtype <U7 was converted to float64 by the scale function.\n",
      "\n"
     ]
    }
   ],
   "source": [
    "# get the participants separated\n",
    "\n",
    "from sklearn import preprocessing\n",
    "\n",
    "data_participant1 = data_x[:,:98]\n",
    "data_participant2 = data_x[:,98:]\n",
    "participant1_scaled = preprocessing.scale(data_participant1)\n",
    "participant2_scaled = preprocessing.scale(data_participant2)\n",
    "data_x = preprocessing.scale(data_x)"
   ]
  },
  {
   "cell_type": "code",
   "execution_count": 13,
   "metadata": {
    "collapsed": false
   },
   "outputs": [
    {
     "name": "stdout",
     "output_type": "stream",
     "text": [
      "[  5.59370901e-01   4.08817189e-01   1.67664210e-02   9.53308206e-03\n",
      "   2.28489609e-03   1.10068091e-03   7.28768422e-04   3.46924852e-04\n",
      "   2.77898006e-04   2.13986759e-04] 0.999440748497\n",
      "[  5.19577145e-01   4.48480917e-01   1.77745617e-02   9.34738446e-03\n",
      "   1.95069552e-03   9.53343678e-04   5.88331534e-04   3.24681178e-04\n",
      "   2.52574308e-04   2.03902518e-04] 0.999453536925\n"
     ]
    }
   ],
   "source": [
    "# Perform PCA on each\n",
    "\n",
    "pca = PCA(n_components = 10)\n",
    "PCA_participant1 = pca.fit_transform(participant1_scaled)\n",
    "print(pca.explained_variance_ratio_, sum(pca.explained_variance_ratio_)) \n",
    "PCA_participant2 = pca.fit_transform(participant2_scaled)\n",
    "print(pca.explained_variance_ratio_, sum(pca.explained_variance_ratio_)) "
   ]
  },
  {
   "cell_type": "code",
   "execution_count": 14,
   "metadata": {
    "collapsed": false
   },
   "outputs": [
    {
     "name": "stdout",
     "output_type": "stream",
     "text": [
      "(106536, 20)\n"
     ]
    }
   ],
   "source": [
    "# concatenate the PCA data\n",
    "\n",
    "PCA_full_x = np.concatenate([PCA_participant1,PCA_participant2], axis = 1)\n",
    "print(PCA_full_x.shape)"
   ]
  },
  {
   "cell_type": "markdown",
   "metadata": {},
   "source": [
    "# Smooth the response data"
   ]
  },
  {
   "cell_type": "code",
   "execution_count": 571,
   "metadata": {
    "collapsed": true
   },
   "outputs": [],
   "source": [
    "from astropy.convolution import convolve, Gaussian1DKernel, Box1DKernel\n",
    "\n",
    "def SmoothResponse(response_list = annotation_vector_Two):\n",
    "    length = len(annotation_vector_Two)\n",
    "    gauss_kernel_40 = Gaussian1DKernel(75)\n",
    "    gauss_kernel_50 = Gaussian1DKernel(50)\n",
    "    gauss_kernel_75 = Gaussian1DKernel(75)\n",
    "    gauss_kernel_100 = Gaussian1DKernel(100)\n",
    "    annotation_RBF40 = []\n",
    "    annotation_RBF50 = []\n",
    "    annotation_RBF75 = []\n",
    "    annotation_RBF100 = []\n",
    "    for index in range(length):\n",
    "        response_list[index] = np.reshape(response_list[index], (response_list[index].shape[0],))\n",
    "        \n",
    "        Ann40 = convolve(response_list[index], gauss_kernel_40)\n",
    "        Ann40[response_list[index].shape[0]-100:,] = response_list[index][response_list[index].shape[0]-100:]\n",
    "        Ann40 = np.reshape(Ann40, (response_list[index].shape[0],1))\n",
    "        \n",
    "        Ann50 = convolve(response_list[index], gauss_kernel_50)\n",
    "        Ann50[response_list[index].shape[0]-100:,] = response_list[index][response_list[index].shape[0]-100:]\n",
    "        Ann50 = np.reshape(Ann50, (response_list[index].shape[0],1))\n",
    "        \n",
    "        Ann75 = convolve(response_list[index], gauss_kernel_75)\n",
    "        Ann75[response_list[index].shape[0]-100:,] = response_list[index][response_list[index].shape[0]-100:]\n",
    "        Ann75 = np.reshape(Ann75, (response_list[index].shape[0],1))\n",
    "        \n",
    "        Ann100 = convolve(response_list[index], gauss_kernel_100)\n",
    "        Ann100[response_list[index].shape[0]-100:,] = response_list[index][response_list[index].shape[0]-100:]\n",
    "        Ann100 = np.reshape(Ann100, (response_list[index].shape[0],1))\n",
    "    \n",
    "        annotation_RBF40.append(Ann40)\n",
    "        annotation_RBF50.append(Ann50)\n",
    "        annotation_RBF75.append(Ann75)\n",
    "        annotation_RBF100.append(Ann100)\n",
    "           \n",
    "    return annotation_RBF40, annotation_RBF50, annotation_RBF75, annotation_RBF100 "
   ]
  },
  {
   "cell_type": "code",
   "execution_count": 572,
   "metadata": {
    "collapsed": false
   },
   "outputs": [
    {
     "name": "stdout",
     "output_type": "stream",
     "text": [
      "[73, 73, 73, 73]\n",
      "[(11155, 1), (11155, 1), (11155, 1), (11155, 1)]\n"
     ]
    }
   ],
   "source": [
    "annotation_RBF40, annotation_RBF50, annotation_RBF75, annotation_RBF100 = SmoothResponse()\n",
    "print([len(annotation_RBF40), len(annotation_RBF50), len(annotation_RBF75), len(annotation_RBF100)])\n",
    "print([annotation_RBF40[0].shape, annotation_RBF50[0].shape, annotation_RBF75[0].shape, annotation_RBF100[0].shape])"
   ]
  },
  {
   "cell_type": "code",
   "execution_count": 573,
   "metadata": {
    "collapsed": false
   },
   "outputs": [
    {
     "data": {
      "image/png": "[encoded data removed]",
      "text/plain": [
       "<matplotlib.figure.Figure at 0x2399126d710>"
      ]
     },
     "metadata": {},
     "output_type": "display_data"
    }
   ],
   "source": [
    "# Plot a few video sequences to see if smoothing is justified\n",
    "\n",
    "fig = plt.figure(figsize=(17, 6))\n",
    "plt.plot(annotation_vector_Two[0])\n",
    "plt.plot(annotation_RBF100[0])\n",
    "plt.plot(annotation_RBF40[0])\n",
    "plt.title('True labels')\n",
    "plt.ylabel('Conflict intensity')\n",
    "plt.xlabel('Frames')\n",
    "plt.legend(['True labels'], loc='upper left')\n",
    "plt.show()"
   ]
  },
  {
   "cell_type": "markdown",
   "metadata": {},
   "source": [
    "# Prepare data to feed into NN"
   ]
  },
  {
   "cell_type": "code",
   "execution_count": 585,
   "metadata": {
    "collapsed": true
   },
   "outputs": [],
   "source": [
    "def Makelist(data,Count):\n",
    "    Count = Count/2\n",
    "    list_data = []\n",
    "    ball = 0\n",
    "    for index in range(0,len(Count)):\n",
    "        list_data.append(data[ball:(ball+int(Count[index])),:])\n",
    "        ball += int(Count[index])\n",
    "    return(np.asarray(list_data))"
   ]
  },
  {
   "cell_type": "code",
   "execution_count": 587,
   "metadata": {
    "collapsed": false
   },
   "outputs": [],
   "source": [
    "list_data_x = Makelist(data_x, Count_full)"
   ]
  },
  {
   "cell_type": "code",
   "execution_count": 654,
   "metadata": {
    "collapsed": false
   },
   "outputs": [],
   "source": [
    "# put the things into FOLDS\n",
    "\n",
    "def DoFOLDS(list_data, annotation_list_smooth, annotation_list, num_folder1=len(Folders_Fold1), num_folder2=len(Folders_Fold2), num_folder3=len(Folders_Fold3), num_folder4=len(Folders_Fold4), num_folder5=len(Folders_Fold5)):\n",
    "    Fold1 = []\n",
    "    Fold2 = []\n",
    "    Fold3 = []\n",
    "    Fold4 = []\n",
    "    Fold5 = []\n",
    "    Fold1_y_smooth = []\n",
    "    Fold2_y_smooth = []\n",
    "    Fold3_y_smooth = []\n",
    "    Fold4_y_smooth = []\n",
    "    Fold5_y_smooth = []\n",
    "    Fold1_y = []\n",
    "    Fold2_y = []\n",
    "    Fold3_y = []\n",
    "    Fold4_y = []\n",
    "    Fold5_y = []\n",
    "    \n",
    "    for index in range(num_folder1):\n",
    "        Fold1.append(list_data[index])\n",
    "        Fold1_y_smooth.append(annotation_list_smooth[index])\n",
    "        Fold1_y.append(annotation_list[index])\n",
    "    for index in range(num_folder1, num_folder1+num_folder2):\n",
    "        Fold2.append(list_data[index])\n",
    "        Fold2_y_smooth.append(annotation_list_smooth[index])\n",
    "        Fold2_y.append(annotation_list[index])\n",
    "    for index in range(num_folder1+num_folder2,num_folder1+num_folder2+num_folder3):\n",
    "        Fold3.append(list_data[index])\n",
    "        Fold3_y_smooth.append(annotation_list_smooth[index])\n",
    "        Fold3_y.append(annotation_list[index])\n",
    "    for index in range(num_folder1+num_folder2+num_folder3,num_folder1+num_folder2+num_folder3+num_folder4):\n",
    "        Fold4.append(list_data[index])\n",
    "        Fold4_y.append(annotation_list[index])\n",
    "        Fold4_y_smooth.append(annotation_list_smooth[index])\n",
    "    for index in range(num_folder1+num_folder2+num_folder3+num_folder4,num_folder1+num_folder2+num_folder3+num_folder4+num_folder5):\n",
    "        Fold5.append(list_data[index])\n",
    "        Fold5_y_smooth.append(annotation_list_smooth[index])\n",
    "        Fold5_y.append(annotation_list[index])\n",
    "    \n",
    "    assert (len(Fold1)+len(Fold2)+len(Fold3)+len(Fold4)+len(Fold5)) == 73\n",
    "    \n",
    "    return Fold1, Fold2, Fold3, Fold4, Fold5, Fold1_y_smooth, Fold2_y_smooth, Fold3_y_smooth, Fold4_y_smooth, Fold5_y_smooth, Fold1_y, Fold2_y, Fold3_y, Fold4_y, Fold5_y\n",
    "\n",
    "Fold1, Fold2, Fold3, Fold4, Fold5, Fold1_y_smooth, Fold2_y_smooth, Fold3_y_smooth, Fold4_y_smooth, Fold5_y_smooth, Fold1_y, Fold2_y, Fold3_y, Fold4_y, Fold5_5 = DoFOLDS(list_data_x, annotation_RBF40, annotation_vector_Two)"
   ]
  },
  {
   "cell_type": "code",
   "execution_count": 655,
   "metadata": {
    "collapsed": false
   },
   "outputs": [],
   "source": [
    "#Test number must be either 1,2,3,4,5\n",
    "\n",
    "def MakeTrainValTest(test_number, Fold1=Fold1, Fold2=Fold2, Fold3=Fold3, Fold4=Fold4, Fold5=Fold5, Fold1_y=Fold1_y, Fold2_y=Fold2_y, Fold3_y=Fold3_y, Fold4_y=Fold4_y, Fold5_y=Fold5_y, Fold1_y_smooth=Fold1_y_smooth, Fold2_y_smooth=Fold2_y_smooth, Fold3_y_smooth=Fold3_y_smooth, Fold4_y_smooth=Fold4_y_smooth, Fold5_y_smooth=Fold5_y_smooth):\n",
    "    list_Folds = list([Fold1, Fold2, Fold3, Fold4, Fold5])\n",
    "    list_Folds_y = list([Fold1_y, Fold2_y, Fold3_y, Fold4_y, Fold5_y])\n",
    "    list_Folds_y_smooth = list([Fold1_y_smooth, Fold2_y_smooth, Fold3_y_smooth, Fold4_y_smooth, Fold5_y_smooth])\n",
    "    number_val_test = []\n",
    "    Train_list = []\n",
    "    Val_list = []\n",
    "    Test_list = []\n",
    "    Train_list_y = []\n",
    "    Val_list_y = []\n",
    "    Test_list_y = []\n",
    "    length = 0\n",
    "    \n",
    "    Test_list = list_Folds[test_number-1]\n",
    "    Test_list_y = list_Folds_y[test_number-1]\n",
    "    number_val_test.append(test_number-1)\n",
    "    \n",
    "    if(test_number == 1):\n",
    "        Val_list = list_Folds[4]\n",
    "        Val_list_y = list_Folds_y[4]\n",
    "        number_val_test.append(4)\n",
    "    else:\n",
    "        Val_list = list_Folds[test_number-2]\n",
    "        Val_list_y = list_Folds_y[test_number-2]\n",
    "        number_val_test.append(test_number-2)\n",
    "    \n",
    "    for index in range(5):\n",
    "        length = len(list_Folds[index])\n",
    "        if(index != number_val_test[0] and index != number_val_test[1]):\n",
    "            for index2 in range(length):\n",
    "                Train_list.append(list_Folds[index][index2])\n",
    "                Train_list_y.append(list_Folds_y_smooth[index][index2])       \n",
    "    \n",
    "    return Train_list, Val_list, Test_list, Train_list_y, Val_list_y, Test_list_y "
   ]
  },
  {
   "cell_type": "code",
   "execution_count": 693,
   "metadata": {
    "collapsed": true
   },
   "outputs": [],
   "source": [
    "Train_list, Val_list, Test_list, Train_list_y, Val_list_y, Test_list_y = MakeTrainValTest(1)"
   ]
  },
  {
   "cell_type": "code",
   "execution_count": 694,
   "metadata": {
    "collapsed": true
   },
   "outputs": [],
   "source": [
    "# Enter the test sequence number and the function returns the corresponding training and validation sets.\n",
    "\n",
    "#def Dotraining(Mylist, y_array, test_number, validation_number):\n",
    "    \n",
    "#    train_data = []\n",
    "#    val_data = []\n",
    "#    test_data = []\n",
    "#    train_y = []\n",
    "#    val_y = []\n",
    "#    test_y = []\n",
    "#    print(len(Mylist))\n",
    "    #indices = np.array([x for x in range(len(Mylist))])\n",
    "    \n",
    "#    for index in range(0,len(Mylist)):\n",
    "#        l = Mylist\n",
    "#        ll = y_array\n",
    "#        if(test_number != index):\n",
    "            \n",
    "#            val_y.append(ll[index])\n",
    "#            test_y.append(ll[test_number])\n",
    "#            val_data.append(l[index])\n",
    "#            test_data.append(l[test_number])\n",
    "            \n",
    "#            trainn = [x for i,x in enumerate(Mylist) if(i!=index and i!=test_number)]\n",
    "#            train_data.append(trainn)\n",
    "            \n",
    "#            trainn_y = [x for i,x in enumerate(y_array) if(i!=index and i!=test_number)]\n",
    "#            train_y.append(trainn_y)\n",
    "    \n",
    "#    Train_data_concat = np.asarray(train_data[validation_number][0])        \n",
    "#    for index in range(1, len(train_data)-1):\n",
    "#        Train_data_concat = np.concatenate([Train_data_concat, np.asarray(train_data[validation_number][index])])\n",
    "        \n",
    "#    Train_y_concat = np.asarray(train_y[validation_number][0])        \n",
    "#    for index in range(1, len(train_y)-1):\n",
    "#        Train_y_concat = np.concatenate([Train_y_concat, np.asarray(train_y[validation_number][index])])\n",
    "#    \n",
    "#    Train_data = np.asarray(train_data[validation_number])\n",
    "#    Train_y = np.asarray(train_y[validation_number])\n",
    "#        \n",
    "#    val_data = np.asarray(val_data[validation_number])\n",
    "#    test_data = np.asarray(test_data[validation_number])\n",
    "#    \n",
    "#    val_y = np.asarray(val_y[validation_number])\n",
    "#    test_y = np.asarray(test_y[validation_number])\n",
    "#            \n",
    "#    return Train_data, val_data, test_data, Train_y, val_y, test_y, Train_y_concat, Train_data_concat"
   ]
  },
  {
   "cell_type": "code",
   "execution_count": 695,
   "metadata": {
    "collapsed": false
   },
   "outputs": [],
   "source": [
    "#_, val_x, test_x, _, val_y, test_y, Train_y_concat, Train_data_concat = Dotraining(list_data_x, annotation_vector_Two, 71, 71)\n",
    "#train_x, _, _, train_y_smooth, _, _, Train_y_concat_smoothed, _ = Dotraining(list_data_x, annotation_RBF40, 71, 71)"
   ]
  },
  {
   "cell_type": "code",
   "execution_count": 681,
   "metadata": {
    "collapsed": false
   },
   "outputs": [],
   "source": [
    "#print(type(train_x), type(train_y_smooth))\n",
    "#print(train_x.shape, train_y_smooth.shape)\n",
    "#print(val_x.shape, test_x.shape, val_y.shape, test_y.shape)\n",
    "#print(Train_y_concat.shape, Train_data_concat.shape)"
   ]
  },
  {
   "cell_type": "markdown",
   "metadata": {},
   "source": [
    "# Neural Net First Method: Do it on the concatenated data for all the participants"
   ]
  },
  {
   "cell_type": "code",
   "execution_count": 756,
   "metadata": {
    "collapsed": true
   },
   "outputs": [],
   "source": [
    "epsilon = 0.001\n",
    "beta = 0.02\n",
    "batch_size = 32\n",
    "#hidden_size1 = 32\n",
    "#hidden_size2 = 32\n",
    "#learning_rate = 0.00001\n",
    "n_epochs = 60"
   ]
  },
  {
   "cell_type": "code",
   "execution_count": 757,
   "metadata": {
    "collapsed": false
   },
   "outputs": [],
   "source": [
    "def NeuralNetMethod1(train_x, train_y, val_x, val_y, learning_rate, input_size, hidden_size1, hidden_size2, batch_size = batch_size,  n_epochs=n_epochs, epsilon = epsilon, Train_y_concat=Train_y_concat, Train_data_concat=Train_data_concat):\n",
    "    \n",
    "    \n",
    "    X = tf.placeholder(shape = [None, input_size], dtype = tf.float32, name = \"input\")\n",
    "    y = tf.placeholder(shape = [None, 1], dtype = tf.float32, name = \"label\")\n",
    "    \n",
    "    # Layer 1\n",
    "    W_input = tf.Variable(tf.random_normal(shape = [input_size, hidden_size1], stddev = 0.1), name = \"weights_input\", trainable = True)\n",
    "    #b_input = tf.Variable(tf.random_normal(shape = [1, hidden_size1], stddev = 0.1), name =\"network_bias\", trainable = True)\n",
    "    \n",
    "    hidden_units_1 = tf.matmul(X, W_input)\n",
    "    batch_mean1, batch_var1 = tf.nn.moments(hidden_units_1,[0])\n",
    "    scale1 = tf.Variable(tf.ones([hidden_size1]))\n",
    "    beta1 = tf.Variable(tf.zeros([hidden_size1]))\n",
    "    BN1 = tf.nn.batch_normalization(hidden_units_1,batch_mean1, batch_var1, beta1, scale1, epsilon)\n",
    "    relu_hidden_1 = tf.nn.sigmoid(BN1, name = \"ReLu_hidden_layer\")\n",
    "    \n",
    "    # Layer 2\n",
    "    \n",
    "    W_hidden_1 = tf.Variable(tf.random_normal(shape = [hidden_size1, hidden_size2], stddev = 0.1), name =\"weights_hidden1\", trainable = True)\n",
    "    #h_drop1 = tf.nn.dropout(relu_hidden_1, 0.7)\n",
    "    hidden_units_2 = tf.matmul(relu_hidden_1, W_hidden_1)\n",
    "    batch_mean2, batch_var2 = tf.nn.moments(hidden_units_2,[0])\n",
    "    scale2 = tf.Variable(tf.ones([hidden_size2]))\n",
    "    beta2 = tf.Variable(tf.zeros([hidden_size2]))\n",
    "    BN2 = tf.nn.batch_normalization(hidden_units_2, batch_mean2, batch_var2, beta2, scale2, epsilon)\n",
    "    relu_hidden_2 = tf.nn.relu(BN2, name = \"Relu_hidden_layer2\")\n",
    "    \n",
    "    # Output layer\n",
    "    W_hidden_3 = tf.Variable(tf.random_normal(shape = [hidden_size2, 1], stddev = 0.1), name =\"weights_hidden2\", trainable = True)\n",
    "    \n",
    "    # For mean square loss\n",
    "    #h_drop2 = tf.nn.dropout(relu_hidden_2, 0.95)\n",
    "    logits = tf.matmul(relu_hidden_2, W_hidden_3)\n",
    "    mean_squared = tf.losses.mean_squared_error(predictions = logits, labels = y)\n",
    "     \n",
    "    \n",
    "    regularizer = tf.norm(W_input, ord = 2)\n",
    "    regularizer1 = tf.norm(W_hidden_1, ord = 2)\n",
    "    #regularizer2 = tf.norm(W_hidden_2, ord = 2)\n",
    "    regularizer3 = tf.norm(W_hidden_3, ord = 2)\n",
    "    loss = tf.reduce_mean(mean_squared + beta * (regularizer+regularizer1+regularizer3))\n",
    "    \n",
    "    global_step = tf.Variable(0, trainable=False)\n",
    "    boundaries = [n_epochs]\n",
    "    values = [learning_rate, learning_rate/2]\n",
    "    learning_rate = tf.train.piecewise_constant(global_step, boundaries, values)\n",
    "    \n",
    "    optimizer = tf.train.AdamOptimizer(learning_rate = learning_rate).minimize(loss)\n",
    "    \n",
    "    init = tf.global_variables_initializer()\n",
    "    sess = tf.Session()\n",
    "    sess.run(init)\n",
    "    \n",
    "    val_loss = []\n",
    "    pred_val = []\n",
    "    for i in range(1, n_epochs+1):\n",
    "        train_loss_list = []\n",
    "        \n",
    "        #indices = list(range(train_x.shape[0]))\n",
    "        indices = list(range(len(train_x)))\n",
    "        shuffle(indices)\n",
    "        for index1 in indices:\n",
    "            train_loss = 0\n",
    "            n_batches = int(train_x[index1].shape[0]/batch_size)\n",
    "            \n",
    "            for index in range(n_batches):\n",
    "                X_batch = train_x[index1][index*batch_size:index*batch_size+batch_size,:]\n",
    "                Y_batch = train_y[index1][index*batch_size:index*batch_size+batch_size,:]\n",
    "                _, Loss = sess.run([optimizer, loss], feed_dict = {X: X_batch, y: Y_batch})\n",
    "                train_loss += Loss\n",
    "            train_loss /= n_batches\n",
    "            train_loss_list.append(train_loss)\n",
    "        train_loss_sum = sum(train_loss_list)/len(train_x)\n",
    "            \n",
    "    \n",
    "        if(i % 2 == 0):\n",
    "            total_loss = 0\n",
    "            \n",
    "            for index in range(len(val_x)):\n",
    "                X_batch = val_x[index]\n",
    "                Y_batch = np.reshape(val_y[index], (val_y[index].shape[0],1))\n",
    "                loss_batch, logits_batch = sess.run([loss, logits], feed_dict = {X: X_batch, y: Y_batch})\n",
    "                #MSE_loss = tf.losses.mean_squared_error(labels = Y_batch, predictions = logits_batch)\n",
    "                if(i == n_epochs):\n",
    "                    pred_val = logits_batch\n",
    "                    pred_val = np.asarray(pred_val)\n",
    "                    \n",
    "                total_loss += loss_batch\n",
    "                \n",
    "            total_loss /= len(val_x)\n",
    "            print(\"Step: \" + str(i) + \" MSE val loss {0}\".format(total_loss) + \" MSE training loss \" + str(train_loss_sum))\n",
    "            val_loss.append(total_loss)\n",
    "            \n",
    "            #X_batch = val_x\n",
    "            #Y_batch = np.reshape(val_y, (val_y.shape[0],1))\n",
    "            #loss_batch, logits_batch = sess.run([loss, logits], feed_dict = {X: X_batch, y: Y_batch})\n",
    "            \n",
    "    pred_train = []\n",
    "    lowest_loss = min(val_loss)\n",
    "    min_index = (val_loss.index(min(val_loss))+1)*2\n",
    "    print(\"The lowest validation loss is at epoch \" + str(min_index) + \" is: \" + str(lowest_loss))\n",
    "\n",
    "    Train_y_concat = np.reshape(Train_y_concat, (Train_y_concat.shape[0],1))\n",
    "    loss_batch, logits_batch = sess.run([loss, logits], feed_dict = {X: Train_data_concat, y: Train_y_concat})\n",
    "    pred_train = logits_batch\n",
    "       \n",
    "    sess.close()\n",
    "    tf.reset_default_graph()\n",
    "    return lowest_loss, min_index, total_loss, pred_val, pred_train"
   ]
  },
  {
   "cell_type": "code",
   "execution_count": 758,
   "metadata": {
    "collapsed": false
   },
   "outputs": [
    {
     "name": "stdout",
     "output_type": "stream",
     "text": [
      "Step: 2 MSE val loss 0.2632348807528615 MSE training loss 0.277642726351\n",
      "Step: 4 MSE val loss 0.21760025341063738 MSE training loss 0.22659133639\n",
      "Step: 6 MSE val loss 0.178385348059237 MSE training loss 0.185036513838\n",
      "Step: 8 MSE val loss 0.16473685717210174 MSE training loss 0.15426516553\n",
      "Step: 10 MSE val loss 0.12356528453528881 MSE training loss 0.128361552097\n",
      "Step: 12 MSE val loss 0.10490689147263765 MSE training loss 0.10671795492\n",
      "Step: 14 MSE val loss 0.09419901622459292 MSE training loss 0.0965507878381\n",
      "Step: 16 MSE val loss 0.10498552909120917 MSE training loss 0.0921310205063\n",
      "Step: 18 MSE val loss 0.09042183356359601 MSE training loss 0.088484656142\n",
      "Step: 20 MSE val loss 0.08953631483018398 MSE training loss 0.088215714548\n",
      "Step: 22 MSE val loss 0.0923487483523786 MSE training loss 0.0863360327993\n",
      "Step: 24 MSE val loss 0.08876575133763254 MSE training loss 0.0873364597004\n",
      "Step: 26 MSE val loss 0.09070942690595984 MSE training loss 0.0856115280041\n",
      "Step: 28 MSE val loss 0.08123559993691742 MSE training loss 0.0827999046012\n",
      "Step: 30 MSE val loss 0.07830478996038437 MSE training loss 0.0796619810553\n",
      "Step: 32 MSE val loss 0.07829372282139957 MSE training loss 0.0784779595644\n",
      "Step: 34 MSE val loss 0.08142784773372114 MSE training loss 0.0771883521614\n",
      "Step: 36 MSE val loss 0.0786762717179954 MSE training loss 0.0788070291869\n",
      "Step: 38 MSE val loss 0.07763448404148221 MSE training loss 0.078984147603\n",
      "Step: 40 MSE val loss 0.08191724261268973 MSE training loss 0.0769320072612\n",
      "Step: 42 MSE val loss 0.07896109076682478 MSE training loss 0.0783906223816\n",
      "Step: 44 MSE val loss 0.0773885571397841 MSE training loss 0.0792478448861\n",
      "Step: 46 MSE val loss 0.07740931236185133 MSE training loss 0.0779970448229\n",
      "Step: 48 MSE val loss 0.07790879136882722 MSE training loss 0.0786212133774\n",
      "Step: 50 MSE val loss 0.0769823498558253 MSE training loss 0.0756726396046\n",
      "Step: 52 MSE val loss 0.07814936409704387 MSE training loss 0.0774397971959\n",
      "Step: 54 MSE val loss 0.0781781345140189 MSE training loss 0.0774319890442\n",
      "Step: 56 MSE val loss 0.07989843678660691 MSE training loss 0.0762745357828\n",
      "Step: 58 MSE val loss 0.07675611018203199 MSE training loss 0.0776921644169\n",
      "Step: 60 MSE val loss 0.07715578493662179 MSE training loss 0.0770572841643\n",
      "The lowest validation loss is at epoch 58 is: 0.076756110182\n"
     ]
    }
   ],
   "source": [
    "# Best so far: 32, 16, 0.0001, beta= 0.02 (0.0773) for test_number = 1\n",
    "\n",
    "#lowest_loss_list = []\n",
    "\n",
    "#for index in range(5):\n",
    "#    Train_list, Val_list, Test_list, Train_list_y, Val_list_y, Test_list_y = MakeTrainValTest(index+1)\n",
    "#    lowest_loss, min_index, loss, predictions_val, predictions_train = NeuralNetMethod1(Train_list, Train_list_y, Val_list, Val_list_y, 0.0001, 196,64, 16)\n",
    "#    lowest_loss_list.append(lowest_loss)\n",
    "\n",
    "lowest_loss, min_index, loss, predictions_val, predictions_train = NeuralNetMethod1(Train_list, Train_list_y, Val_list, Val_list_y, 0.0001, 196, 32, 32)"
   ]
  },
  {
   "cell_type": "code",
   "execution_count": null,
   "metadata": {
    "collapsed": false
   },
   "outputs": [],
   "source": [
    "# function to plot true vs predicted\n",
    "\n",
    "def plotTrueVPred(true_values, predicted_values):\n",
    "    fig = plt.figure(figsize=(17, 6))\n",
    "    plt.plot(predicted_values)\n",
    "    plt.plot(true_values)\n",
    "    plt.title('Model prediction vs real labels')\n",
    "    plt.ylabel('Conflict intensity')\n",
    "    plt.xlabel('Frames')\n",
    "    plt.legend(['Predicted labels', 'True labels'], loc='upper left')\n",
    "    plt.show()\n",
    "    #fig.savefig('newfiguseless.png', bbox_inches='tight')\n",
    "    \n",
    "plotTrueVPred(val_y, predictions_val)"
   ]
  },
  {
   "cell_type": "code",
   "execution_count": 256,
   "metadata": {
    "collapsed": false
   },
   "outputs": [
    {
     "name": "stdout",
     "output_type": "stream",
     "text": [
      "(-0.22662165936925435, 1.3354292956580308e-10)\n"
     ]
    }
   ],
   "source": [
    "# Compute ICC and pearson cor coeff\n",
    "\n",
    "from scipy.stats.stats import pearsonr\n",
    "\n",
    "# Correlation for the validation set\n",
    "print(pearsonr(np.reshape(val_y, (val_y.shape[0],)), np.reshape(predictions_val, (predictions_val.shape[0],))))\n"
   ]
  },
  {
   "cell_type": "markdown",
   "metadata": {},
   "source": [
    "# Method with the LSTM for the two participants to be used in another LSTM"
   ]
  },
  {
   "cell_type": "code",
   "execution_count": 33,
   "metadata": {
    "collapsed": false
   },
   "outputs": [],
   "source": [
    "def ManyToOne(x_seq, y_seq, window_size, val_boolean):\n",
    "    list_x = []\n",
    "    list_y = []\n",
    "    list_x_shuffled = []\n",
    "    list_y_shuffled = []\n",
    "    assert len(x_seq) == len(y_seq)\n",
    "    lenght_new_seq = len(x_seq)-window_size+1\n",
    "    \n",
    "    for index in range(lenght_new_seq):\n",
    "        list_x.append(x_seq[index:window_size+index,:])\n",
    "        list_y.append(y_seq[window_size-1+index])\n",
    "    \n",
    "    if(val_boolean == 0):\n",
    "        indices = list(range(lenght_new_seq))\n",
    "        shuffle(indices)\n",
    "    \n",
    "        for element in indices:\n",
    "            list_x_shuffled.append(list_x[element])\n",
    "            list_y_shuffled.append(list_y[element])\n",
    "            \n",
    "    elif(val_boolean == 1):\n",
    "        list_x_shuffled = list_x\n",
    "        list_y_shuffled = list_y\n",
    "        \n",
    "    return list_x_shuffled, list_y_shuffled  "
   ]
  },
  {
   "cell_type": "code",
   "execution_count": 34,
   "metadata": {
    "collapsed": true
   },
   "outputs": [],
   "source": [
    "epsilon = 0.001\n",
    "beta = 0.05\n",
    "hidden_size = 16\n",
    "hidden_size1 = 8\n",
    "hidden_size2 = 8\n",
    "learning_rate = 0.00001\n",
    "n_epochs = 70"
   ]
  },
  {
   "cell_type": "code",
   "execution_count": 35,
   "metadata": {
    "collapsed": true
   },
   "outputs": [],
   "source": [
    "# Network Parameters particular to the LSTM. We feed the person 1 and then the person 2\n",
    "\n",
    "num_input1 = 10 # num_of_features\n",
    "num_input2 = 16 # size of output of first LSTM (i.e size of input of second LSTM)\n",
    "timesteps_1 = 2 # timesteps for the number of participants (first LSTM)\n",
    "window_size = 10 #(25 frames = 1 sec)\n",
    "timesteps_2 = window_size\n",
    "batch_size = timesteps_2"
   ]
  },
  {
   "cell_type": "code",
   "execution_count": 36,
   "metadata": {
    "collapsed": false
   },
   "outputs": [],
   "source": [
    "def LSTM(train_x, train_y, val_x, val_y, learning_rate=learning_rate, batch_size=batch_size,  n_epochs=n_epochs, num_input1=num_input1, num_input2=num_input2, timesteps_1=timesteps_1, timesteps_2=timesteps_2):\n",
    "\n",
    "    with tf.variable_scope('data'):\n",
    "        prob = tf.placeholder_with_default(1.0, shape=())\n",
    "        X_or = tf.placeholder(shape = [batch_size, timesteps_1, num_input1], dtype = tf.float32, name = \"input\")\n",
    "        X = tf.unstack(X_or, timesteps_1, 1)\n",
    "        y = tf.placeholder(shape = [1,1], dtype = tf.float32, name = \"label_annotation\")\n",
    "\n",
    "    with tf.variable_scope('lstm_cell_1'):\n",
    "        lstm_cell = tf.nn.rnn_cell.BasicLSTMCell(hidden_size, forget_bias = 1.0)\n",
    "        lstm_outputs, lstm_states = tf.contrib.rnn.static_rnn(lstm_cell, X, dtype = tf.float32)\n",
    "        lstm_outputs[-1] = tf.nn.dropout(lstm_outputs[-1], prob)\n",
    "        \n",
    "        batch_mean1, batch_var1 = tf.nn.moments(lstm_outputs[-1],[0])\n",
    "        scale1 = tf.Variable(tf.ones([hidden_size]))\n",
    "        beta1 = tf.Variable(tf.zeros([hidden_size]))\n",
    "        BN1 = tf.nn.batch_normalization(lstm_outputs[-1],batch_mean1, batch_var1, beta1, scale1, epsilon)\n",
    "        \n",
    "        BN1 = tf.reshape(BN1, [1, timesteps_2, hidden_size])\n",
    "        BN1 = tf.unstack(BN1, timesteps_2, 1)\n",
    "        \n",
    "    ################## THIS IS THE ADDED PART\n",
    "    \n",
    "    with tf.variable_scope('lstm_cell_2'):\n",
    "        lstm_cell2 = tf.nn.rnn_cell.BasicLSTMCell(hidden_size1, forget_bias = 1.0)\n",
    "        lstm_outputs1, lstm_states1 = tf.contrib.rnn.static_rnn(lstm_cell2, BN1, dtype = tf.float32)\n",
    "        lstm_outputs1[-1] = tf.nn.dropout(lstm_outputs1[-1], prob)\n",
    "        \n",
    "        batch_mean2, batch_var2 = tf.nn.moments(lstm_outputs1[-1],[0])\n",
    "        scale2 = tf.Variable(tf.ones([hidden_size1]))\n",
    "        beta2 = tf.Variable(tf.zeros([hidden_size1]))\n",
    "        BN2 = tf.nn.batch_normalization(lstm_outputs1[-1],batch_mean2, batch_var2, beta2, scale2, epsilon) \n",
    "            \n",
    "    ##################\n",
    "        \n",
    "    with tf.variable_scope('Fully_connected_Layer'):\n",
    "        W_hidden = tf.Variable(tf.random_normal(shape = [hidden_size1, hidden_size2], stddev = 0.1), name = \"weights_hidden\", trainable = True)\n",
    "        hidden_1 = tf.nn.relu(tf.matmul(BN2, W_hidden))\n",
    "        batch_mean3, batch_var3 = tf.nn.moments(hidden_1, [0])\n",
    "        scale3 = tf.Variable(tf.ones([hidden_size2]))\n",
    "        beta3 = tf.Variable(tf.zeros([hidden_size2]))\n",
    "        BN3 = tf.nn.batch_normalization(hidden_1, batch_mean3, batch_var3, beta3, scale3, epsilon)\n",
    "           \n",
    "    with tf.variable_scope('loss'):\n",
    "        W_hidden2 = tf.Variable(tf.random_normal(shape = [hidden_size2, 1], stddev = 0.1), name = \"noreg\", trainable = True)\n",
    "        logits = tf.matmul(BN3, W_hidden2)\n",
    "        loss =  tf.losses.mean_squared_error(predictions = logits, labels = y)\n",
    "        l2 = beta * sum(tf.nn.l2_loss(tf_var) for tf_var in tf.trainable_variables() if not (\"noreg\" in tf_var.name or \"Bias\" in tf_var.name))\n",
    "        loss += l2\n",
    "        \n",
    "\n",
    "    global_step = tf.Variable(0, trainable=False)\n",
    "    boundaries = [50]\n",
    "    values = [learning_rate, learning_rate/2]\n",
    "    learning_rate = tf.train.piecewise_constant(global_step, boundaries, values)\n",
    "    optimizer = tf.train.AdamOptimizer(learning_rate = learning_rate)\n",
    "    train_op = optimizer.minimize(loss)\n",
    "    \n",
    "\n",
    "    init = tf.global_variables_initializer()\n",
    "    sess = tf.Session()\n",
    "    sess.run(init)\n",
    "    print(sess.run(tf.shape(X_or)))\n",
    "    print(sess.run(tf.shape(X)))\n",
    "    print(sess.run(tf.shape(BN1)))\n",
    "    \n",
    "    writer = tf.summary.FileWriter('./graphs', sess.graph)\n",
    "    \n",
    "    val_loss = []\n",
    "    pred_val = []\n",
    "    for i in range(1, n_epochs+1):\n",
    "        train_loss = 0\n",
    "\n",
    "        indices = list(range(train_x.shape[0]))\n",
    "        shuffle(indices)\n",
    "        for index1 in indices:\n",
    "            list_x, list_y = ManyToOne(train_x[index1], train_y[index1], window_size = window_size, val_boolean = 0)\n",
    "            \n",
    "            #n_batches = int(train_x[index1].shape[0]/batch_size)\n",
    "            # for index in range(n_batches):\n",
    "            \n",
    "            for index in range(len(list_x)):\n",
    "                \n",
    "                #X_batch = train_x[index1][index*batch_size:index*batch_size+batch_size,:]\n",
    "                #X_batch = np.reshape(X_batch, (batch_size, 2, 10))\n",
    "                #Y_batch = train_y[index1][index*batch_size:index*batch_size+batch_size,:]\n",
    "                \n",
    "                X_batch = np.reshape(list_x[index], (batch_size, 2, num_input1))\n",
    "                Y_batch = np.reshape(list_y[index], (1,1))\n",
    "                \n",
    "                _, Loss = sess.run([train_op, loss], feed_dict = {X_or: X_batch, y: Y_batch, prob: 0.9})\n",
    "                train_loss += Loss\n",
    "            train_loss /= len(list_x)\n",
    "        \n",
    "            \n",
    "        print('Epoch ' + str(i) + ' done.')\n",
    "        if(i % 1 == 0):\n",
    "           \n",
    "            total_loss = 0\n",
    "            list_x_val, list_y_val = ManyToOne(val_x, val_y, window_size = window_size, val_boolean = 1)\n",
    "            \n",
    "            pred_val = []\n",
    "            for index in range(len(list_x_val)):\n",
    "                X_batch = np.reshape(list_x_val[index], (batch_size, 2, num_input1))\n",
    "                Y_batch = np.reshape(list_y_val[index], (1,1))\n",
    "                loss_batch, logits_batch = sess.run([loss, logits], feed_dict = {X_or: X_batch, y: Y_batch, prob: 1})\n",
    "                \n",
    "                #MSE_loss = tf.losses.mean_squared_error(labels = Y_batch, predictions = logits_batch)\n",
    "                \n",
    "                if(i == n_epochs):\n",
    "                    pred_val.append(logits_batch)\n",
    "                \n",
    "                total_loss += loss_batch\n",
    "                \n",
    "            total_loss /= len(list_x_val)\n",
    "            print(\"Step: \" + str(i) + \" MSE val loss {0}\".format(total_loss) + \" MSE training loss \" + str(train_loss / i))\n",
    "            val_loss.append(total_loss)\n",
    "        \n",
    "    pred_val = np.asarray(pred_val)\n",
    "                \n",
    "            #X_batch = val_x\n",
    "            #Y_batch = np.reshape(val_y, (val_y.shape[0],1))\n",
    "            #loss_batch, logits_batch = sess.run([loss, logits], feed_dict = {X_or: X_batch, y: Y_batch})\n",
    "            #MSE_loss = tf.losses.mean_squared_error(labels = Y_batch, predictions = logits_batch)\n",
    "            #total_loss = sess.run(MSE_loss)\n",
    "            #print(\"Step: \" + str(i) + \" MSE val loss {0}\".format(total_loss) + \" MSE training loss \" + str(train_loss / i))\n",
    "            #val_loss.append(total_loss)\n",
    "            #if(i == n_epochs):\n",
    "            #    pred_val = logits_batch\n",
    "            #    pred_val = np.asarray(pred_val)\n",
    "    lowest_loss = min(val_loss)\n",
    "    min_index = (val_loss.index(min(val_loss))+1)*2\n",
    "    # Implement early stopping later for the best method \n",
    "    print(\"The lowest validation loss is at epoch \" + str(min_index) + \" is: \" + str(lowest_loss))\n",
    "\n",
    "    sess.close()\n",
    "    tf.reset_default_graph()\n",
    "    writer.close()\n",
    "\n",
    "    return lowest_loss, min_index, total_loss, pred_val"
   ]
  },
  {
   "cell_type": "code",
   "execution_count": 95,
   "metadata": {
    "collapsed": false
   },
   "outputs": [
    {
     "name": "stdout",
     "output_type": "stream",
     "text": [
      "[10  2 10]\n",
      "[ 2 10 10]\n",
      "[10  1 16]\n",
      "Epoch 1 done.\n",
      "Step: 1 MSE val loss 0.1395857336715074 MSE training loss 0.0445978812042\n",
      "Epoch 2 done.\n",
      "Step: 2 MSE val loss 0.11927696357659247 MSE training loss 0.0612008390137\n",
      "Epoch 3 done.\n",
      "Step: 3 MSE val loss 0.12968644860762324 MSE training loss 0.0147509779107\n",
      "Epoch 4 done.\n",
      "Step: 4 MSE val loss 0.1104735650829625 MSE training loss 0.0110027508373\n",
      "Epoch 5 done.\n",
      "Step: 5 MSE val loss 0.11398020513936047 MSE training loss 0.0105898179585\n",
      "Epoch 6 done.\n",
      "Step: 6 MSE val loss 0.1097722743544023 MSE training loss 0.012895634655\n",
      "Epoch 7 done.\n",
      "Step: 7 MSE val loss 0.12642002614337355 MSE training loss 0.011574872709\n"
     ]
    },
    {
     "ename": "KeyboardInterrupt",
     "evalue": "",
     "output_type": "error",
     "traceback": [
      "\u001b[0;31m---------------------------------------------------------------------------\u001b[0m",
      "\u001b[0;31mKeyboardInterrupt\u001b[0m                         Traceback (most recent call last)",
      "\u001b[0;32m<ipython-input-95-8caf1c0cfe95>\u001b[0m in \u001b[0;36m<module>\u001b[0;34m()\u001b[0m\n\u001b[0;32m----> 1\u001b[0;31m \u001b[0mlowest_loss\u001b[0m\u001b[1;33m,\u001b[0m \u001b[0mmin_index\u001b[0m\u001b[1;33m,\u001b[0m \u001b[0mtotal_loss\u001b[0m\u001b[1;33m,\u001b[0m \u001b[0mpred_val\u001b[0m \u001b[1;33m=\u001b[0m \u001b[0mLSTM\u001b[0m\u001b[1;33m(\u001b[0m\u001b[0mtrain_x\u001b[0m\u001b[1;33m,\u001b[0m \u001b[0mtrain_y_smooth\u001b[0m\u001b[1;33m,\u001b[0m \u001b[0mval_x\u001b[0m\u001b[1;33m,\u001b[0m \u001b[0mval_y\u001b[0m\u001b[1;33m)\u001b[0m\u001b[1;33m\u001b[0m\u001b[0m\n\u001b[0m\u001b[1;32m      2\u001b[0m \u001b[1;33m\u001b[0m\u001b[0m\n\u001b[1;32m      3\u001b[0m \u001b[1;31m# USE DROP OUT AND REGULARIZATION TO AVOID OVERFITTING (ALSO WITH THE SIZE OF THE LSTM LAYERS)\u001b[0m\u001b[1;33m\u001b[0m\u001b[1;33m\u001b[0m\u001b[0m\n",
      "\u001b[0;32m<ipython-input-94-b4e26dc83e2a>\u001b[0m in \u001b[0;36mLSTM\u001b[0;34m(train_x, train_y, val_x, val_y, learning_rate, batch_size, n_epochs, num_input1, num_input2, timesteps_1, timesteps_2)\u001b[0m\n\u001b[1;32m     91\u001b[0m                 \u001b[0mY_batch\u001b[0m \u001b[1;33m=\u001b[0m \u001b[0mnp\u001b[0m\u001b[1;33m.\u001b[0m\u001b[0mreshape\u001b[0m\u001b[1;33m(\u001b[0m\u001b[0mlist_y\u001b[0m\u001b[1;33m[\u001b[0m\u001b[0mindex\u001b[0m\u001b[1;33m]\u001b[0m\u001b[1;33m,\u001b[0m \u001b[1;33m(\u001b[0m\u001b[1;36m1\u001b[0m\u001b[1;33m,\u001b[0m\u001b[1;36m1\u001b[0m\u001b[1;33m)\u001b[0m\u001b[1;33m)\u001b[0m\u001b[1;33m\u001b[0m\u001b[0m\n\u001b[1;32m     92\u001b[0m \u001b[1;33m\u001b[0m\u001b[0m\n\u001b[0;32m---> 93\u001b[0;31m                 \u001b[0m_\u001b[0m\u001b[1;33m,\u001b[0m \u001b[0mLoss\u001b[0m \u001b[1;33m=\u001b[0m \u001b[0msess\u001b[0m\u001b[1;33m.\u001b[0m\u001b[0mrun\u001b[0m\u001b[1;33m(\u001b[0m\u001b[1;33m[\u001b[0m\u001b[0mtrain_op\u001b[0m\u001b[1;33m,\u001b[0m \u001b[0mloss\u001b[0m\u001b[1;33m]\u001b[0m\u001b[1;33m,\u001b[0m \u001b[0mfeed_dict\u001b[0m \u001b[1;33m=\u001b[0m \u001b[1;33m{\u001b[0m\u001b[0mX_or\u001b[0m\u001b[1;33m:\u001b[0m \u001b[0mX_batch\u001b[0m\u001b[1;33m,\u001b[0m \u001b[0my\u001b[0m\u001b[1;33m:\u001b[0m \u001b[0mY_batch\u001b[0m\u001b[1;33m,\u001b[0m \u001b[0mprob\u001b[0m\u001b[1;33m:\u001b[0m \u001b[1;36m0.9\u001b[0m\u001b[1;33m}\u001b[0m\u001b[1;33m)\u001b[0m\u001b[1;33m\u001b[0m\u001b[0m\n\u001b[0m\u001b[1;32m     94\u001b[0m                 \u001b[0mtrain_loss\u001b[0m \u001b[1;33m+=\u001b[0m \u001b[0mLoss\u001b[0m\u001b[1;33m\u001b[0m\u001b[0m\n\u001b[1;32m     95\u001b[0m             \u001b[0mtrain_loss\u001b[0m \u001b[1;33m/=\u001b[0m \u001b[0mlen\u001b[0m\u001b[1;33m(\u001b[0m\u001b[0mlist_x\u001b[0m\u001b[1;33m)\u001b[0m\u001b[1;33m\u001b[0m\u001b[0m\n",
      "\u001b[0;32mC:\\Users\\pinouche\\Anaconda3\\lib\\site-packages\\tensorflow\\python\\client\\session.py\u001b[0m in \u001b[0;36mrun\u001b[0;34m(self, fetches, feed_dict, options, run_metadata)\u001b[0m\n\u001b[1;32m    787\u001b[0m     \u001b[1;32mtry\u001b[0m\u001b[1;33m:\u001b[0m\u001b[1;33m\u001b[0m\u001b[0m\n\u001b[1;32m    788\u001b[0m       result = self._run(None, fetches, feed_dict, options_ptr,\n\u001b[0;32m--> 789\u001b[0;31m                          run_metadata_ptr)\n\u001b[0m\u001b[1;32m    790\u001b[0m       \u001b[1;32mif\u001b[0m \u001b[0mrun_metadata\u001b[0m\u001b[1;33m:\u001b[0m\u001b[1;33m\u001b[0m\u001b[0m\n\u001b[1;32m    791\u001b[0m         \u001b[0mproto_data\u001b[0m \u001b[1;33m=\u001b[0m \u001b[0mtf_session\u001b[0m\u001b[1;33m.\u001b[0m\u001b[0mTF_GetBuffer\u001b[0m\u001b[1;33m(\u001b[0m\u001b[0mrun_metadata_ptr\u001b[0m\u001b[1;33m)\u001b[0m\u001b[1;33m\u001b[0m\u001b[0m\n",
      "\u001b[0;32mC:\\Users\\pinouche\\Anaconda3\\lib\\site-packages\\tensorflow\\python\\client\\session.py\u001b[0m in \u001b[0;36m_run\u001b[0;34m(self, handle, fetches, feed_dict, options, run_metadata)\u001b[0m\n\u001b[1;32m    995\u001b[0m     \u001b[1;32mif\u001b[0m \u001b[0mfinal_fetches\u001b[0m \u001b[1;32mor\u001b[0m \u001b[0mfinal_targets\u001b[0m\u001b[1;33m:\u001b[0m\u001b[1;33m\u001b[0m\u001b[0m\n\u001b[1;32m    996\u001b[0m       results = self._do_run(handle, final_targets, final_fetches,\n\u001b[0;32m--> 997\u001b[0;31m                              feed_dict_string, options, run_metadata)\n\u001b[0m\u001b[1;32m    998\u001b[0m     \u001b[1;32melse\u001b[0m\u001b[1;33m:\u001b[0m\u001b[1;33m\u001b[0m\u001b[0m\n\u001b[1;32m    999\u001b[0m       \u001b[0mresults\u001b[0m \u001b[1;33m=\u001b[0m \u001b[1;33m[\u001b[0m\u001b[1;33m]\u001b[0m\u001b[1;33m\u001b[0m\u001b[0m\n",
      "\u001b[0;32mC:\\Users\\pinouche\\Anaconda3\\lib\\site-packages\\tensorflow\\python\\client\\session.py\u001b[0m in \u001b[0;36m_do_run\u001b[0;34m(self, handle, target_list, fetch_list, feed_dict, options, run_metadata)\u001b[0m\n\u001b[1;32m   1130\u001b[0m     \u001b[1;32mif\u001b[0m \u001b[0mhandle\u001b[0m \u001b[1;32mis\u001b[0m \u001b[1;32mNone\u001b[0m\u001b[1;33m:\u001b[0m\u001b[1;33m\u001b[0m\u001b[0m\n\u001b[1;32m   1131\u001b[0m       return self._do_call(_run_fn, self._session, feed_dict, fetch_list,\n\u001b[0;32m-> 1132\u001b[0;31m                            target_list, options, run_metadata)\n\u001b[0m\u001b[1;32m   1133\u001b[0m     \u001b[1;32melse\u001b[0m\u001b[1;33m:\u001b[0m\u001b[1;33m\u001b[0m\u001b[0m\n\u001b[1;32m   1134\u001b[0m       return self._do_call(_prun_fn, self._session, handle, feed_dict,\n",
      "\u001b[0;32mC:\\Users\\pinouche\\Anaconda3\\lib\\site-packages\\tensorflow\\python\\client\\session.py\u001b[0m in \u001b[0;36m_do_call\u001b[0;34m(self, fn, *args)\u001b[0m\n\u001b[1;32m   1137\u001b[0m   \u001b[1;32mdef\u001b[0m \u001b[0m_do_call\u001b[0m\u001b[1;33m(\u001b[0m\u001b[0mself\u001b[0m\u001b[1;33m,\u001b[0m \u001b[0mfn\u001b[0m\u001b[1;33m,\u001b[0m \u001b[1;33m*\u001b[0m\u001b[0margs\u001b[0m\u001b[1;33m)\u001b[0m\u001b[1;33m:\u001b[0m\u001b[1;33m\u001b[0m\u001b[0m\n\u001b[1;32m   1138\u001b[0m     \u001b[1;32mtry\u001b[0m\u001b[1;33m:\u001b[0m\u001b[1;33m\u001b[0m\u001b[0m\n\u001b[0;32m-> 1139\u001b[0;31m       \u001b[1;32mreturn\u001b[0m \u001b[0mfn\u001b[0m\u001b[1;33m(\u001b[0m\u001b[1;33m*\u001b[0m\u001b[0margs\u001b[0m\u001b[1;33m)\u001b[0m\u001b[1;33m\u001b[0m\u001b[0m\n\u001b[0m\u001b[1;32m   1140\u001b[0m     \u001b[1;32mexcept\u001b[0m \u001b[0merrors\u001b[0m\u001b[1;33m.\u001b[0m\u001b[0mOpError\u001b[0m \u001b[1;32mas\u001b[0m \u001b[0me\u001b[0m\u001b[1;33m:\u001b[0m\u001b[1;33m\u001b[0m\u001b[0m\n\u001b[1;32m   1141\u001b[0m       \u001b[0mmessage\u001b[0m \u001b[1;33m=\u001b[0m \u001b[0mcompat\u001b[0m\u001b[1;33m.\u001b[0m\u001b[0mas_text\u001b[0m\u001b[1;33m(\u001b[0m\u001b[0me\u001b[0m\u001b[1;33m.\u001b[0m\u001b[0mmessage\u001b[0m\u001b[1;33m)\u001b[0m\u001b[1;33m\u001b[0m\u001b[0m\n",
      "\u001b[0;32mC:\\Users\\pinouche\\Anaconda3\\lib\\site-packages\\tensorflow\\python\\client\\session.py\u001b[0m in \u001b[0;36m_run_fn\u001b[0;34m(session, feed_dict, fetch_list, target_list, options, run_metadata)\u001b[0m\n\u001b[1;32m   1119\u001b[0m         return tf_session.TF_Run(session, options,\n\u001b[1;32m   1120\u001b[0m                                  \u001b[0mfeed_dict\u001b[0m\u001b[1;33m,\u001b[0m \u001b[0mfetch_list\u001b[0m\u001b[1;33m,\u001b[0m \u001b[0mtarget_list\u001b[0m\u001b[1;33m,\u001b[0m\u001b[1;33m\u001b[0m\u001b[0m\n\u001b[0;32m-> 1121\u001b[0;31m                                  status, run_metadata)\n\u001b[0m\u001b[1;32m   1122\u001b[0m \u001b[1;33m\u001b[0m\u001b[0m\n\u001b[1;32m   1123\u001b[0m     \u001b[1;32mdef\u001b[0m \u001b[0m_prun_fn\u001b[0m\u001b[1;33m(\u001b[0m\u001b[0msession\u001b[0m\u001b[1;33m,\u001b[0m \u001b[0mhandle\u001b[0m\u001b[1;33m,\u001b[0m \u001b[0mfeed_dict\u001b[0m\u001b[1;33m,\u001b[0m \u001b[0mfetch_list\u001b[0m\u001b[1;33m)\u001b[0m\u001b[1;33m:\u001b[0m\u001b[1;33m\u001b[0m\u001b[0m\n",
      "\u001b[0;31mKeyboardInterrupt\u001b[0m: "
     ]
    }
   ],
   "source": [
    "lowest_loss, min_index, total_loss, pred_val = LSTM(train_x, train_y_smooth, val_x, val_y)"
   ]
  },
  {
   "cell_type": "code",
   "execution_count": null,
   "metadata": {
    "collapsed": true
   },
   "outputs": [],
   "source": [
    "# function to plot true vs predicted\n",
    "\n",
    "def plotTrueVPred(true_values, predicted_values):\n",
    "    fig = plt.figure(figsize=(17, 6))\n",
    "    plt.plot(predicted_values)\n",
    "    plt.plot(true_values)\n",
    "    plt.title('Model prediction vs real labels')\n",
    "    plt.ylabel('Conflict intensity')\n",
    "    plt.xlabel('Frames')\n",
    "    plt.legend(['Predicted labels', 'True labels'], loc='upper left')\n",
    "    plt.show()\n",
    "    #fig.savefig('newfiguseless.png', bbox_inches='tight')\n",
    "    \n",
    "plotTrueVPred(val_y, predictions_val)"
   ]
  },
  {
   "cell_type": "code",
   "execution_count": null,
   "metadata": {
    "collapsed": true
   },
   "outputs": [],
   "source": [
    "print(pearsonr(np.reshape(val_y, (val_y.shape[0],)), np.reshape(predictions_val, (predictions_val.shape[0],))))"
   ]
  },
  {
   "cell_type": "code",
   "execution_count": 720,
   "metadata": {
    "collapsed": true
   },
   "outputs": [],
   "source": [
    "tf.reset_default_graph()"
   ]
  },
  {
   "cell_type": "markdown",
   "metadata": {
    "collapsed": true
   },
   "source": [
    "# Only one stacked LSTM (regular way)"
   ]
  },
  {
   "cell_type": "code",
   "execution_count": 721,
   "metadata": {
    "collapsed": true
   },
   "outputs": [],
   "source": [
    "timesteps_1 = 2\n",
    "window_size = timesteps_1\n",
    "batch_size = 1\n",
    "n_epochs = 40\n",
    "\n",
    "# Hidden layer for the LSTMs\n",
    "hidden_size = 32\n",
    "hidden_size1 = 32\n",
    "# Hidden size for the fully connected layer\n",
    "hidden_size2 = 8\n",
    "\n",
    "num_input = 196\n",
    "epsilon = 0.001\n",
    "beta = 0.02\n",
    "learning_rate = 0.000005\n",
    "\n",
    "# NOTE: You usually need to pass all outputs to the next RNN layer or the last output for the last RNN layer. \n",
    "# To get the last output you can use output[:,-1,:]."
   ]
  },
  {
   "cell_type": "code",
   "execution_count": 722,
   "metadata": {
    "collapsed": false
   },
   "outputs": [],
   "source": [
    "def LSTM(train_x, train_y, val_x, val_y, learning_rate=learning_rate, batch_size=batch_size,  n_epochs=n_epochs, num_input=num_input, timesteps_1=timesteps_1):\n",
    "\n",
    "\n",
    "    with tf.variable_scope('data'):\n",
    "        prob = tf.placeholder_with_default(1.0, shape=())\n",
    "        X_or = tf.placeholder(shape = [batch_size, timesteps_1, num_input], dtype = tf.float32, name = \"input\")\n",
    "        X = tf.unstack(X_or, timesteps_1, 1)\n",
    "        y = tf.placeholder(shape = [batch_size,1], dtype = tf.float32, name = \"label_annotation\")\n",
    "        \n",
    "    with tf.variable_scope('lstm_cell_1'):\n",
    "        \n",
    "        rnn_layers = [tf.nn.rnn_cell.LSTMCell(size) for size in [hidden_size, hidden_size1]]\n",
    "        multi_rnn_cell = tf.nn.rnn_cell.MultiRNNCell(rnn_layers)\n",
    "        lstm_outputs, lstm_state =  tf.contrib.rnn.static_rnn(cell=multi_rnn_cell,inputs=X,dtype=tf.float32)\n",
    "        \n",
    "        #lstm_cell = tf.nn.rnn_cell.BasicLSTMCell(hidden_size, forget_bias = 1.0)\n",
    "        #lstm_outputs, lstm_states = tf.contrib.rnn.static_rnn(lstm_cell, X, dtype = tf.float32)\n",
    "        lstm_outputs[-1] = tf.nn.dropout(lstm_outputs[-1], prob)\n",
    "        \n",
    "        batch_mean1, batch_var1 = tf.nn.moments(lstm_outputs[-1],[0])\n",
    "        scale1 = tf.Variable(tf.ones([hidden_size1]))\n",
    "        beta1 = tf.Variable(tf.zeros([hidden_size1]))\n",
    "        BN1 = tf.nn.batch_normalization(lstm_outputs[-1],batch_mean1, batch_var1, beta1, scale1, epsilon)\n",
    "\n",
    "    ##################\n",
    "        \n",
    "    with tf.variable_scope('Fully_connected_Layer'):\n",
    "        W_hidden = tf.Variable(tf.random_normal(shape = [hidden_size1, hidden_size2], stddev = 0.1), name = \"weights_hidden\", trainable = True)\n",
    "        hidden_1 = tf.nn.relu(tf.matmul(BN1, W_hidden))\n",
    "        batch_mean3, batch_var3 = tf.nn.moments(hidden_1, [0])\n",
    "        scale3 = tf.Variable(tf.ones([hidden_size2]))\n",
    "        beta3 = tf.Variable(tf.zeros([hidden_size2]))\n",
    "        BN3 = tf.nn.batch_normalization(hidden_1, batch_mean3, batch_var3, beta3, scale3, epsilon)\n",
    "           \n",
    "    with tf.variable_scope('loss'):\n",
    "        W_hidden2 = tf.Variable(tf.random_normal(shape = [hidden_size2, 1], stddev = 0.1), name = \"noreg\", trainable = True)\n",
    "        logits = tf.matmul(BN3, W_hidden2)\n",
    "        loss =  tf.losses.mean_squared_error(predictions = logits, labels = y)\n",
    "        l2 = beta * sum(tf.nn.l2_loss(tf_var) for tf_var in tf.trainable_variables() if not (\"noreg\" in tf_var.name or \"Bias\" in tf_var.name))\n",
    "        loss += l2\n",
    "        \n",
    "\n",
    "    global_step = tf.Variable(0, trainable=False)\n",
    "    boundaries = [50]\n",
    "    values = [learning_rate, learning_rate/2]\n",
    "    learning_rate = tf.train.piecewise_constant(global_step, boundaries, values)\n",
    "    optimizer = tf.train.AdamOptimizer(learning_rate = learning_rate)\n",
    "    train_op = optimizer.minimize(loss)\n",
    "    \n",
    "\n",
    "    init = tf.global_variables_initializer()\n",
    "    sess = tf.Session()\n",
    "    sess.run(init)\n",
    "    print(sess.run(tf.shape(X_or)))\n",
    "    print(sess.run(tf.shape(X)))\n",
    "    print(sess.run(tf.shape(BN1)))\n",
    "    \n",
    "    writer = tf.summary.FileWriter('./graphs', sess.graph)\n",
    "    \n",
    "    val_loss = []\n",
    "    pred_val = []\n",
    "    for i in range(1, n_epochs+1):\n",
    "        train_loss_list = []\n",
    "\n",
    "        indices = list(range(len(train_x)))\n",
    "        shuffle(indices)\n",
    "        for index1 in indices:\n",
    "            train_loss = 0\n",
    "            list_x, list_y = ManyToOne(train_x[index1], train_y[index1], window_size = window_size, val_boolean = 0)\n",
    "            \n",
    "            for index in range(len(list_x)):\n",
    "                \n",
    "                X_batch = np.reshape(list_x[index], (batch_size, window_size, num_input))\n",
    "                Y_batch = np.reshape(list_y[index], (1,1))\n",
    "                \n",
    "                _, Loss = sess.run([train_op, loss], feed_dict = {X_or: X_batch, y: Y_batch, prob: 0.5})\n",
    "                train_loss += Loss\n",
    "            train_loss /= len(list_x)\n",
    "            train_loss_list.append(train_loss)\n",
    "        \n",
    "        train_loss_sum = sum(train_loss_list)/len(train_x)\n",
    "            \n",
    "        print('Epoch ' + str(i) + ' done.')\n",
    "        if(i % 1 == 0):\n",
    "           \n",
    "            total_loss_list = []\n",
    "            for index in range(len(val_x)):\n",
    "                total_loss = 0\n",
    "                list_x_val, list_y_val = ManyToOne(val_x[index], val_y[index], window_size = window_size, val_boolean = 1)\n",
    "                \n",
    "                for index1 in range(len(list_x_val)):\n",
    "                    pred_val = []\n",
    "                    X_batch = np.reshape(list_x_val[index1], (batch_size, window_size, num_input))\n",
    "                    Y_batch = np.reshape(list_y_val[index1], (1,1))\n",
    "                    loss_batch, logits_batch = sess.run([loss, logits], feed_dict = {X_or: X_batch, y: Y_batch, prob: 1})\n",
    "                \n",
    "                    if(i == n_epochs):\n",
    "                        pred_val.append(logits_batch)\n",
    "                \n",
    "                    total_loss += loss_batch\n",
    "                \n",
    "                total_loss /= len(list_x_val)\n",
    "                total_loss_list.append(total_loss)\n",
    "            val_loss_sum = sum(total_loss_list)/len(val_x)\n",
    "            print(\"Step: \" + str(i) + \" MSE val loss {0}\".format(total_loss) + \" MSE training loss \" + str(train_loss_sum))\n",
    "            val_loss.append(val_loss_sum)\n",
    "        \n",
    "    pred_val = np.asarray(pred_val)\n",
    "          \n",
    "    lowest_loss = min(val_loss)\n",
    "    min_index = (val_loss.index(min(val_loss))+1)*2\n",
    "    # Implement early stopping later for the best method \n",
    "    print(\"The lowest validation loss is at epoch \" + str(min_index) + \" is: \" + str(lowest_loss))\n",
    "\n",
    "    sess.close()\n",
    "    tf.reset_default_graph()\n",
    "    writer.close()\n",
    "\n",
    "    return lowest_loss, min_index, total_loss, pred_val"
   ]
  },
  {
   "cell_type": "code",
   "execution_count": 723,
   "metadata": {
    "collapsed": false
   },
   "outputs": [
    {
     "name": "stdout",
     "output_type": "stream",
     "text": [
      "[  1   2 196]\n",
      "[  2   1 196]\n",
      "[ 1 64]\n",
      "Epoch 1 done.\n",
      "Step: 1 MSE val loss 0.4046078091500064 MSE training loss 1.92514846396\n",
      "Epoch 2 done.\n",
      "Step: 2 MSE val loss 0.10603897867386392 MSE training loss 0.135611143769\n",
      "Epoch 3 done.\n",
      "Step: 3 MSE val loss 0.09892220687650052 MSE training loss 0.0746320215407\n",
      "Epoch 4 done.\n",
      "Step: 4 MSE val loss 0.09945160714152176 MSE training loss 0.0744397514848\n",
      "Epoch 5 done.\n",
      "Step: 5 MSE val loss 0.10353302892485304 MSE training loss 0.0745680414688\n",
      "Epoch 6 done.\n",
      "Step: 6 MSE val loss 0.09606804125923127 MSE training loss 0.0728380405706\n",
      "Epoch 7 done.\n",
      "Step: 7 MSE val loss 0.09726229575531307 MSE training loss 0.0719718426118\n",
      "Epoch 8 done.\n",
      "Step: 8 MSE val loss 0.10670472053741967 MSE training loss 0.0733018327199\n",
      "Epoch 9 done.\n",
      "Step: 9 MSE val loss 0.10851754413942254 MSE training loss 0.0714321725338\n"
     ]
    },
    {
     "ename": "KeyboardInterrupt",
     "evalue": "",
     "output_type": "error",
     "traceback": [
      "\u001b[0;31m---------------------------------------------------------------------------\u001b[0m",
      "\u001b[0;31mKeyboardInterrupt\u001b[0m                         Traceback (most recent call last)",
      "\u001b[0;32m<ipython-input-723-8c52e5a30416>\u001b[0m in \u001b[0;36m<module>\u001b[0;34m()\u001b[0m\n\u001b[0;32m----> 1\u001b[0;31m \u001b[0mlowest_loss\u001b[0m\u001b[1;33m,\u001b[0m \u001b[0mmin_index\u001b[0m\u001b[1;33m,\u001b[0m \u001b[0mtotal_loss\u001b[0m\u001b[1;33m,\u001b[0m \u001b[0mpred_val\u001b[0m \u001b[1;33m=\u001b[0m \u001b[0mLSTM\u001b[0m\u001b[1;33m(\u001b[0m\u001b[0mTrain_list\u001b[0m\u001b[1;33m,\u001b[0m \u001b[0mTrain_list_y\u001b[0m\u001b[1;33m,\u001b[0m \u001b[0mVal_list\u001b[0m\u001b[1;33m,\u001b[0m \u001b[0mVal_list_y\u001b[0m\u001b[1;33m)\u001b[0m\u001b[1;33m\u001b[0m\u001b[0m\n\u001b[0m",
      "\u001b[0;32m<ipython-input-722-cb0603562f75>\u001b[0m in \u001b[0;36mLSTM\u001b[0;34m(train_x, train_y, val_x, val_y, learning_rate, batch_size, n_epochs, num_input, timesteps_1)\u001b[0m\n\u001b[1;32m     74\u001b[0m                 \u001b[0mY_batch\u001b[0m \u001b[1;33m=\u001b[0m \u001b[0mnp\u001b[0m\u001b[1;33m.\u001b[0m\u001b[0mreshape\u001b[0m\u001b[1;33m(\u001b[0m\u001b[0mlist_y\u001b[0m\u001b[1;33m[\u001b[0m\u001b[0mindex\u001b[0m\u001b[1;33m]\u001b[0m\u001b[1;33m,\u001b[0m \u001b[1;33m(\u001b[0m\u001b[1;36m1\u001b[0m\u001b[1;33m,\u001b[0m\u001b[1;36m1\u001b[0m\u001b[1;33m)\u001b[0m\u001b[1;33m)\u001b[0m\u001b[1;33m\u001b[0m\u001b[0m\n\u001b[1;32m     75\u001b[0m \u001b[1;33m\u001b[0m\u001b[0m\n\u001b[0;32m---> 76\u001b[0;31m                 \u001b[0m_\u001b[0m\u001b[1;33m,\u001b[0m \u001b[0mLoss\u001b[0m \u001b[1;33m=\u001b[0m \u001b[0msess\u001b[0m\u001b[1;33m.\u001b[0m\u001b[0mrun\u001b[0m\u001b[1;33m(\u001b[0m\u001b[1;33m[\u001b[0m\u001b[0mtrain_op\u001b[0m\u001b[1;33m,\u001b[0m \u001b[0mloss\u001b[0m\u001b[1;33m]\u001b[0m\u001b[1;33m,\u001b[0m \u001b[0mfeed_dict\u001b[0m \u001b[1;33m=\u001b[0m \u001b[1;33m{\u001b[0m\u001b[0mX_or\u001b[0m\u001b[1;33m:\u001b[0m \u001b[0mX_batch\u001b[0m\u001b[1;33m,\u001b[0m \u001b[0my\u001b[0m\u001b[1;33m:\u001b[0m \u001b[0mY_batch\u001b[0m\u001b[1;33m,\u001b[0m \u001b[0mprob\u001b[0m\u001b[1;33m:\u001b[0m \u001b[1;36m0.5\u001b[0m\u001b[1;33m}\u001b[0m\u001b[1;33m)\u001b[0m\u001b[1;33m\u001b[0m\u001b[0m\n\u001b[0m\u001b[1;32m     77\u001b[0m                 \u001b[0mtrain_loss\u001b[0m \u001b[1;33m+=\u001b[0m \u001b[0mLoss\u001b[0m\u001b[1;33m\u001b[0m\u001b[0m\n\u001b[1;32m     78\u001b[0m             \u001b[0mtrain_loss\u001b[0m \u001b[1;33m/=\u001b[0m \u001b[0mlen\u001b[0m\u001b[1;33m(\u001b[0m\u001b[0mlist_x\u001b[0m\u001b[1;33m)\u001b[0m\u001b[1;33m\u001b[0m\u001b[0m\n",
      "\u001b[0;32mC:\\Users\\pinouche\\Anaconda3\\lib\\site-packages\\tensorflow\\python\\client\\session.py\u001b[0m in \u001b[0;36mrun\u001b[0;34m(self, fetches, feed_dict, options, run_metadata)\u001b[0m\n\u001b[1;32m    787\u001b[0m     \u001b[1;32mtry\u001b[0m\u001b[1;33m:\u001b[0m\u001b[1;33m\u001b[0m\u001b[0m\n\u001b[1;32m    788\u001b[0m       result = self._run(None, fetches, feed_dict, options_ptr,\n\u001b[0;32m--> 789\u001b[0;31m                          run_metadata_ptr)\n\u001b[0m\u001b[1;32m    790\u001b[0m       \u001b[1;32mif\u001b[0m \u001b[0mrun_metadata\u001b[0m\u001b[1;33m:\u001b[0m\u001b[1;33m\u001b[0m\u001b[0m\n\u001b[1;32m    791\u001b[0m         \u001b[0mproto_data\u001b[0m \u001b[1;33m=\u001b[0m \u001b[0mtf_session\u001b[0m\u001b[1;33m.\u001b[0m\u001b[0mTF_GetBuffer\u001b[0m\u001b[1;33m(\u001b[0m\u001b[0mrun_metadata_ptr\u001b[0m\u001b[1;33m)\u001b[0m\u001b[1;33m\u001b[0m\u001b[0m\n",
      "\u001b[0;32mC:\\Users\\pinouche\\Anaconda3\\lib\\site-packages\\tensorflow\\python\\client\\session.py\u001b[0m in \u001b[0;36m_run\u001b[0;34m(self, handle, fetches, feed_dict, options, run_metadata)\u001b[0m\n\u001b[1;32m    995\u001b[0m     \u001b[1;32mif\u001b[0m \u001b[0mfinal_fetches\u001b[0m \u001b[1;32mor\u001b[0m \u001b[0mfinal_targets\u001b[0m\u001b[1;33m:\u001b[0m\u001b[1;33m\u001b[0m\u001b[0m\n\u001b[1;32m    996\u001b[0m       results = self._do_run(handle, final_targets, final_fetches,\n\u001b[0;32m--> 997\u001b[0;31m                              feed_dict_string, options, run_metadata)\n\u001b[0m\u001b[1;32m    998\u001b[0m     \u001b[1;32melse\u001b[0m\u001b[1;33m:\u001b[0m\u001b[1;33m\u001b[0m\u001b[0m\n\u001b[1;32m    999\u001b[0m       \u001b[0mresults\u001b[0m \u001b[1;33m=\u001b[0m \u001b[1;33m[\u001b[0m\u001b[1;33m]\u001b[0m\u001b[1;33m\u001b[0m\u001b[0m\n",
      "\u001b[0;32mC:\\Users\\pinouche\\Anaconda3\\lib\\site-packages\\tensorflow\\python\\client\\session.py\u001b[0m in \u001b[0;36m_do_run\u001b[0;34m(self, handle, target_list, fetch_list, feed_dict, options, run_metadata)\u001b[0m\n\u001b[1;32m   1130\u001b[0m     \u001b[1;32mif\u001b[0m \u001b[0mhandle\u001b[0m \u001b[1;32mis\u001b[0m \u001b[1;32mNone\u001b[0m\u001b[1;33m:\u001b[0m\u001b[1;33m\u001b[0m\u001b[0m\n\u001b[1;32m   1131\u001b[0m       return self._do_call(_run_fn, self._session, feed_dict, fetch_list,\n\u001b[0;32m-> 1132\u001b[0;31m                            target_list, options, run_metadata)\n\u001b[0m\u001b[1;32m   1133\u001b[0m     \u001b[1;32melse\u001b[0m\u001b[1;33m:\u001b[0m\u001b[1;33m\u001b[0m\u001b[0m\n\u001b[1;32m   1134\u001b[0m       return self._do_call(_prun_fn, self._session, handle, feed_dict,\n",
      "\u001b[0;32mC:\\Users\\pinouche\\Anaconda3\\lib\\site-packages\\tensorflow\\python\\client\\session.py\u001b[0m in \u001b[0;36m_do_call\u001b[0;34m(self, fn, *args)\u001b[0m\n\u001b[1;32m   1137\u001b[0m   \u001b[1;32mdef\u001b[0m \u001b[0m_do_call\u001b[0m\u001b[1;33m(\u001b[0m\u001b[0mself\u001b[0m\u001b[1;33m,\u001b[0m \u001b[0mfn\u001b[0m\u001b[1;33m,\u001b[0m \u001b[1;33m*\u001b[0m\u001b[0margs\u001b[0m\u001b[1;33m)\u001b[0m\u001b[1;33m:\u001b[0m\u001b[1;33m\u001b[0m\u001b[0m\n\u001b[1;32m   1138\u001b[0m     \u001b[1;32mtry\u001b[0m\u001b[1;33m:\u001b[0m\u001b[1;33m\u001b[0m\u001b[0m\n\u001b[0;32m-> 1139\u001b[0;31m       \u001b[1;32mreturn\u001b[0m \u001b[0mfn\u001b[0m\u001b[1;33m(\u001b[0m\u001b[1;33m*\u001b[0m\u001b[0margs\u001b[0m\u001b[1;33m)\u001b[0m\u001b[1;33m\u001b[0m\u001b[0m\n\u001b[0m\u001b[1;32m   1140\u001b[0m     \u001b[1;32mexcept\u001b[0m \u001b[0merrors\u001b[0m\u001b[1;33m.\u001b[0m\u001b[0mOpError\u001b[0m \u001b[1;32mas\u001b[0m \u001b[0me\u001b[0m\u001b[1;33m:\u001b[0m\u001b[1;33m\u001b[0m\u001b[0m\n\u001b[1;32m   1141\u001b[0m       \u001b[0mmessage\u001b[0m \u001b[1;33m=\u001b[0m \u001b[0mcompat\u001b[0m\u001b[1;33m.\u001b[0m\u001b[0mas_text\u001b[0m\u001b[1;33m(\u001b[0m\u001b[0me\u001b[0m\u001b[1;33m.\u001b[0m\u001b[0mmessage\u001b[0m\u001b[1;33m)\u001b[0m\u001b[1;33m\u001b[0m\u001b[0m\n",
      "\u001b[0;32mC:\\Users\\pinouche\\Anaconda3\\lib\\site-packages\\tensorflow\\python\\client\\session.py\u001b[0m in \u001b[0;36m_run_fn\u001b[0;34m(session, feed_dict, fetch_list, target_list, options, run_metadata)\u001b[0m\n\u001b[1;32m   1119\u001b[0m         return tf_session.TF_Run(session, options,\n\u001b[1;32m   1120\u001b[0m                                  \u001b[0mfeed_dict\u001b[0m\u001b[1;33m,\u001b[0m \u001b[0mfetch_list\u001b[0m\u001b[1;33m,\u001b[0m \u001b[0mtarget_list\u001b[0m\u001b[1;33m,\u001b[0m\u001b[1;33m\u001b[0m\u001b[0m\n\u001b[0;32m-> 1121\u001b[0;31m                                  status, run_metadata)\n\u001b[0m\u001b[1;32m   1122\u001b[0m \u001b[1;33m\u001b[0m\u001b[0m\n\u001b[1;32m   1123\u001b[0m     \u001b[1;32mdef\u001b[0m \u001b[0m_prun_fn\u001b[0m\u001b[1;33m(\u001b[0m\u001b[0msession\u001b[0m\u001b[1;33m,\u001b[0m \u001b[0mhandle\u001b[0m\u001b[1;33m,\u001b[0m \u001b[0mfeed_dict\u001b[0m\u001b[1;33m,\u001b[0m \u001b[0mfetch_list\u001b[0m\u001b[1;33m)\u001b[0m\u001b[1;33m:\u001b[0m\u001b[1;33m\u001b[0m\u001b[0m\n",
      "\u001b[0;31mKeyboardInterrupt\u001b[0m: "
     ]
    }
   ],
   "source": [
    "lowest_loss, min_index, total_loss, pred_val = LSTM(Train_list, Train_list_y, Val_list, Val_list_y)"
   ]
  },
  {
   "cell_type": "code",
   "execution_count": null,
   "metadata": {
    "collapsed": true
   },
   "outputs": [],
   "source": [
    "# function to plot true vs predicted\n",
    "\n",
    "def plotTrueVPred(true_values, predicted_values):\n",
    "    fig = plt.figure(figsize=(17, 6))\n",
    "    plt.plot(predicted_values)\n",
    "    plt.plot(true_values)\n",
    "    plt.title('Model prediction vs real labels')\n",
    "    plt.ylabel('Conflict intensity')\n",
    "    plt.xlabel('Frames')\n",
    "    plt.legend(['Predicted labels', 'True labels'], loc='upper left')\n",
    "    plt.show()\n",
    "    #fig.savefig('newfiguseless.png', bbox_inches='tight')\n",
    "    \n",
    "plotTrueVPred(val_y, predictions_val)"
   ]
  }
 ],
 "metadata": {
  "kernelspec": {
   "display_name": "Python [conda root]",
   "language": "python",
   "name": "conda-root-py"
  },
  "language_info": {
   "codemirror_mode": {
    "name": "ipython",
    "version": 3
   },
   "file_extension": ".py",
   "mimetype": "text/x-python",
   "name": "python",
   "nbconvert_exporter": "python",
   "pygments_lexer": "ipython3",
   "version": "3.5.2"
  }
 },
 "nbformat": 4,
 "nbformat_minor": 2
}
