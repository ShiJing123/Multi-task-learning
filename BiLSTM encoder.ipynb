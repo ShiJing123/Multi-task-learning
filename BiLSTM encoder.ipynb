{
 "cells": [
  {
   "cell_type": "code",
   "execution_count": 1,
   "metadata": {
    "collapsed": false
   },
   "outputs": [
    {
     "name": "stdout",
     "output_type": "stream",
     "text": [
      "[name: \"/device:CPU:0\"\n",
      "device_type: \"CPU\"\n",
      "memory_limit: 268435456\n",
      "locality {\n",
      "}\n",
      "incarnation: 1810479891892622912\n",
      "]\n"
     ]
    }
   ],
   "source": [
    "import numpy as np\n",
    "import sklearn\n",
    "from scipy.stats.stats import pearsonr\n",
    "import pickle\n",
    "import pandas as pd\n",
    "from scipy.cluster.vq import whiten\n",
    "from sklearn import cluster\n",
    "from sklearn import manifold\n",
    "from sklearn.decomposition import PCA\n",
    "from sklearn import decomposition\n",
    "import matplotlib.pyplot as plt\n",
    "import urllib\n",
    "from numpy import isnan, nan, logical_not, logical_or\n",
    "import tensorflow as tf\n",
    "from sklearn.cross_decomposition import CCA\n",
    "from sklearn.decomposition import PCA, KernelPCA\n",
    "from sklearn.datasets import make_circles\n",
    "from numpy import genfromtxt\n",
    "from random import shuffle\n",
    "import os\n",
    "os.environ[\"CUDA_DEVICE_ORDER\"]=\"PCI_BUS_ID\"   \n",
    "os.environ[\"CUDA_VISIBLE_DEVICES\"]=\"0\"\n",
    "from tensorflow.python.client import device_lib\n",
    "print(device_lib.list_local_devices())"
   ]
  },
  {
   "cell_type": "markdown",
   "metadata": {},
   "source": [
    "# Get the data"
   ]
  },
  {
   "cell_type": "code",
   "execution_count": 2,
   "metadata": {
    "collapsed": true
   },
   "outputs": [],
   "source": [
    "Count_full = np.array([22310,  3960,  3500,  1770,  3172,  3710,  2390,  1470,  1230,\n",
    "        2150,  2380,  5722,  1924,  1920,  3532,  2600,  2264,  6910,\n",
    "        6520,  4344,  1310,  1150,  2714,  2380,  2712,  6224,  2318,\n",
    "        2636,  2646,  1410,  1410,  2950,  1410,  1100,  1240,  1310,\n",
    "        1580,  1790,  1724,  2042,  1860,  1010,  1528,  5462,  5720,\n",
    "        2778,  1408,  6330,  2040,  4960,  1660,  1570,  1450,  1090,\n",
    "        4632,  1438,  1418,  3300,  1220,  3624,  1400,  1524,  1160,\n",
    "        3486,  2030,  2200,  2694,  5750,  1522,  1950,  1280,  1910,  5834])"
   ]
  },
  {
   "cell_type": "code",
   "execution_count": 3,
   "metadata": {
    "collapsed": true
   },
   "outputs": [],
   "source": [
    "length_folders = np.array([10, 13, 20, 14, 16])"
   ]
  },
  {
   "cell_type": "code",
   "execution_count": 4,
   "metadata": {
    "collapsed": false
   },
   "outputs": [
    {
     "name": "stdout",
     "output_type": "stream",
     "text": [
      "(213072, 68, 2)\n",
      "(213072, 136)\n"
     ]
    }
   ],
   "source": [
    "full_data_x = pickle.load(open(\"Full_data_x.p\", \"rb\" ))\n",
    "print(full_data_x.shape)\n",
    "full_data_x = np.reshape(full_data_x, (full_data_x.shape[0],full_data_x.shape[1]*full_data_x.shape[2]))\n",
    "print(full_data_x.shape)"
   ]
  },
  {
   "cell_type": "code",
   "execution_count": 5,
   "metadata": {
    "collapsed": false
   },
   "outputs": [
    {
     "name": "stdout",
     "output_type": "stream",
     "text": [
      "(106536, 196)\n"
     ]
    }
   ],
   "source": [
    "data_x = pickle.load( open( \"data_x.p\", \"rb\" ))\n",
    "print(data_x.shape)"
   ]
  },
  {
   "cell_type": "code",
   "execution_count": 6,
   "metadata": {
    "collapsed": false
   },
   "outputs": [
    {
     "name": "stdout",
     "output_type": "stream",
     "text": [
      "(106536, 272)\n"
     ]
    }
   ],
   "source": [
    "data_x_68 = pickle.load( open( \"data_x_68.p\", \"rb\" ))\n",
    "print(data_x_68.shape)"
   ]
  },
  {
   "cell_type": "code",
   "execution_count": 7,
   "metadata": {
    "collapsed": false
   },
   "outputs": [
    {
     "name": "stdout",
     "output_type": "stream",
     "text": [
      "(73,)\n"
     ]
    }
   ],
   "source": [
    "annotation_vector_Two = pickle.load( open( \"annotation_vector_Two.p\", \"rb\" ))\n",
    "print(annotation_vector_Two.shape)"
   ]
  },
  {
   "cell_type": "markdown",
   "metadata": {},
   "source": [
    "# Pre-processing (scaling the data and smoothing the label)"
   ]
  },
  {
   "cell_type": "code",
   "execution_count": 8,
   "metadata": {
    "collapsed": false
   },
   "outputs": [
    {
     "name": "stderr",
     "output_type": "stream",
     "text": [
      "C:\\Users\\pinouche\\Anaconda3\\lib\\site-packages\\sklearn\\utils\\validation.py:475: DataConversionWarning: Data with input dtype <U7 was converted to float64 by the scale function.\n",
      "  warnings.warn(msg, DataConversionWarning)\n"
     ]
    }
   ],
   "source": [
    "# get the participants separated\n",
    "\n",
    "from sklearn import preprocessing\n",
    "\n",
    "data_participant1 = data_x_68[:,:98]\n",
    "data_participant2 = data_x_68[:,98:]\n",
    "participant1_scaled = preprocessing.scale(data_participant1)\n",
    "participant2_scaled = preprocessing.scale(data_participant2)\n",
    "data_x_68 = preprocessing.scale(data_x_68)"
   ]
  },
  {
   "cell_type": "code",
   "execution_count": 9,
   "metadata": {
    "collapsed": true
   },
   "outputs": [],
   "source": [
    "from astropy.convolution import convolve, Gaussian1DKernel, Box1DKernel\n",
    "\n",
    "def SmoothResponse(response_list = annotation_vector_Two):\n",
    "    length = len(annotation_vector_Two)\n",
    "    gauss_kernel_40 = Gaussian1DKernel(25)\n",
    "    gauss_kernel_50 = Gaussian1DKernel(50)\n",
    "    gauss_kernel_75 = Gaussian1DKernel(75)\n",
    "    gauss_kernel_100 = Gaussian1DKernel(100)\n",
    "    annotation_RBF40 = []\n",
    "    annotation_RBF50 = []\n",
    "    annotation_RBF75 = []\n",
    "    annotation_RBF100 = []\n",
    "    for index in range(length):\n",
    "        response_list[index] = np.reshape(response_list[index], (response_list[index].shape[0],))\n",
    "        \n",
    "        Ann40 = convolve(response_list[index], gauss_kernel_40)\n",
    "        Ann40[response_list[index].shape[0]-100:,] = response_list[index][response_list[index].shape[0]-100:]\n",
    "        Ann40 = np.reshape(Ann40, (response_list[index].shape[0],1))\n",
    "        \n",
    "        Ann50 = convolve(response_list[index], gauss_kernel_50)\n",
    "        Ann50[response_list[index].shape[0]-100:,] = response_list[index][response_list[index].shape[0]-100:]\n",
    "        Ann50 = np.reshape(Ann50, (response_list[index].shape[0],1))\n",
    "        \n",
    "        Ann75 = convolve(response_list[index], gauss_kernel_75)\n",
    "        Ann75[response_list[index].shape[0]-100:,] = response_list[index][response_list[index].shape[0]-100:]\n",
    "        Ann75 = np.reshape(Ann75, (response_list[index].shape[0],1))\n",
    "        \n",
    "        Ann100 = convolve(response_list[index], gauss_kernel_100)\n",
    "        Ann100[response_list[index].shape[0]-100:,] = response_list[index][response_list[index].shape[0]-100:]\n",
    "        Ann100 = np.reshape(Ann100, (response_list[index].shape[0],1))\n",
    "    \n",
    "        annotation_RBF40.append(Ann40)\n",
    "        annotation_RBF50.append(Ann50)\n",
    "        annotation_RBF75.append(Ann75)\n",
    "        annotation_RBF100.append(Ann100)\n",
    "           \n",
    "    return annotation_RBF40, annotation_RBF50, annotation_RBF75, annotation_RBF100 "
   ]
  },
  {
   "cell_type": "code",
   "execution_count": 10,
   "metadata": {
    "collapsed": true
   },
   "outputs": [],
   "source": [
    "def SmoothResponse2(response_list):\n",
    "    length = len(response_list)\n",
    "    gauss_kernel_40 = Gaussian1DKernel(25)\n",
    "    gauss_kernel_100 = Gaussian1DKernel(100)\n",
    "    annotation_RBF40 = []\n",
    "    annotation_RBF100 = []\n",
    "        \n",
    "    response_list = np.reshape(response_list, (length,))\n",
    "        \n",
    "    Ann40 = convolve(response_list, gauss_kernel_40)\n",
    "    Ann40[length-100:,] = response_list[length-100:]\n",
    "        \n",
    "    Ann100 = convolve(response_list, gauss_kernel_100)\n",
    "    Ann100[length-100:,] = response_list[length-100:]\n",
    "    \n",
    "    annotation_RBF40.append(Ann40)\n",
    "    annotation_RBF100.append(Ann100)\n",
    "           \n",
    "    return annotation_RBF40[0], annotation_RBF100[0]"
   ]
  },
  {
   "cell_type": "code",
   "execution_count": 11,
   "metadata": {
    "collapsed": true
   },
   "outputs": [],
   "source": [
    "annotation_RBF40, annotation_RBF50, annotation_RBF75, annotation_RBF100 = SmoothResponse()"
   ]
  },
  {
   "cell_type": "code",
   "execution_count": 12,
   "metadata": {
    "collapsed": false
   },
   "outputs": [
    {
     "data": {
      "image/png": "[encoded data removed]",
      "text/plain": [
       "<Figure size 1224x432 with 1 Axes>"
      ]
     },
     "metadata": {},
     "output_type": "display_data"
    }
   ],
   "source": [
    "# Plot a few video sequences to see if smoothing is justified\n",
    "\n",
    "fig = plt.figure(figsize=(17, 6))\n",
    "plt.plot(annotation_vector_Two[0])\n",
    "plt.plot(annotation_RBF100[0])\n",
    "plt.plot(annotation_RBF40[0])\n",
    "plt.title('True labels')\n",
    "plt.ylabel('Conflict intensity')\n",
    "plt.xlabel('Frames')\n",
    "plt.legend(['True labels'], loc='upper left')\n",
    "plt.show()"
   ]
  },
  {
   "cell_type": "markdown",
   "metadata": {},
   "source": [
    "# Format the data to be fed in the LSTM"
   ]
  },
  {
   "cell_type": "code",
   "execution_count": 13,
   "metadata": {
    "collapsed": true
   },
   "outputs": [],
   "source": [
    "def Makelist(data,Count):\n",
    "    Count = Count/2\n",
    "    list_data = []\n",
    "    ball = 0\n",
    "    for index in range(0,len(Count)):\n",
    "        list_data.append(data[ball:(ball+int(Count[index])),:])\n",
    "        ball += int(Count[index])\n",
    "    return(np.asarray(list_data))"
   ]
  },
  {
   "cell_type": "code",
   "execution_count": 14,
   "metadata": {
    "collapsed": true
   },
   "outputs": [],
   "source": [
    "list_data_x = Makelist(data_x_68, Count_full)"
   ]
  },
  {
   "cell_type": "code",
   "execution_count": 15,
   "metadata": {
    "collapsed": true
   },
   "outputs": [],
   "source": [
    "# put the things into FOLDS\n",
    "\n",
    "def DoFOLDS(list_data, annotation_list_smooth, annotation_list, num_folder1=length_folders[0], num_folder2=length_folders[1], num_folder3=length_folders[2], num_folder4=length_folders[3], num_folder5=length_folders[4]):\n",
    "    Fold1 = []\n",
    "    Fold2 = []\n",
    "    Fold3 = []\n",
    "    Fold4 = []\n",
    "    Fold5 = []\n",
    "    Fold1_y_smooth = []\n",
    "    Fold2_y_smooth = []\n",
    "    Fold3_y_smooth = []\n",
    "    Fold4_y_smooth = []\n",
    "    Fold5_y_smooth = []\n",
    "    Fold1_y = []\n",
    "    Fold2_y = []\n",
    "    Fold3_y = []\n",
    "    Fold4_y = []\n",
    "    Fold5_y = []\n",
    "    \n",
    "    for index in range(num_folder1):\n",
    "        Fold1.append(list_data[index])\n",
    "        Fold1_y_smooth.append(annotation_list_smooth[index])\n",
    "        Fold1_y.append(annotation_list[index])\n",
    "    for index in range(num_folder1, num_folder1+num_folder2):\n",
    "        Fold2.append(list_data[index])\n",
    "        Fold2_y_smooth.append(annotation_list_smooth[index])\n",
    "        Fold2_y.append(annotation_list[index])\n",
    "    for index in range(num_folder1+num_folder2,num_folder1+num_folder2+num_folder3):\n",
    "        Fold3.append(list_data[index])\n",
    "        Fold3_y_smooth.append(annotation_list_smooth[index])\n",
    "        Fold3_y.append(annotation_list[index])\n",
    "    for index in range(num_folder1+num_folder2+num_folder3,num_folder1+num_folder2+num_folder3+num_folder4):\n",
    "        Fold4.append(list_data[index])\n",
    "        Fold4_y.append(annotation_list[index])\n",
    "        Fold4_y_smooth.append(annotation_list_smooth[index])\n",
    "    for index in range(num_folder1+num_folder2+num_folder3+num_folder4,num_folder1+num_folder2+num_folder3+num_folder4+num_folder5):\n",
    "        Fold5.append(list_data[index])\n",
    "        Fold5_y_smooth.append(annotation_list_smooth[index])\n",
    "        Fold5_y.append(annotation_list[index])\n",
    "    \n",
    "    assert (len(Fold1)+len(Fold2)+len(Fold3)+len(Fold4)+len(Fold5)) == 73\n",
    "    \n",
    "    return Fold1, Fold2, Fold3, Fold4, Fold5, Fold1_y_smooth, Fold2_y_smooth, Fold3_y_smooth, Fold4_y_smooth, Fold5_y_smooth, Fold1_y, Fold2_y, Fold3_y, Fold4_y, Fold5_y\n",
    "\n",
    "Fold1, Fold2, Fold3, Fold4, Fold5, Fold1_y_smooth, Fold2_y_smooth, Fold3_y_smooth, Fold4_y_smooth, Fold5_y_smooth, Fold1_y, Fold2_y, Fold3_y, Fold4_y, Fold5_y = DoFOLDS(list_data_x, annotation_RBF40, annotation_vector_Two)"
   ]
  },
  {
   "cell_type": "code",
   "execution_count": 16,
   "metadata": {
    "collapsed": true
   },
   "outputs": [],
   "source": [
    "#Test number must be either 1,2,3,4,5\n",
    "\n",
    "def MakeTrainValTest(test_number, Fold1=Fold1, Fold2=Fold2, Fold3=Fold3, Fold4=Fold4, Fold5=Fold5, Fold1_y=Fold1_y, Fold2_y=Fold2_y, Fold3_y=Fold3_y, Fold4_y=Fold4_y, Fold5_y=Fold5_y, Fold1_y_smooth=Fold1_y_smooth, Fold2_y_smooth=Fold2_y_smooth, Fold3_y_smooth=Fold3_y_smooth, Fold4_y_smooth=Fold4_y_smooth, Fold5_y_smooth=Fold5_y_smooth):\n",
    "    list_Folds = list([Fold1, Fold2, Fold3, Fold4, Fold5])\n",
    "    list_Folds_y = list([Fold1_y, Fold2_y, Fold3_y, Fold4_y, Fold5_y])\n",
    "    list_Folds_y_smooth = list([Fold1_y_smooth, Fold2_y_smooth, Fold3_y_smooth, Fold4_y_smooth, Fold5_y_smooth])\n",
    "    number_val_test = []\n",
    "    Train_list = []\n",
    "    Val_list = []\n",
    "    Test_list = []\n",
    "    Train_list_y = []\n",
    "    Val_list_y = []\n",
    "    Test_list_y = []\n",
    "    length = 0\n",
    "    \n",
    "    Test_list = list_Folds[test_number-1]\n",
    "    Test_list_y = list_Folds_y[test_number-1]\n",
    "    number_val_test.append(test_number-1)\n",
    "    \n",
    "    if(test_number == 1):\n",
    "        Val_list = list_Folds[4]\n",
    "        Val_list_y = list_Folds_y[4]\n",
    "        number_val_test.append(4)\n",
    "    else:\n",
    "        Val_list = list_Folds[test_number-2]\n",
    "        Val_list_y = list_Folds_y[test_number-2]\n",
    "        number_val_test.append(test_number-2)\n",
    "    \n",
    "    for index in range(5):\n",
    "        length = len(list_Folds[index])\n",
    "        if(index != number_val_test[0] and index != number_val_test[1]):\n",
    "            for index2 in range(length):\n",
    "                Train_list.append(list_Folds[index][index2])\n",
    "                Train_list_y.append(list_Folds_y_smooth[index][index2])       \n",
    "    \n",
    "    return Train_list, Val_list, Test_list, Train_list_y, Val_list_y, Test_list_y "
   ]
  },
  {
   "cell_type": "code",
   "execution_count": 17,
   "metadata": {
    "collapsed": true
   },
   "outputs": [],
   "source": [
    "Train_list, Val_list, Test_list, Train_list_y, Val_list_y, Test_list_y = MakeTrainValTest(1)"
   ]
  },
  {
   "cell_type": "markdown",
   "metadata": {},
   "source": [
    "# Functions utilized"
   ]
  },
  {
   "cell_type": "code",
   "execution_count": 18,
   "metadata": {
    "collapsed": true
   },
   "outputs": [],
   "source": [
    "# function to compute the class accuracy\n",
    "\n",
    "def ComputeAccuracy(True_classes_list, predicted_classes_list):\n",
    "    accuracy = 0\n",
    "    assert len(True_classes_list) == len(predicted_classes_list)\n",
    "    for index in range(len(True_classes_list)):\n",
    "        if(all (True_classes_list[index] == predicted_classes_list[index])):\n",
    "            accuracy += 1\n",
    "    accuracy /= len(predicted_classes_list)\n",
    "    return(accuracy)"
   ]
  },
  {
   "cell_type": "code",
   "execution_count": 19,
   "metadata": {
    "collapsed": true
   },
   "outputs": [],
   "source": [
    "def PearsonCor(pred_val_list, val_list_y):\n",
    "    pearson_cor = 0\n",
    "    assert len(pred_val_list) == len(val_list_y)\n",
    "    for index in range(len(pred_val_list)):\n",
    "        pearson_cor += pearsonr(np.reshape(pred_val_list[index], (pred_val_list[index].shape[0],)), np.reshape(val_list_y[index], (val_list_y[index].shape[0],)))[0]\n",
    "    return(pearson_cor/len(pred_val_list)) "
   ]
  },
  {
   "cell_type": "code",
   "execution_count": 20,
   "metadata": {
    "collapsed": true
   },
   "outputs": [],
   "source": [
    "def ComputeCorr(pred, truth):\n",
    "    result = pearsonr(pred, np.reshape(np.asarray(truth),(len(pred),)))\n",
    "    return(result)"
   ]
  },
  {
   "cell_type": "code",
   "execution_count": 21,
   "metadata": {
    "collapsed": true
   },
   "outputs": [],
   "source": [
    "def CCC(pred, truth, pearson):\n",
    "    result = (2*pearson*np.std(pred)*np.std(truth))/(np.std(pred)**2+np.std(truth)**2+(np.mean(pred)-np.mean(truth))**2)\n",
    "    return(result)"
   ]
  },
  {
   "cell_type": "code",
   "execution_count": 22,
   "metadata": {
    "collapsed": true
   },
   "outputs": [],
   "source": [
    "def tfPearson(pred, truth):\n",
    "    cov_xx = (1 / (tf.cast((tf.shape(pred)[0] - 1),tf.float32)) * tf.reduce_sum((pred - tf.reduce_mean(pred))**2))\n",
    "    cov_yy = (1 / (tf.cast((tf.shape(pred)[0] - 1),tf.float32)) * tf.reduce_sum((truth - tf.reduce_mean(truth))**2))\n",
    "    cov_xy = (1 / (tf.cast((tf.shape(pred)[0] - 1),tf.float32)) * tf.reduce_sum((pred - tf.reduce_mean(pred)) * (truth - tf.reduce_mean(truth))))\n",
    "    tfPears = cov_xy/(tf.sqrt(cov_yy)*tf.sqrt(cov_xx))\n",
    "    return cov_xx, cov_yy, cov_xy, tfPears"
   ]
  },
  {
   "cell_type": "code",
   "execution_count": 36,
   "metadata": {
    "collapsed": true
   },
   "outputs": [],
   "source": [
    "def tfCCC(pred, truth):\n",
    "    cov_xx, cov_yy, cov_xy, tfPears = tfPearson(tf.cast(pred, tf.float32), tf.cast(truth, tf.float32))\n",
    "    CCC = (2*tfPears*tf.sqrt(cov_xx)*tf.sqrt(cov_yy))/(tf.sqrt(cov_xx)**2+tf.sqrt(cov_yy)**2+(tf.reduce_mean(tf.cast(pred, tf.float32))-tf.reduce_mean(tf.cast(truth, tf.float32)))**2)\n",
    "    return(-CCC)"
   ]
  },
  {
   "cell_type": "code",
   "execution_count": 24,
   "metadata": {
    "collapsed": false
   },
   "outputs": [],
   "source": [
    "def MSECov(pred, truth):\n",
    "    cov_xy = (1 /(tf.cast((tf.shape(pred)[0] - 1),tf.float32)) * tf.reduce_sum((pred - tf.reduce_mean(pred)) * (truth - tf.reduce_mean(truth))))\n",
    "    MSE = tf.cast(tf.losses.mean_squared_error(predictions = pred, labels = truth), tf.float32)\n",
    "    loss = 0*MSE-cov_xy\n",
    "    return(loss)"
   ]
  },
  {
   "cell_type": "code",
   "execution_count": 25,
   "metadata": {
    "collapsed": true
   },
   "outputs": [],
   "source": [
    "def epsilon_Loss2(labels, predictions, epsilon = 0.001, delta = 0.7, slope = 0.75):\n",
    "    residual = tf.abs(labels-predictions)\n",
    "    outcome_1 = tf.zeros(shape=(1,))\n",
    "    outcome_2 = residual - epsilon\n",
    "    outcome_3 = delta - epsilon + slope * residual\n",
    "    result_2 = tf.cond(tf.reduce_mean(residual - epsilon) < delta, lambda: outcome_2, lambda: outcome_3)\n",
    "    result = tf.cond(tf.reduce_mean(residual - epsilon) < 0, lambda: outcome_1, lambda: result_2)\n",
    "    result = tf.reduce_mean(result)\n",
    "    return(result)"
   ]
  },
  {
   "cell_type": "code",
   "execution_count": 26,
   "metadata": {
    "collapsed": true
   },
   "outputs": [],
   "source": [
    "# p must be smaller than num_element\n",
    "def movingAvgTensor(tensor, p):\n",
    "    length = tensor.get_shape()[1]\n",
    "    num_element = tensor.get_shape()[0]\n",
    "    z_tensor = tf.zeros([1, length])\n",
    "    for index in range(num_element-p):\n",
    "        #z_tensor[index,:] = tf.reduce_mean(tensor[index:index+p], 0)\n",
    "        z_tensor = tf.concat([z_tensor, tf.reshape(tf.reduce_mean(tensor[index:index+p,:], 0), (1,length))], axis = 0)\n",
    "    for index in range(num_element-p,num_element):\n",
    "        #z_tensor[index,:] = tf.reduce_mean(tensor[index:length],0)\n",
    "        z_tensor = tf.concat([z_tensor, tf.reshape(tf.reduce_mean(tensor[index:length,:],0), (1, length))], axis = 0)\n",
    "    z_tensor = z_tensor[1:num_element+1,:]\n",
    "    return(z_tensor)"
   ]
  },
  {
   "cell_type": "code",
   "execution_count": 27,
   "metadata": {
    "collapsed": true
   },
   "outputs": [],
   "source": [
    "def reverseTensor(tensor):\n",
    "    length = tensor.get_shape()[1]\n",
    "    num_element = tensor.get_shape()[0]\n",
    "    z_tensor = tf.zeros([num_element, 1])\n",
    "    for index in range(length):\n",
    "        z_tensor = tf.concat([z_tensor, tf.reshape(tensor[:,length-index-1], (num_element, 1))], axis = 1)\n",
    "    z_tensor = z_tensor[:,1:]\n",
    "    return(z_tensor)"
   ]
  },
  {
   "cell_type": "code",
   "execution_count": 28,
   "metadata": {
    "collapsed": true
   },
   "outputs": [],
   "source": [
    "def Pooling(tensor, p):\n",
    "    tensor_1 = movingAvgTensor(tensor, p)\n",
    "    reversed_tensor = reverseTensor(tensor)\n",
    "    tensor_2 = movingAvgTensor(reversed_tensor, p)\n",
    "    final_tensor = tf.add(tensor_1, tensor_2)\n",
    "    return(final_tensor)"
   ]
  },
  {
   "cell_type": "code",
   "execution_count": 29,
   "metadata": {
    "collapsed": true
   },
   "outputs": [],
   "source": [
    "def FixCCC(array,window_size):\n",
    "    #if(len(np.unique(array)) == 1):\n",
    "    rand_array = np.reshape(np.random.uniform(-0.02,0.02,window_size), (window_size,1))\n",
    "    array += rand_array\n",
    "    return(array)\n",
    "    #else:\n",
    "    #    return(array)      "
   ]
  },
  {
   "cell_type": "code",
   "execution_count": 30,
   "metadata": {
    "collapsed": true
   },
   "outputs": [],
   "source": [
    "def FixtfCCC(tensor, window_size):\n",
    "    rand_tensor = tf.random_uniform(shape = (window_size,1), minval=-0.02, maxval = 0.02)\n",
    "    new_tensor = tf.add(rand_tensor, tensor)\n",
    "    return(new_tensor)"
   ]
  },
  {
   "cell_type": "code",
   "execution_count": 31,
   "metadata": {
    "collapsed": true
   },
   "outputs": [],
   "source": [
    "def ManyToOne(x_seq, y_seq, window_size, val_boolean):\n",
    "    list_x = []\n",
    "    list_y = []\n",
    "    list_x_shuffled = []\n",
    "    list_y_shuffled = []\n",
    "    assert len(x_seq) == len(y_seq)\n",
    "    lenght_new_seq = len(x_seq)-window_size+1\n",
    "    \n",
    "    for index in range(lenght_new_seq):\n",
    "        list_x.append(x_seq[index:window_size+index,:])\n",
    "        list_y.append(y_seq[window_size-1+index])\n",
    "    \n",
    "    if(val_boolean == 0):\n",
    "        indices = list(range(lenght_new_seq))\n",
    "        shuffle(indices)\n",
    "    \n",
    "        for element in indices:\n",
    "            list_x_shuffled.append(list_x[element])\n",
    "            list_y_shuffled.append(list_y[element])\n",
    "            \n",
    "    elif(val_boolean == 1):\n",
    "        list_x_shuffled = list_x\n",
    "        list_y_shuffled = list_y\n",
    "        \n",
    "    return list_x_shuffled, list_y_shuffled  "
   ]
  },
  {
   "cell_type": "code",
   "execution_count": 32,
   "metadata": {
    "collapsed": true
   },
   "outputs": [],
   "source": [
    "def ManyToMany(x_seq, y_seq, window_size, val_boolean):\n",
    "    list_x = []\n",
    "    list_y = []\n",
    "    list_x_shuffled = []\n",
    "    list_y_shuffled = []\n",
    "    assert len(x_seq) == len(y_seq)\n",
    "    lenght_new_seq = len(x_seq)-window_size+1\n",
    "    \n",
    "    for index in range(lenght_new_seq):\n",
    "        list_x.append(x_seq[index:window_size+index,:])\n",
    "        list_y.append(y_seq[index:window_size+index])\n",
    "    \n",
    "    if(val_boolean == 0):\n",
    "        indices = list(range(lenght_new_seq))\n",
    "        shuffle(indices)\n",
    "    \n",
    "        for element in indices:\n",
    "            list_x_shuffled.append(list_x[element])\n",
    "            list_y_shuffled.append(list_y[element])\n",
    "            \n",
    "    elif(val_boolean == 1):\n",
    "        list_x_shuffled = list_x\n",
    "        list_y_shuffled = list_y\n",
    "        \n",
    "    return list_x_shuffled, list_y_shuffled "
   ]
  },
  {
   "cell_type": "markdown",
   "metadata": {},
   "source": [
    "# Bidirectional LSTM encoder"
   ]
  },
  {
   "cell_type": "code",
   "execution_count": 33,
   "metadata": {
    "collapsed": true
   },
   "outputs": [],
   "source": [
    "timesteps_1 = 2\n",
    "window_size = 25\n",
    "p = 2\n",
    "batch_size = window_size\n",
    "n_epochs = 20\n",
    "# Hidden layer for the LSTMs\n",
    "hidden_size_bilstm = 136\n",
    "hidden_size_mainlstm = 136\n",
    "\n",
    "# Hidden size for the fully connected layer\n",
    "FC1 = 64\n",
    "\n",
    "alpha_value = window_size*2\n",
    "num_input = 136\n",
    "epsilon = 0.001\n",
    "beta = 0.02\n",
    "learning_rate = 0.000001\n",
    "\n",
    "alpha_value = window_size\n",
    "\n",
    "switch_loss = 0 #(number of epoch at which loss is switch from MSE to epsilon)\n",
    "MC_samples = 12"
   ]
  },
  {
   "cell_type": "code",
   "execution_count": 34,
   "metadata": {
    "collapsed": false
   },
   "outputs": [],
   "source": [
    "def BidirectionalLSTM(train_x, train_y, val_x, val_y,hidden_size_bilstm=hidden_size_bilstm, hidden_size_mainlstm=hidden_size_mainlstm, batch_size = batch_size,  n_epochs=n_epochs, epsilon = epsilon, learning_rate=learning_rate):\n",
    "    \n",
    "    \n",
    "    with tf.variable_scope('data'):\n",
    "        alpha = tf.placeholder_with_default(1.0, shape=())\n",
    "        prob = tf.placeholder_with_default(1.0, shape=())\n",
    "        loss_bool = tf.placeholder_with_default(1.0, shape=())\n",
    "        X_or = tf.placeholder(shape = [window_size, timesteps_1, num_input], dtype = tf.float32, name = \"input\")\n",
    "        X = tf.unstack(X_or, timesteps_1, 1)\n",
    "        y = tf.placeholder(shape = [window_size,1], dtype = tf.float32, name = \"label_annotation\")\n",
    "\n",
    "    #Bidirectional lstm with different weights\n",
    "    #with tf.variable_scope('lstm_cell_forward'):\n",
    "    #    lstm_cell_f = tf.nn.rnn_cell.BasicLSTMCell(hidden_size_bilstm, forget_bias= 1.0)\n",
    "    #with tf.variable_scope('lstm_cell_backward'):\n",
    "    #    lstm_cell_b = tf.nn.rnn_cell.BasicLSTMCell(hidden_size_bilstm, forget_bias = 1.0)\n",
    "     \n",
    "    #Bidirectional lstm with shared weights (makes more sense for them to be shared)\n",
    "    with tf.variable_scope('lstm_cell_bidirectional'):\n",
    "        lstm_cell_f = tf.nn.rnn_cell.BasicLSTMCell(hidden_size_bilstm, forget_bias= 1.0)\n",
    "    with tf.variable_scope('lstm_cell_bidirectional', reuse=True):\n",
    "        lstm_cell_b = tf.nn.rnn_cell.BasicLSTMCell(hidden_size_bilstm, forget_bias = 1.0)\n",
    "     \n",
    "    with tf.variable_scope(\"lstm_bidirectional\"):\n",
    "        bi_outputs, _, _ = tf.nn.static_bidirectional_rnn(lstm_cell_f, lstm_cell_b, inputs = X, dtype= tf.float32)\n",
    "        last_output = bi_outputs[-1]\n",
    "        \n",
    "        \n",
    "        batch_mean2, batch_var2 = tf.nn.moments(last_output,[0])\n",
    "        scale2 = tf.Variable(tf.ones([hidden_size_bilstm*2]))\n",
    "        beta2 = tf.Variable(tf.zeros([hidden_size_bilstm*2]))\n",
    "        BN2 = tf.nn.batch_normalization(last_output,batch_mean2, batch_var2, beta2, scale2, epsilon) \n",
    "        BN2 = tf.nn.dropout(BN2, prob, noise_shape=[1,hidden_size_bilstm*2])\n",
    "        pooled_BN2 = Pooling(BN2, p)\n",
    "        \n",
    "        pooled_BN2 = tf.reshape(pooled_BN2, (1, window_size, hidden_size_bilstm*2))\n",
    "        pooled_BN2 = tf.transpose(pooled_BN2, [1, 0, 2])\n",
    "        pooled_BN2 = tf.unstack(pooled_BN2)\n",
    "    \n",
    "    with tf.variable_scope('lstm_cell_2'):\n",
    "        rnn_layers = [tf.nn.rnn_cell.LSTMCell(size) for size in [hidden_size_mainlstm, hidden_size_mainlstm]]\n",
    "        multi_rnn_cell = tf.nn.rnn_cell.MultiRNNCell(rnn_layers)\n",
    "        lstm_outputs2, lstm_state2 =  tf.contrib.rnn.static_rnn(cell=multi_rnn_cell,inputs=pooled_BN2,dtype=tf.float32)\n",
    "        lstm_outputs2 = tf.stack(tf.squeeze(lstm_outputs2))\n",
    "        \n",
    "        batch_mean3, batch_var3 = tf.nn.moments(lstm_outputs2,[0])\n",
    "        scale3 = tf.Variable(tf.ones([hidden_size_mainlstm]))\n",
    "        beta3 = tf.Variable(tf.zeros([hidden_size_mainlstm]))\n",
    "        BN3 = tf.nn.batch_normalization(lstm_outputs2,batch_mean3, batch_var3, beta3, scale3, epsilon) \n",
    "        BN3 = tf.nn.dropout(BN3, prob, noise_shape=[1,hidden_size_mainlstm])\n",
    "        \n",
    "        \n",
    "    with tf.variable_scope('Fully_connected_Layer1'):\n",
    "        W_hidden = tf.Variable(tf.random_normal(shape = [hidden_size_mainlstm, FC1], stddev = 0.1), name = \"weights_hidden\", trainable = True)\n",
    "        hidden_relu = tf.matmul(BN3, W_hidden)\n",
    "        \n",
    "        batch_mean4, batch_var4 = tf.nn.moments(hidden_relu,[0])\n",
    "        scale4 = tf.Variable(tf.ones([FC1]))\n",
    "        beta4 = tf.Variable(tf.zeros([FC1]))\n",
    "        BN4 = tf.nn.batch_normalization(hidden_relu,batch_mean4, batch_var4, beta4, scale4, epsilon)\n",
    "        BN4 = tf.nn.relu(BN4, name = \"ReLu_hidden_layer\")\n",
    "        BN4 = tf.nn.dropout(BN4, prob, noise_shape=[1,FC1])\n",
    "         \n",
    "    with tf.variable_scope('loss'):\n",
    "        W_hidden2 = tf.Variable(tf.random_normal(shape = [FC1, 1], stddev = 0.1), name = \"linear_layer\", trainable = True)\n",
    "        logits_all = tf.matmul(BN4, W_hidden2)\n",
    "        print(logits_all.get_shape())\n",
    "        logits_all = FixtfCCC(logits_all, window_size)\n",
    "        print(logits_all.get_shape())\n",
    "        #logit_main = logits_all[window_size-1]\n",
    "        \n",
    "        logits_others = logits_all[:window_size-1,:]\n",
    "        logits_all =  tf.reshape(logits_all, (1,window_size))\n",
    "        W_all = tf.Variable(tf.random_normal(shape = [window_size, 1], stddev = 0.1), name = \"linear_others\", trainable = True)\n",
    "        logit_main = tf.matmul(logits_all,W_all)\n",
    "        \n",
    "\n",
    "        # 3) epsilon-insensitive loss and MSE loss version 1\n",
    "        \n",
    "        rangetensor = tf.reshape(tf.range(1, window_size, delta=1, dtype=None, name='range'), (window_size-1,1))\n",
    "        \n",
    "        loss =  tf.cond(tf.equal(loss_bool, 1.0), lambda: epsilon_Loss2(labels = y[:window_size-1], predictions = logits_others), lambda: tf.reduce_mean(tf.losses.mean_squared_error(predictions = logits_others, labels = y[:window_size-1], weights = rangetensor)))\n",
    "        loss_main = tf.reduce_mean(tf.losses.mean_squared_error(predictions = logit_main, labels = y[window_size-1:]))\n",
    "        loss += alpha * loss_main\n",
    "        #loss_cov = MSECov(tf.concat([logits_others,logit_main], axis = 0), y)\n",
    "        #_,_,_,loss_cc = tfPearson(tf.concat([logits_others,logit_main], axis = 0), y)\n",
    "        #loss += loss_cov\n",
    "        #loss -= loss_cc\n",
    "        loss_tf = tfCCC(tf.concat([logits_others,logit_main], axis = 0), y)\n",
    "        loss += loss_tf\n",
    "        #loss += alpha * loss_main\n",
    "        \n",
    "        \n",
    "        l2 = beta * sum(tf.nn.l2_loss(tf_var) for tf_var in tf.trainable_variables() if (\"bias_hidden2\" not in tf_var.name))\n",
    "        loss += tf.cast(l2, dtype = tf.float32)\n",
    "\n",
    "    global_step = tf.Variable(0, trainable=False)\n",
    "    optimizer = tf.train.AdamOptimizer(learning_rate = learning_rate)\n",
    "    train_op = optimizer.minimize(loss)\n",
    "    \n",
    "    init = tf.global_variables_initializer()\n",
    "    sess = tf.Session()\n",
    "    sess.run(init)\n",
    "    \n",
    "    #saver = tf.train.Saver()\n",
    "    writer = tf.summary.FileWriter('./graphs/LSTM', sess.graph)\n",
    "    \n",
    "    #ckpt = tf.train.get_checkpoint_state(os.path.dirname('checkpoints/lstm/checkpoint'))\n",
    "\n",
    "    #if ckpt and ckpt.model_checkpoint_path:\n",
    "    #    saver.restore(sess, ckpt.model_checkpoint_path)\n",
    "    \n",
    "    val_loss = []\n",
    "    train_loss_list = []\n",
    "    for i in range(1, n_epochs+1):\n",
    "        if(i < switch_loss):\n",
    "            loss_boolean = 0.0\n",
    "        else:\n",
    "            loss_boolean = 1.0\n",
    "        pred_val = []\n",
    "        train_loss_list = []\n",
    "\n",
    "        indices = list(range(len(train_x)))\n",
    "        shuffle(indices)\n",
    "        for index1 in indices:\n",
    "            train_loss = 0\n",
    "            list_x, list_y = ManyToMany(train_x[index1], train_y[index1], window_size = window_size, val_boolean = 0)\n",
    "            \n",
    "            for index in range(len(list_x)):\n",
    "                \n",
    "                X_batch = np.reshape(list_x[index], (window_size, 2, num_input))\n",
    "                Y_batch = FixCCC(np.reshape(list_y[index], (window_size,1)), window_size)\n",
    "                \n",
    "                _, Loss = sess.run([train_op, loss], feed_dict = {X_or: X_batch, y: Y_batch, alpha: window_size, loss_bool: loss_boolean, prob: 0.7})\n",
    "\n",
    "                train_loss += Loss\n",
    "            train_loss /= len(list_x)\n",
    "            train_loss_list.append(train_loss)\n",
    "        \n",
    "        train_loss_sum = sum(train_loss_list)/len(train_x)\n",
    "        train_loss_list.append(train_loss_sum)\n",
    "            \n",
    "        print('Epoch ' + str(i) + ' done.')\n",
    "        if(i % 1 == 0):\n",
    "           \n",
    "            list_list_val_y = []\n",
    "            pred_val = []        \n",
    "            loss_main_list = []\n",
    "            for index in range(len(val_x)):\n",
    "              \n",
    "                total_loss_main = 0\n",
    "                list_x_val, list_y_val = ManyToMany(val_x[index], val_y[index], window_size = window_size, val_boolean = 1)\n",
    "                \n",
    "                for index1 in range(len(list_x_val)):\n",
    "                    \n",
    "                    X_batch = np.reshape(list_x_val[index1], (window_size, 2, num_input))\n",
    "                    Y_batch = FixCCC(np.reshape(list_y_val[index1], (window_size,1)), window_size)\n",
    "                    loss_batch, logits_batch = sess.run([loss, logit_main], feed_dict = {X_or: X_batch, y: Y_batch, alpha: window_size, loss_bool: loss_boolean, prob: 1})\n",
    "                    \n",
    "                    pred_val.append(logits_batch[0])\n",
    "                    list_list_val_y.append(Y_batch[window_size-1])\n",
    "                \n",
    "                    total_loss_main += loss_batch\n",
    "                \n",
    "                total_loss_main /= len(list_x_val)\n",
    "                loss_main_list.append(total_loss_main)\n",
    "   \n",
    "            main_sum_loss =  sum(loss_main_list)/len(val_x)\n",
    "\n",
    "            # Compute the key metrics\n",
    "        \n",
    "            pearson = pearsonr(np.reshape(np.asarray(pred_val), (len(pred_val),)), np.reshape(np.asarray(list_list_val_y),(len(pred_val),)))\n",
    "            Val_RBF25, Val_RBF100 = SmoothResponse2(pred_val) \n",
    "            corr25 = ComputeCorr(Val_RBF25, list_list_val_y)\n",
    "            corr100 = ComputeCorr(Val_RBF100, list_list_val_y)\n",
    "            CCC25 = CCC(Val_RBF25, list_list_val_y, corr25[0])\n",
    "            CCC100 = CCC(Val_RBF100, list_list_val_y, corr100[0])\n",
    "            CCCraw = CCC(pred_val, list_list_val_y, pearson[0])\n",
    "            \n",
    "            print(\"Step: \" + str(i) + \": CCC val loss is \" + str(main_sum_loss)+ \" CCC training loss \" + str(train_loss_sum))\n",
    "            print(\"The pearson coefficient is: \" + str(pearson) + \". The CCC is: \" + str(CCCraw))\n",
    "            print(\"For RBF25, the pearson coefficient is: \" + str(corr25)+ \". The CCC is: \" + str(CCC25))\n",
    "            print(\"For RBF100, the pearson coefficient is: \" + str(corr100)+ \". The CCC is: \" + str(CCC100))\n",
    "            \n",
    "            val_loss.append(main_sum_loss)\n",
    "            #saver.save(sess, 'checkpoints/lstm/method1', i)\n",
    "\n",
    "          \n",
    "    lowest_loss = min(val_loss)\n",
    "    min_index = (val_loss.index(min(val_loss))+1)\n",
    "  \n",
    "    print(\"The lowest validation loss is at epoch \" + str(min_index) + \" is: \" + str(lowest_loss))\n",
    "     \n",
    "    writer.close()    \n",
    "    sess.close()\n",
    "    tf.reset_default_graph()\n",
    "    return lowest_loss, min_index, val_loss, train_loss_list, pred_val, list_list_val_y"
   ]
  },
  {
   "cell_type": "code",
   "execution_count": 35,
   "metadata": {
    "collapsed": false,
    "scrolled": false
   },
   "outputs": [
    {
     "name": "stdout",
     "output_type": "stream",
     "text": [
      "(25, 1)\n",
      "(25, 1)\n",
      "Epoch 1 done.\n",
      "Step: 1: CCC val loss is 22.7612316568 CCC training loss 26.9099964428\n",
      "The pearson coefficient is: (0.0058159447900380445, 0.41014062163224307). The CCC is: 0.00499132837953\n",
      "For RBF25, the pearson coefficient is: (0.019368116462904397, 0.006085836675592626). The CCC is: 0.00833279384922\n",
      "For RBF100, the pearson coefficient is: (0.048096637060712398, 9.4088966903740872e-12). The CCC is: 0.015297853993\n",
      "Epoch 2 done.\n",
      "Step: 2: CCC val loss is 21.0386264671 CCC training loss 22.5159072534\n",
      "The pearson coefficient is: (0.018764289331764571, 0.0078702829095140224). The CCC is: 0.0128465768325\n",
      "For RBF25, the pearson coefficient is: (0.056591434997906809, 1.0509106508645312e-15). The CCC is: 0.0162941704897\n",
      "For RBF100, the pearson coefficient is: (0.10347212341962195, 7.1574476604425651e-49). The CCC is: 0.0217817835654\n",
      "Epoch 3 done.\n",
      "Step: 3: CCC val loss is 20.7846505495 CCC training loss 21.5614075609\n",
      "The pearson coefficient is: (0.071841204211757548, 2.2634352515865957e-24). The CCC is: 0.0399633055434\n",
      "For RBF25, the pearson coefficient is: (0.15982592929777575, 7.1213363152057797e-115). The CCC is: 0.0447271249141\n",
      "For RBF100, the pearson coefficient is: (0.20116926701241861, 3.4210380576616288e-182). The CCC is: 0.0447977892898\n",
      "Epoch 4 done.\n",
      "Step: 4: CCC val loss is 19.8715450078 CCC training loss 20.768193766\n",
      "The pearson coefficient is: (0.10208194993779714, 1.3132933358563335e-47). The CCC is: 0.0534485710822\n",
      "For RBF25, the pearson coefficient is: (0.20580262067639743, 9.0643151909755033e-191). The CCC is: 0.0575275748037\n",
      "For RBF100, the pearson coefficient is: (0.24687473940274945, 3.1169892836865521e-276). The CCC is: 0.0557654220162\n",
      "Epoch 5 done.\n",
      "Step: 5: CCC val loss is 19.2523911306 CCC training loss 20.1551746686\n",
      "The pearson coefficient is: (0.12391102059857617, 1.8605396375170361e-69). The CCC is: 0.0612641540807\n",
      "For RBF25, the pearson coefficient is: (0.23292284378997574, 2.8471533174023316e-245). The CCC is: 0.0643949464811\n",
      "For RBF100, the pearson coefficient is: (0.27319370388710029, 0.0). The CCC is: 0.0618338646448\n",
      "Epoch 6 done.\n",
      "Step: 6: CCC val loss is 18.7637317202 CCC training loss 19.5212016266\n",
      "The pearson coefficient is: (0.13336283868430965, 2.9452920112008353e-80). The CCC is: 0.0630534751973\n",
      "For RBF25, the pearson coefficient is: (0.23590214537473164, 1.0282626805657142e-251). The CCC is: 0.0654595843937\n",
      "For RBF100, the pearson coefficient is: (0.27496821691070383, 0.0). The CCC is: 0.0628112030829\n",
      "Epoch 7 done.\n",
      "Step: 7: CCC val loss is 18.3270758956 CCC training loss 18.9880634642\n",
      "The pearson coefficient is: (0.14665865757767566, 7.7362611553199984e-97). The CCC is: 0.0747172608917\n",
      "For RBF25, the pearson coefficient is: (0.2298849728068704, 8.5036874371924419e-239). The CCC is: 0.0774633698699\n",
      "For RBF100, the pearson coefficient is: (0.26262043422024572, 1.2627031001080701e-313). The CCC is: 0.0732054718903\n",
      "Epoch 8 done.\n",
      "Step: 8: CCC val loss is 18.0695685535 CCC training loss 18.4842263821\n",
      "The pearson coefficient is: (0.13455706120896488, 1.1126866231284867e-81). The CCC is: 0.0561044254487\n",
      "For RBF25, the pearson coefficient is: (0.23032589155342248, 9.900342545663022e-240). The CCC is: 0.0583411302736\n",
      "For RBF100, the pearson coefficient is: (0.27346752677416053, 0.0). The CCC is: 0.0563796416793\n",
      "Epoch 9 done.\n",
      "Step: 9: CCC val loss is 17.5053453867 CCC training loss 18.0150411395\n",
      "The pearson coefficient is: (0.14654929508273309, 1.0754038869869321e-96). The CCC is: 0.0716749334103\n",
      "For RBF25, the pearson coefficient is: (0.21782265707093648, 5.1759446581253153e-214). The CCC is: 0.073064678079\n",
      "For RBF100, the pearson coefficient is: (0.25219997019655366, 1.3844534409521181e-288). The CCC is: 0.069678916211\n",
      "Epoch 10 done.\n",
      "Step: 10: CCC val loss is 17.0956599234 CCC training loss 17.6074782457\n",
      "The pearson coefficient is: (0.14665994615981304, 7.7062849246997311e-97). The CCC is: 0.0701872800058\n",
      "For RBF25, the pearson coefficient is: (0.21344335266178852, 2.2345498841415651e-205). The CCC is: 0.0711297430428\n",
      "For RBF100, the pearson coefficient is: (0.24639188394203893, 3.9723756231786358e-275). The CCC is: 0.068092063841\n",
      "Epoch 11 done.\n",
      "Step: 11: CCC val loss is 16.8419838311 CCC training loss 17.2543725986\n",
      "The pearson coefficient is: (0.14818328883518461, 7.6354849451381832e-99). The CCC is: 0.0739755571985\n",
      "For RBF25, the pearson coefficient is: (0.2077803190937044, 1.7054024207382767e-194). The CCC is: 0.0749980666549\n",
      "For RBF100, the pearson coefficient is: (0.23873487469777449, 6.3377023434336324e-258). The CCC is: 0.0716653017459\n",
      "Epoch 12 done.\n",
      "Step: 12: CCC val loss is 16.474096907 CCC training loss 16.8463273228\n",
      "The pearson coefficient is: (0.14468983319577247, 2.7969712671333718e-94). The CCC is: 0.0688352251917\n",
      "For RBF25, the pearson coefficient is: (0.20391713781029383, 2.9724271344519074e-187). The CCC is: 0.0691585532098\n",
      "For RBF100, the pearson coefficient is: (0.23955314378097084, 9.8312305962327554e-260). The CCC is: 0.0664629307321\n",
      "Epoch 13 done.\n",
      "Step: 13: CCC val loss is 16.3300477394 CCC training loss 16.5005962215\n",
      "The pearson coefficient is: (0.13456921047569959, 1.0760474935719212e-81). The CCC is: 0.0638766132763\n",
      "For RBF25, the pearson coefficient is: (0.1914223121093144, 7.7468162557437253e-165). The CCC is: 0.0657284274936\n",
      "For RBF100, the pearson coefficient is: (0.22826307224147133, 2.2286951924741939e-235). The CCC is: 0.0644544297736\n",
      "Epoch 14 done.\n",
      "Step: 14: CCC val loss is 15.9216584214 CCC training loss 16.1933338577\n",
      "The pearson coefficient is: (0.13511301239667328, 2.3964547777329106e-82). The CCC is: 0.0639290213434\n",
      "For RBF25, the pearson coefficient is: (0.19061271046439857, 1.9453036361794394e-163). The CCC is: 0.0655558384158\n",
      "For RBF100, the pearson coefficient is: (0.22693020015757148, 1.3716549538542329e-232). The CCC is: 0.0641951715024\n",
      "Epoch 15 done.\n",
      "Step: 15: CCC val loss is 15.7801710189 CCC training loss 15.8550356544\n",
      "The pearson coefficient is: (0.12299514472382986, 1.8746739888572379e-68). The CCC is: 0.0574492589742\n",
      "For RBF25, the pearson coefficient is: (0.17266898713805537, 4.9234617432436749e-134). The CCC is: 0.0582438247769\n",
      "For RBF100, the pearson coefficient is: (0.20809521235272549, 4.3158607017437758e-195). The CCC is: 0.0572156932039\n",
      "Epoch 16 done.\n",
      "Step: 16: CCC val loss is 15.4525700335 CCC training loss 15.6151108813\n",
      "The pearson coefficient is: (0.13407037757057191, 4.2439453946298021e-81). The CCC is: 0.0683560075091\n",
      "For RBF25, the pearson coefficient is: (0.18417464237806486, 1.5663929623045358e-152). The CCC is: 0.0703300028136\n",
      "For RBF100, the pearson coefficient is: (0.21490273214423519, 3.1109372355882697e-208). The CCC is: 0.0674868834118\n",
      "Epoch 17 done.\n",
      "Step: 17: CCC val loss is 15.2461433318 CCC training loss 15.3422851506\n",
      "The pearson coefficient is: (0.12962386796529202, 6.9046877085181916e-76). The CCC is: 0.0658308183763\n",
      "For RBF25, the pearson coefficient is: (0.17777693724156432, 4.3326459253042288e-142). The CCC is: 0.0674429741703\n",
      "For RBF100, the pearson coefficient is: (0.20953607315122966, 7.7967917789818307e-198). The CCC is: 0.0648114654164\n",
      "Epoch 18 done.\n",
      "Step: 18: CCC val loss is 15.0952494154 CCC training loss 15.1109237644\n",
      "The pearson coefficient is: (0.11396723291308092, 5.6940243509177466e-59). The CCC is: 0.0574990139733\n",
      "For RBF25, the pearson coefficient is: (0.16326547932656832, 7.4793665260602292e-120). The CCC is: 0.0615154109307\n",
      "For RBF100, the pearson coefficient is: (0.19602960264378697, 6.3287238082960521e-173). The CCC is: 0.0603616893498\n",
      "Epoch 19 done.\n",
      "Step: 19: CCC val loss is 14.9489158746 CCC training loss 14.8676607998\n",
      "The pearson coefficient is: (0.10051647782834745, 3.3159364697537226e-46). The CCC is: 0.0504957858654\n",
      "For RBF25, the pearson coefficient is: (0.14779427983988674, 2.4925199531589194e-98). The CCC is: 0.0548004070672\n",
      "For RBF100, the pearson coefficient is: (0.18081642502223075, 5.3080121311260498e-147). The CCC is: 0.054341541229\n",
      "Epoch 20 done.\n",
      "Step: 20: CCC val loss is 15.2538304074 CCC training loss 14.6633060233\n",
      "The pearson coefficient is: (0.10828039096718339, 2.2423390266773247e-53). The CCC is: 0.0540979342566\n",
      "For RBF25, the pearson coefficient is: (0.1502967988268199, 1.166131737029466e-101). The CCC is: 0.0572680820977\n",
      "For RBF100, the pearson coefficient is: (0.17869600570430838, 1.4483464300221825e-143). The CCC is: 0.0559279988153\n",
      "The lowest validation loss is at epoch 19 is: 14.9489158746\n"
     ]
    }
   ],
   "source": [
    "# RUN THE ABOVE\n",
    "\n",
    "#lowest_loss_list = []\n",
    "\n",
    "#for index in range(5):\n",
    "#    Train_list, Val_list, Test_list, Train_list_y, Val_list_y, Test_list_y = MakeTrainValTest(index+1)\n",
    "#    lowest_loss, min_index, loss, predictions_val, predictions_train = NeuralNetMethod1(Train_list, Train_list_y, Val_list, Val_list_y, 0.0001, 196,64, 16)\n",
    "#    lowest_loss_list.append(lowest_loss)\n",
    "\n",
    "lowest_loss, min_index, val_loss, train_loss_list, pred_val_mean, list_list_val_y = BidirectionalLSTM(Train_list, Train_list_y, Val_list, Val_list_y)"
   ]
  },
  {
   "cell_type": "code",
   "execution_count": 110,
   "metadata": {
    "collapsed": true
   },
   "outputs": [],
   "source": [
    "tf.reset_default_graph()"
   ]
  },
  {
   "cell_type": "code",
   "execution_count": 48,
   "metadata": {
    "collapsed": false
   },
   "outputs": [
    {
     "data": {
      "image/png": "[encoded data removed]",
      "text/plain": [
       "<matplotlib.figure.Figure at 0x1fe6566c4e0>"
      ]
     },
     "metadata": {},
     "output_type": "display_data"
    }
   ],
   "source": [
    "# function to plot true vs predicted\n",
    "\n",
    "def plotTrueVPred(true_values, predicted_values):\n",
    "    fig = plt.figure(figsize=(17, 6))\n",
    "    plt.plot(predicted_values)\n",
    "    plt.plot(true_values)\n",
    "    plt.title('Model prediction vs real labels')\n",
    "    plt.ylabel('Conflict intensity')\n",
    "    plt.xlabel('Frames')\n",
    "    plt.legend(['Predicted labels', 'True labels'], loc='upper left')\n",
    "    plt.show()\n",
    "    #fig.savefig('newfiguseless.png', bbox_inches='tight')\n",
    "    \n",
    "plotTrueVPred(list_list_val_y[3000:4000],pred_val_mean[3000:4000])"
   ]
  },
  {
   "cell_type": "code",
   "execution_count": null,
   "metadata": {
    "collapsed": true
   },
   "outputs": [],
   "source": []
  },
  {
   "cell_type": "code",
   "execution_count": null,
   "metadata": {
    "collapsed": true
   },
   "outputs": [],
   "source": []
  }
 ],
 "metadata": {
  "kernelspec": {
   "display_name": "Python [conda root]",
   "language": "python",
   "name": "conda-root-py"
  },
  "language_info": {
   "codemirror_mode": {
    "name": "ipython",
    "version": 3
   },
   "file_extension": ".py",
   "mimetype": "text/x-python",
   "name": "python",
   "nbconvert_exporter": "python",
   "pygments_lexer": "ipython3",
   "version": "3.5.2"
  }
 },
 "nbformat": 4,
 "nbformat_minor": 2
}
